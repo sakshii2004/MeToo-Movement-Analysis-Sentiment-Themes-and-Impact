{
 "cells": [
  {
   "cell_type": "markdown",
   "id": "5add8682",
   "metadata": {},
   "source": [
    "# OBJECTIVE 5 - Topic Modeling"
   ]
  },
  {
   "cell_type": "code",
   "execution_count": 1,
   "id": "3693ea7c",
   "metadata": {},
   "outputs": [],
   "source": [
    "import pandas as pd\n",
    "import numpy as np\n",
    "from sklearn.decomposition import LatentDirichletAllocation as LDA\n",
    "from sklearn.model_selection import GridSearchCV\n",
    "from sklearn.feature_extraction.text import TfidfVectorizer"
   ]
  },
  {
   "cell_type": "code",
   "execution_count": 2,
   "id": "62cddf0e",
   "metadata": {},
   "outputs": [],
   "source": [
    "df = pd.read_csv(\"dupes_removed.csv\")"
   ]
  },
  {
   "cell_type": "code",
   "execution_count": 21,
   "id": "0af10e91",
   "metadata": {},
   "outputs": [
    {
     "data": {
      "text/plain": [
       "Index(['text', 'text.1', 'favoriteCount', 'replyToSN', 'created', 'truncated',\n",
       "       'replyToSID', 'id', 'replyToUID', 'statusSource', 'screenName',\n",
       "       'retweetCount', 'isRetweet', 'retweeted', 'longitude', 'latitude',\n",
       "       'text_without_hashtag', 'expanded_tweet', 'punctuation_removed',\n",
       "       'tokenized_tweets', 'tokenized_stopword_removed_tweets',\n",
       "       'almost_clean_tweets', 'lemmatized_tweets', 'Topic_0', 'Topic_1',\n",
       "       'Topic_2', 'Topic_3', 'Topic_4', 'Topic_5', 'Topic_6', 'Topic_7',\n",
       "       'Topic_8', 'Topic_9', 'Topic_10', 'Topic_11'],\n",
       "      dtype='object')"
      ]
     },
     "execution_count": 21,
     "metadata": {},
     "output_type": "execute_result"
    }
   ],
   "source": [
    "df.columns"
   ]
  },
  {
   "cell_type": "code",
   "execution_count": 5,
   "id": "a5568115",
   "metadata": {},
   "outputs": [],
   "source": [
    "vect = TfidfVectorizer(min_df=2, max_df=0.90, stop_words='english')\n",
    "# vectorizing the tweets"
   ]
  },
  {
   "cell_type": "code",
   "execution_count": 6,
   "id": "b67dabb6",
   "metadata": {},
   "outputs": [],
   "source": [
    "X = vect.fit_transform(df['lemmatized_tweets'])"
   ]
  },
  {
   "cell_type": "code",
   "execution_count": 7,
   "id": "7e65591f",
   "metadata": {},
   "outputs": [],
   "source": [
    "lda = LDA(n_components = 12, learning_method=\"batch\", max_iter=50, random_state=0)\n",
    "\n",
    "document_topics = lda.fit_transform(X)\n",
    "\n",
    "#n_components is the number of topics\n",
    "# learning method is batch which refers to batch gradient descent\n",
    "# max_iter is the number of times the learning algorithm will run"
   ]
  },
  {
   "cell_type": "code",
   "execution_count": 8,
   "id": "31f51965",
   "metadata": {},
   "outputs": [
    {
     "name": "stderr",
     "output_type": "stream",
     "text": [
      "C:\\Users\\hp\\anaconda3\\lib\\site-packages\\sklearn\\utils\\deprecation.py:87: FutureWarning: Function get_feature_names is deprecated; get_feature_names is deprecated in 1.0 and will be removed in 1.2. Please use get_feature_names_out instead.\n",
      "  warnings.warn(msg, category=FutureWarning)\n"
     ]
    }
   ],
   "source": [
    "sorting = np.argsort(lda.components_, axis=1)[:, ::-1]\n",
    "feature_names = np.array(vect.get_feature_names())\n",
    "\n",
    "# lda.components_ is a topic-term distribution where the rows are the topics and the columns are the features or words.\n",
    "# the argsort function sorts the words in descending order (increasing order) of importance in the topic.\n",
    "#get feature names is converting the vectors back into the words i.e the features are being retrieved"
   ]
  },
  {
   "cell_type": "code",
   "execution_count": 10,
   "id": "ccefd1f7",
   "metadata": {},
   "outputs": [
    {
     "name": "stdout",
     "output_type": "stream",
     "text": [
      "topic 0       topic 1       topic 2       topic 3       topic 4       \n",
      "--------      --------      --------      --------      --------      \n",
      "trump         movement      woman         woman         year          \n",
      "resign        woman         man           sexual        person        \n",
      "franken       change        movement      harassment    time          \n",
      "sexual        moment        christmas     assault       movement      \n",
      "al            man           meryl         story         silence       \n",
      "weinstein     article       streep        speak         2017          \n",
      "harvey        backlash      sexual        man           breaker       \n",
      "allegation    campaign      know          victim        magazine      \n",
      "misconduct    video         like          abuse         cover         \n",
      "accuser       read          make          come          woman         \n",
      "woman         social        say           thank         mueller       \n",
      "donald        like          harassment    stand         march         \n",
      "senator       need          sign          movement      times         \n",
      "president     medium        pray          forward       hill          \n",
      "accuse        culture       think         need          trump         \n",
      "investigation history       holiday       share         anita         \n",
      "predator      ready         love          sexually      choice        \n",
      "resignation   question      inappropriate survivor      new           \n",
      "movement      new           hypocrite     say           kaepernick    \n",
      "assault       feminism      try           tell          russell       \n",
      "need          watch         suck          people        break         \n",
      "congress      check         tag           support       taylor        \n",
      "woody         word          fun           voice         say           \n",
      "allen         great         need          brave         kelly         \n",
      "investigate   conversation  behavior      harass        simmons       \n",
      "monster       gender        come          hear          2018          \n",
      "say           discussion    eye           believe       list          \n",
      "demand        war           way           experience    think         \n",
      "harassment    interesting   hug           know          ago           \n",
      "believe       story         new           time          make          \n",
      "\n",
      "\n",
      "topic 5       topic 6       topic 7       topic 8       topic 9       \n",
      "--------      --------      --------      --------      --------      \n",
      "moore         woman         late          matt          movement      \n",
      "woman         man           daily         woman         woman         \n",
      "vote          movement      thank         damon         tarana        \n",
      "alabama       sexual        news          man           burke         \n",
      "roy           like          hold          sexual        start         \n",
      "movement      say           accountable   say           creator       \n",
      "trump         think         wear          lauer         hashtag       \n",
      "win           money         thanks        movement      fuck          \n",
      "white         know          standard      old           founder       \n",
      "election      people        black         year          say           \n",
      "say           tweet         kirsten       like          ball          \n",
      "party         trend         story         rape          time          \n",
      "like          make          globe         make          black         \n",
      "pedophile     pathetic      rally         think         pig           \n",
      "right         rape          sharing       touch         forget        \n",
      "man           funny         press         witch         year          \n",
      "answer        block         double        job           people        \n",
      "republican    kid           hoffman       know          alyssa        \n",
      "democrat      united        red           boy           man           \n",
      "sexual        want          protest       harassment    quiet         \n",
      "elect         thing         dustin        girl          use           \n",
      "baby          accuse        golden        chris         happy         \n",
      "gop           assault       woman         assault       like          \n",
      "ruin          general       admire        want          new           \n",
      "child         harassment    everyday      hunt          disgusting    \n",
      "lose          time          movement      age           make          \n",
      "outside       kind          hot           people        think         \n",
      "people        victim        like          yr            drop          \n",
      "support       ridiculous    conference    time          celebrate     \n",
      "molester      fall          bravery       bullshit      thank         \n",
      "\n",
      "\n",
      "topic 10      topic 11      \n",
      "--------      --------      \n",
      "say           sexual        \n",
      "movement      woman         \n",
      "woman         sex           \n",
      "think         harassment    \n",
      "know          industry      \n",
      "like          school        \n",
      "man           movement      \n",
      "happen        say           \n",
      "make          high          \n",
      "thing         female        \n",
      "really        man           \n",
      "people        music         \n",
      "good          employee      \n",
      "right         work          \n",
      "want          assault       \n",
      "oh            hit           \n",
      "read          law           \n",
      "mean          song          \n",
      "guy           linda         \n",
      "yes           entertainment \n",
      "sure          surprised     \n",
      "way           sarsour       \n",
      "thread        need          \n",
      "time          business      \n",
      "shit          think         \n",
      "point         story         \n",
      "story         teacher       \n",
      "feel          like          \n",
      "guilty        offender      \n",
      "believe       student       \n",
      "\n",
      "\n"
     ]
    }
   ],
   "source": [
    "import mglearn\n",
    "mglearn.tools.print_topics(topics=range(12), feature_names=feature_names, sorting=sorting, topics_per_chunk=5, n_words=30)\n",
    "\n",
    "# mglearn library has a function which is used to print topics and their associated words. \n",
    "# topics is the number of topics\n",
    "# feature names are the words\n",
    "# sorting provided the sorted indices in which the words/features must be displayed\n",
    "# topics_per_chunk is for printing purposes\n",
    "# n_words is for the number of words to print per topic"
   ]
  },
  {
   "cell_type": "code",
   "execution_count": 13,
   "id": "7f5f788f",
   "metadata": {},
   "outputs": [],
   "source": [
    "for topic in range(12):\n",
    "    column_name = f\"Topic_{topic}\"  \n",
    "    df[column_name] = document_topics[:, topic]\n",
    "    \n",
    "# this code makes a column for each topic where each row indicates the \n",
    "# probability of that tweet belonging to the topic that column is dedicated to."
   ]
  },
  {
   "cell_type": "code",
   "execution_count": 19,
   "id": "b7b5313f",
   "metadata": {},
   "outputs": [
    {
     "data": {
      "text/html": [
       "<div>\n",
       "<style scoped>\n",
       "    .dataframe tbody tr th:only-of-type {\n",
       "        vertical-align: middle;\n",
       "    }\n",
       "\n",
       "    .dataframe tbody tr th {\n",
       "        vertical-align: top;\n",
       "    }\n",
       "\n",
       "    .dataframe thead th {\n",
       "        text-align: right;\n",
       "    }\n",
       "</style>\n",
       "<table border=\"1\" class=\"dataframe\">\n",
       "  <thead>\n",
       "    <tr style=\"text-align: right;\">\n",
       "      <th></th>\n",
       "      <th>text</th>\n",
       "      <th>Topic_0</th>\n",
       "      <th>Topic_1</th>\n",
       "      <th>Topic_2</th>\n",
       "      <th>Topic_3</th>\n",
       "      <th>Topic_4</th>\n",
       "      <th>Topic_5</th>\n",
       "      <th>Topic_6</th>\n",
       "      <th>Topic_7</th>\n",
       "      <th>Topic_8</th>\n",
       "      <th>Topic_9</th>\n",
       "      <th>Topic_10</th>\n",
       "      <th>Topic_11</th>\n",
       "    </tr>\n",
       "  </thead>\n",
       "  <tbody>\n",
       "    <tr>\n",
       "      <th>0</th>\n",
       "      <td>!  are in power. doing all they can to protect...</td>\n",
       "      <td>0.027961</td>\n",
       "      <td>0.027959</td>\n",
       "      <td>0.027960</td>\n",
       "      <td>0.692435</td>\n",
       "      <td>0.027959</td>\n",
       "      <td>0.027965</td>\n",
       "      <td>0.027959</td>\n",
       "      <td>0.027959</td>\n",
       "      <td>0.027959</td>\n",
       "      <td>0.027961</td>\n",
       "      <td>0.027959</td>\n",
       "      <td>0.027961</td>\n",
       "    </tr>\n",
       "    <tr>\n",
       "      <th>1</th>\n",
       "      <td>! labels it \"powerful male pattern blindness\" ...</td>\n",
       "      <td>0.022495</td>\n",
       "      <td>0.022496</td>\n",
       "      <td>0.312065</td>\n",
       "      <td>0.022496</td>\n",
       "      <td>0.022498</td>\n",
       "      <td>0.022495</td>\n",
       "      <td>0.462979</td>\n",
       "      <td>0.022495</td>\n",
       "      <td>0.022495</td>\n",
       "      <td>0.022496</td>\n",
       "      <td>0.022495</td>\n",
       "      <td>0.022495</td>\n",
       "    </tr>\n",
       "    <tr>\n",
       "      <th>2</th>\n",
       "      <td>! somebodys been reading my tweets! those rega...</td>\n",
       "      <td>0.026046</td>\n",
       "      <td>0.026047</td>\n",
       "      <td>0.026048</td>\n",
       "      <td>0.026047</td>\n",
       "      <td>0.026047</td>\n",
       "      <td>0.026046</td>\n",
       "      <td>0.026047</td>\n",
       "      <td>0.026046</td>\n",
       "      <td>0.713486</td>\n",
       "      <td>0.026047</td>\n",
       "      <td>0.026047</td>\n",
       "      <td>0.026046</td>\n",
       "    </tr>\n",
       "    <tr>\n",
       "      <th>3</th>\n",
       "      <td>! the #resistance continues. welcome to 2018. ...</td>\n",
       "      <td>0.023190</td>\n",
       "      <td>0.023190</td>\n",
       "      <td>0.023190</td>\n",
       "      <td>0.023192</td>\n",
       "      <td>0.380803</td>\n",
       "      <td>0.023190</td>\n",
       "      <td>0.023189</td>\n",
       "      <td>0.191474</td>\n",
       "      <td>0.023189</td>\n",
       "      <td>0.023189</td>\n",
       "      <td>0.023190</td>\n",
       "      <td>0.219013</td>\n",
       "    </tr>\n",
       "    <tr>\n",
       "      <th>4</th>\n",
       "      <td>! this is the judge who gave brock turner 6 mo...</td>\n",
       "      <td>0.024431</td>\n",
       "      <td>0.024427</td>\n",
       "      <td>0.024427</td>\n",
       "      <td>0.024427</td>\n",
       "      <td>0.024427</td>\n",
       "      <td>0.024427</td>\n",
       "      <td>0.024427</td>\n",
       "      <td>0.024427</td>\n",
       "      <td>0.024427</td>\n",
       "      <td>0.731296</td>\n",
       "      <td>0.024429</td>\n",
       "      <td>0.024427</td>\n",
       "    </tr>\n",
       "    <tr>\n",
       "      <th>...</th>\n",
       "      <td>...</td>\n",
       "      <td>...</td>\n",
       "      <td>...</td>\n",
       "      <td>...</td>\n",
       "      <td>...</td>\n",
       "      <td>...</td>\n",
       "      <td>...</td>\n",
       "      <td>...</td>\n",
       "      <td>...</td>\n",
       "      <td>...</td>\n",
       "      <td>...</td>\n",
       "      <td>...</td>\n",
       "      <td>...</td>\n",
       "    </tr>\n",
       "    <tr>\n",
       "      <th>133563</th>\n",
       "      <td>~in an attempt to beat back his own personal #...</td>\n",
       "      <td>0.757006</td>\n",
       "      <td>0.022091</td>\n",
       "      <td>0.022090</td>\n",
       "      <td>0.022091</td>\n",
       "      <td>0.022090</td>\n",
       "      <td>0.022090</td>\n",
       "      <td>0.022091</td>\n",
       "      <td>0.022090</td>\n",
       "      <td>0.022090</td>\n",
       "      <td>0.022090</td>\n",
       "      <td>0.022091</td>\n",
       "      <td>0.022090</td>\n",
       "    </tr>\n",
       "    <tr>\n",
       "      <th>133564</th>\n",
       "      <td>~right now you are in a rush to push #goptaxsc...</td>\n",
       "      <td>0.026186</td>\n",
       "      <td>0.026185</td>\n",
       "      <td>0.026185</td>\n",
       "      <td>0.026187</td>\n",
       "      <td>0.026185</td>\n",
       "      <td>0.026186</td>\n",
       "      <td>0.711957</td>\n",
       "      <td>0.026184</td>\n",
       "      <td>0.026186</td>\n",
       "      <td>0.026187</td>\n",
       "      <td>0.026187</td>\n",
       "      <td>0.026185</td>\n",
       "    </tr>\n",
       "    <tr>\n",
       "      <th>133565</th>\n",
       "      <td>~whew... that wasnt easy to recall... working ...</td>\n",
       "      <td>0.021259</td>\n",
       "      <td>0.021257</td>\n",
       "      <td>0.021257</td>\n",
       "      <td>0.021258</td>\n",
       "      <td>0.021256</td>\n",
       "      <td>0.021257</td>\n",
       "      <td>0.021257</td>\n",
       "      <td>0.021256</td>\n",
       "      <td>0.021257</td>\n",
       "      <td>0.021256</td>\n",
       "      <td>0.322132</td>\n",
       "      <td>0.465299</td>\n",
       "    </tr>\n",
       "    <tr>\n",
       "      <th>133566</th>\n",
       "      <td>~with all this news....i will call that woman\\...</td>\n",
       "      <td>0.024380</td>\n",
       "      <td>0.024379</td>\n",
       "      <td>0.024379</td>\n",
       "      <td>0.373289</td>\n",
       "      <td>0.382916</td>\n",
       "      <td>0.024379</td>\n",
       "      <td>0.024379</td>\n",
       "      <td>0.024379</td>\n",
       "      <td>0.024380</td>\n",
       "      <td>0.024379</td>\n",
       "      <td>0.024379</td>\n",
       "      <td>0.024379</td>\n",
       "    </tr>\n",
       "    <tr>\n",
       "      <th>133567</th>\n",
       "      <td>~~drudge siren breaking developing~~celebritie...</td>\n",
       "      <td>0.023271</td>\n",
       "      <td>0.023271</td>\n",
       "      <td>0.023278</td>\n",
       "      <td>0.640925</td>\n",
       "      <td>0.023275</td>\n",
       "      <td>0.023271</td>\n",
       "      <td>0.023272</td>\n",
       "      <td>0.023272</td>\n",
       "      <td>0.023271</td>\n",
       "      <td>0.126352</td>\n",
       "      <td>0.023271</td>\n",
       "      <td>0.023271</td>\n",
       "    </tr>\n",
       "  </tbody>\n",
       "</table>\n",
       "<p>133567 rows × 13 columns</p>\n",
       "</div>"
      ],
      "text/plain": [
       "                                                     text   Topic_0   Topic_1  \\\n",
       "0       !  are in power. doing all they can to protect...  0.027961  0.027959   \n",
       "1       ! labels it \"powerful male pattern blindness\" ...  0.022495  0.022496   \n",
       "2       ! somebodys been reading my tweets! those rega...  0.026046  0.026047   \n",
       "3       ! the #resistance continues. welcome to 2018. ...  0.023190  0.023190   \n",
       "4       ! this is the judge who gave brock turner 6 mo...  0.024431  0.024427   \n",
       "...                                                   ...       ...       ...   \n",
       "133563  ~in an attempt to beat back his own personal #...  0.757006  0.022091   \n",
       "133564  ~right now you are in a rush to push #goptaxsc...  0.026186  0.026185   \n",
       "133565  ~whew... that wasnt easy to recall... working ...  0.021259  0.021257   \n",
       "133566  ~with all this news....i will call that woman\\...  0.024380  0.024379   \n",
       "133567  ~~drudge siren breaking developing~~celebritie...  0.023271  0.023271   \n",
       "\n",
       "         Topic_2   Topic_3   Topic_4   Topic_5   Topic_6   Topic_7   Topic_8  \\\n",
       "0       0.027960  0.692435  0.027959  0.027965  0.027959  0.027959  0.027959   \n",
       "1       0.312065  0.022496  0.022498  0.022495  0.462979  0.022495  0.022495   \n",
       "2       0.026048  0.026047  0.026047  0.026046  0.026047  0.026046  0.713486   \n",
       "3       0.023190  0.023192  0.380803  0.023190  0.023189  0.191474  0.023189   \n",
       "4       0.024427  0.024427  0.024427  0.024427  0.024427  0.024427  0.024427   \n",
       "...          ...       ...       ...       ...       ...       ...       ...   \n",
       "133563  0.022090  0.022091  0.022090  0.022090  0.022091  0.022090  0.022090   \n",
       "133564  0.026185  0.026187  0.026185  0.026186  0.711957  0.026184  0.026186   \n",
       "133565  0.021257  0.021258  0.021256  0.021257  0.021257  0.021256  0.021257   \n",
       "133566  0.024379  0.373289  0.382916  0.024379  0.024379  0.024379  0.024380   \n",
       "133567  0.023278  0.640925  0.023275  0.023271  0.023272  0.023272  0.023271   \n",
       "\n",
       "         Topic_9  Topic_10  Topic_11  \n",
       "0       0.027961  0.027959  0.027961  \n",
       "1       0.022496  0.022495  0.022495  \n",
       "2       0.026047  0.026047  0.026046  \n",
       "3       0.023189  0.023190  0.219013  \n",
       "4       0.731296  0.024429  0.024427  \n",
       "...          ...       ...       ...  \n",
       "133563  0.022090  0.022091  0.022090  \n",
       "133564  0.026187  0.026187  0.026185  \n",
       "133565  0.021256  0.322132  0.465299  \n",
       "133566  0.024379  0.024379  0.024379  \n",
       "133567  0.126352  0.023271  0.023271  \n",
       "\n",
       "[133567 rows x 13 columns]"
      ]
     },
     "execution_count": 19,
     "metadata": {},
     "output_type": "execute_result"
    }
   ],
   "source": [
    "df[['text', 'Topic_0', 'Topic_1', 'Topic_2', 'Topic_3', 'Topic_4', 'Topic_5', 'Topic_6', 'Topic_7','Topic_8', 'Topic_9', 'Topic_10', 'Topic_11']]"
   ]
  },
  {
   "cell_type": "markdown",
   "id": "0aaefb62",
   "metadata": {},
   "source": [
    "# Finding and printing the top tweets for every topic with its probability of belonging to that topic"
   ]
  },
  {
   "cell_type": "code",
   "execution_count": 4,
   "id": "6302943b",
   "metadata": {},
   "outputs": [
    {
     "name": "stdout",
     "output_type": "stream",
     "text": [
      "Top Tweet for Topic_0: out of control #metoo women's right lawyer lisa bloom sought money from hillary clinton donors to pay women who alleged t\n",
      "Probability of being in 'Topic_0': 0.8036041644167174\n",
      "\n",
      "\n",
      "Top Tweet for Topic_1: never let you go meets speak #metoo story. 15 year old science geek a gets date raped by obsessed college student w\n",
      "Probability of being in 'Topic_1': 0.8001339240167317\n",
      "\n",
      "\n",
      "Top Tweet for Topic_2: summary tweet #metoo: i urge men pledge support to partners, daughters, sisters, friends and colleagues; sexual assaults criminal > report.\n",
      "Probability of being in 'Topic_2': 0.8061891302890799\n",
      "\n",
      "\n",
      "Top Tweet for Topic_3: #metoo began as great social change nearly always does, with individual acts of courage, later became hashtag, movement, reckoning. (time)\n",
      "Probability of being in 'Topic_3': 0.7976866451602734\n",
      "\n",
      "\n",
      "Top Tweet for Topic_4: time magazine \"person of the year\" nominations \"short list\": n korea kim jong un, robert mueller, colin kaepernick\n",
      "Probability of being in 'Topic_4': 0.8025956155688057\n",
      "\n",
      "\n",
      "Top Tweet for Topic_5: rt cnn \"5 reasons you need to pay attention to the roy moore race:- trump's policy agenda- the 2018 election- t\n",
      "Probability of being in 'Topic_5': 0.8048973277872772\n",
      "\n",
      "\n",
      "Top Tweet for Topic_6: this bully thing turning into the newest #metoo. makes ya think the world really has gone dumbass mad for social media attention.\n",
      "Probability of being in 'Topic_6': 0.8026404573378955\n",
      "\n",
      "\n",
      "Top Tweet for Topic_7: new story on npr: rows of hot pink paper, all saying #metoo  mexican artist monica mayer bri\n",
      "Probability of being in 'Topic_7': 0.7954416249155964\n",
      "\n",
      "\n",
      "Top Tweet for Topic_8: my dad sexually molested me at 9, 10, 11, 12 and 13 than i ran away. he has been dead for 15 years and just this ye\n",
      "Probability of being in 'Topic_8': 0.7987571478570779\n",
      "\n",
      "\n",
      "Top Tweet for Topic_9: tarana burke  the woman who created #metoo 10 years ago  will kick off the countdown for time square's new year's eve ball dr\n",
      "Probability of being in 'Topic_9': 0.8080671121239231\n",
      "\n",
      "\n",
      "Top Tweet for Topic_10: 1/ dear straight men trying to understand sexual harassment & assault: forget trying to fathom what your mother, wi\n",
      "Probability of being in 'Topic_10': 0.793611711007424\n",
      "\n",
      "\n",
      "Top Tweet for Topic_11: #metoo akron ohio star chamber orders hits: peggy pittenger=author 4x oh thoroughbred racing ass pres poisoned 16 d\n",
      "Probability of being in 'Topic_11': 0.8138730255854668\n",
      "\n",
      "\n"
     ]
    }
   ],
   "source": [
    "for i in range(12):  # Loop through Topic_0 to Topic_11\n",
    "    column_name = f\"Topic_{i}\"\n",
    "    max_value = df[column_name].max()\n",
    "    max_value_index = df[column_name].idxmax()\n",
    "    max_value_text = df.loc[max_value_index, \"text\"]\n",
    "\n",
    "    print(f\"Top Tweet for {column_name}: {max_value_text}\")\n",
    "    print(f\"Probability of being in '{column_name}': {max_value}\")\n",
    "    print(\"\\n\")  # Add a line break between topics\n"
   ]
  },
  {
   "cell_type": "markdown",
   "id": "20457430",
   "metadata": {},
   "source": [
    "# Top 10 Tweets for **Topic 0** with their probabilities of being in topic 0\n",
    "- This topic conatins tweets about the political aspects of the movement such as congressmen, lawyers, senate members."
   ]
  },
  {
   "cell_type": "code",
   "execution_count": 5,
   "id": "510223a7",
   "metadata": {},
   "outputs": [
    {
     "name": "stdout",
     "output_type": "stream",
     "text": [
      "Top 10 Tweets with most probability of being in Topic 0:\n",
      "\n",
      "1. Probability of being in Topic 0':\t0.8036041644167174\n",
      "Tweet:\tout of control #metoo women's right lawyer lisa bloom sought money from hillary clinton donors to pay women who alleged t\n",
      "\n",
      "\n",
      "2. Probability of being in Topic 0':\t0.8020464643231907\n",
      "Tweet:\tso a republican congressman used 84k in taxpayer money to cover an sexual abuse case and media silence but al frank\n",
      "\n",
      "\n",
      "3. Probability of being in Topic 0':\t0.8017576817838863\n",
      "Tweet:\tgop congressman blake farenthold (tx) used 84k of taxpayer money to settle a sexual harassment suit, then blackball\n",
      "\n",
      "\n",
      "4. Probability of being in Topic 0':\t0.7994428817100809\n",
      "Tweet:\tnew: top senate democrat chuck schumer says sen. al franken should resign as sexual misconduct allegations multiply. #metoo\n",
      "\n",
      "\n",
      "5. Probability of being in Topic 0':\t0.7987430727273437\n",
      "Tweet:\tdemocrats forced al franken to resign  now they must act on trump, moore.\" dems: use every single tool at your di\n",
      "\n",
      "\n",
      "6. Probability of being in Topic 0':\t0.7987184034183498\n",
      "Tweet:\tpeter jackson claims disgraced harvey weinstein blacklisted ashley judd & mira sorvino for lord of the rings castin\n",
      "\n",
      "\n",
      "7. Probability of being in Topic 0':\t0.7981782940308156\n",
      "Tweet:\tdylan farrow nailing kate winslet, blake lively, and greta gerwig: why has the #metoo revolution spared woody allen?\n",
      "\n",
      "\n",
      "8. Probability of being in Topic 0':\t0.7973195937648118\n",
      "Tweet:\tdonald trump needs to follow the example set by al franken. sexual harassment claims can no longer be dismissed.\n",
      "\n",
      "\n",
      "9. Probability of being in Topic 0':\t0.7970321032563954\n",
      "Tweet:\t#gop rep. blake farenthold settled a sexual harassment complaint brought by an aide with taxpayer money in 2014. di\n",
      "\n",
      "\n",
      "10. Probability of being in Topic 0':\t0.7968010627668163\n",
      "Tweet:\tprominent 9th circuit appeals court judge alex kozinski accused of sexual misconduct by 6 former law clerks #metoo\n",
      "\n",
      "\n"
     ]
    }
   ],
   "source": [
    "# Find the top 10 maximum values in 'Topic_0'\n",
    "top_10_values = df.nlargest(10, 'Topic_0')\n",
    "\n",
    "# Create a list to store the associated text for the top values\n",
    "top_10_texts = []\n",
    "\n",
    "# Loop through the top 10 maximum values and extract their associated text\n",
    "for index, row in top_10_values.iterrows():\n",
    "    max_value = row['Topic_0']\n",
    "    max_value_text = row['text']\n",
    "    top_10_texts.append((max_value, max_value_text))\n",
    "print(f\"Top 10 Tweets with most probability of being in Topic 0:\\n\")\n",
    "\n",
    "# Print the top 10 maximum values and their associated text\n",
    "for i, (value, text) in enumerate(top_10_texts, 1):\n",
    "    print(f\"{i}. Probability of being in Topic 0':\\t{value}\")\n",
    "    print(f\"Tweet:\\t{text}\")\n",
    "    print(\"\\n\")\n"
   ]
  },
  {
   "cell_type": "markdown",
   "id": "16ce4c9f",
   "metadata": {},
   "source": [
    "# Top 10 Tweets for **Topic 1** with their probabilities of being in topic 1\n",
    "- Topic 1 conatins tweets about empowering survivors, with ideas such as movies that highligh the plight of survivors, creating communities of strong people and discussing the role colleges and other institutions play in creating a \"good\" atmosphere"
   ]
  },
  {
   "cell_type": "code",
   "execution_count": 6,
   "id": "ae16544d",
   "metadata": {},
   "outputs": [
    {
     "name": "stdout",
     "output_type": "stream",
     "text": [
      "Top 10 Tweets with most probability of being in Topic 1:\n",
      "\n",
      "1. Probability of being in Topic 1:\t0.8001339240167317\n",
      "Tweet:\tnever let you go meets speak #metoo story. 15 year old science geek a gets date raped by obsessed college student w\n",
      "\n",
      "\n",
      "2. Probability of being in Topic 1:\t0.7990546150650133\n",
      "Tweet:\thollywoods jus using #metoo 2 usher out the old players cuz i guarantee nothings changing n the culture to stop sexual battery and abuse.\n",
      "\n",
      "\n",
      "3. Probability of being in Topic 1:\t0.7947321199695845\n",
      "Tweet:\t[event] #metoo  now what? creating communities of strong people | dec 4th 7-9pm let your voice be heard at our panel disc\n",
      "\n",
      "\n",
      "4. Probability of being in Topic 1:\t0.7940585119392116\n",
      "Tweet:\tthe thing is, a big % of the 90s kids watched charmed & saw paige, piper & phoebe as sisters & looked forward to jo\n",
      "\n",
      "\n",
      "5. Probability of being in Topic 1:\t0.7914724475634107\n",
      "Tweet:\twe need movie like star wars now more than ever to give hope that small groups of people fighting for good things c\n",
      "\n",
      "\n",
      "6. Probability of being in Topic 1:\t0.7914709730860666\n",
      "Tweet:\tyes, excellent point. discussing the role colleges and the atmosphere they play in creating the societal \"good old\n",
      "\n",
      "\n",
      "7. Probability of being in Topic 1:\t0.7907190034396924\n",
      "Tweet:\tas men, we need to step back and let womens voices, regardless of race, religion, gender identification, age or se\n",
      "\n",
      "\n",
      "8. Probability of being in Topic 1:\t0.7906208288362423\n",
      "Tweet:\twhen #metoo began this year each new day brought  accusations and powerful men fell from grace. regardless of party\n",
      "\n",
      "\n",
      "9. Probability of being in Topic 1:\t0.7901248106266173\n",
      "Tweet:\tebook newslive share the father of virtual reality sounds off on the changing culture of silicon valley, the impend\n",
      "\n",
      "\n",
      "10. Probability of being in Topic 1:\t0.7889047295581428\n",
      "Tweet:\t#metoo yes, good idea, let's end women's suffrage.  and let's stop treating people differently based\n",
      "\n",
      "\n"
     ]
    }
   ],
   "source": [
    "# Find the top 10 maximum values in 'Topic_1'\n",
    "top_10_values = df.nlargest(10, 'Topic_1')\n",
    "\n",
    "# Create a list to store the associated text for the top values\n",
    "top_10_texts = []\n",
    "\n",
    "# Loop through the top 10 maximum values and extract their associated text\n",
    "for index, row in top_10_values.iterrows():\n",
    "    max_value = row['Topic_1']\n",
    "    max_value_text = row['text']\n",
    "    top_10_texts.append((max_value, max_value_text))\n",
    "print(f\"Top 10 Tweets with most probability of being in Topic 1:\\n\")\n",
    "\n",
    "# Print the top 10 maximum values and their associated text\n",
    "for i, (value, text) in enumerate(top_10_texts, 1):\n",
    "    print(f\"{i}. Probability of being in Topic 1:\\t{value}\")\n",
    "    print(f\"Tweet:\\t{text}\")\n",
    "    print(\"\\n\")\n"
   ]
  },
  {
   "cell_type": "markdown",
   "id": "23326e42",
   "metadata": {},
   "source": [
    "# Top 10 Tweets for **Topic 2** with their probabilities of being in topic 2\n",
    "- Topic 2 deals with sexual harrasment in workplaces such as offices as well as the mistreatment women face due to sexism and misogyny"
   ]
  },
  {
   "cell_type": "code",
   "execution_count": 7,
   "id": "43e4e6cc",
   "metadata": {},
   "outputs": [
    {
     "name": "stdout",
     "output_type": "stream",
     "text": [
      "Top 10 Tweets with most probability of being in Topic 2:\n",
      "\n",
      "1. Probability of being in Topic 2:\t0.8061891302890799\n",
      "Tweet:\tsummary tweet #metoo: i urge men pledge support to partners, daughters, sisters, friends and colleagues; sexual assaults criminal > report.\n",
      "\n",
      "\n",
      "2. Probability of being in Topic 2:\t0.8028853789054945\n",
      "Tweet:\tbreaking news: multiple nbc employees file sex harassment claim against 30-rock christmas tree (\"looks like a giant\n",
      "\n",
      "\n",
      "3. Probability of being in Topic 2:\t0.7967849675275585\n",
      "Tweet:\t#metoo shakes swedish athletics as 400m euro gold medallist moa hjelmer discloses rape & susanna kallur (world indoor recor\n",
      "\n",
      "\n",
      "4. Probability of being in Topic 2:\t0.7967073983609635\n",
      "Tweet:\tfolks, maybe we should let his boss, tx ag ken paxton, know how we feel about this deplorable conduct from a public\n",
      "\n",
      "\n",
      "5. Probability of being in Topic 2:\t0.7965740582535719\n",
      "Tweet:\tyes men are seriously asking me this questions and treating them like threats in the wake of the glenn thrush news today #metoo\n",
      "\n",
      "\n",
      "6. Probability of being in Topic 2:\t0.7950152155107053\n",
      "Tweet:\tfox news host laura ingraham says the #metoo movement will take the fun out of holiday christmas parties this year and is ki\n",
      "\n",
      "\n",
      "7. Probability of being in Topic 2:\t0.7915907172699699\n",
      "Tweet:\tyou and fellow gop are pathetic, lying sacks of shit to blatantly ignore issues that face half of ame\n",
      "\n",
      "\n",
      "8. Probability of being in Topic 2:\t0.7904756082326366\n",
      "Tweet:\tmaybe it's her.  fox news laura ingraham laments that #metoo movement is killing all the fun of christmas parties https\n",
      "\n",
      "\n",
      "9. Probability of being in Topic 2:\t0.7903269426720906\n",
      "Tweet:\tfox complains women reporting rape will make christmas parties less festive. fox host laura ingraham is worried t\n",
      "\n",
      "\n",
      "10. Probability of being in Topic 2:\t0.7890486090804096\n",
      "Tweet:\tfox news laura ingraham laments that #metoo movement is killing all the fun of christmas parties - raw story\n",
      "\n",
      "\n"
     ]
    }
   ],
   "source": [
    "# Find the top 10 maximum values in 'Topic_2'\n",
    "top_10_values = df.nlargest(10, 'Topic_2')\n",
    "\n",
    "# Create a list to store the associated text for the top values\n",
    "top_10_texts = []\n",
    "\n",
    "# Loop through the top 10 maximum values and extract their associated text\n",
    "for index, row in top_10_values.iterrows():\n",
    "    max_value = row['Topic_2']\n",
    "    max_value_text = row['text']\n",
    "    top_10_texts.append((max_value, max_value_text))\n",
    "print(f\"Top 10 Tweets with most probability of being in Topic 2:\\n\")\n",
    "\n",
    "# Print the top 10 maximum values and their associated text\n",
    "for i, (value, text) in enumerate(top_10_texts, 1):\n",
    "    print(f\"{i}. Probability of being in Topic 2:\\t{value}\")\n",
    "    print(f\"Tweet:\\t{text}\")\n",
    "    print(\"\\n\")\n"
   ]
  },
  {
   "cell_type": "markdown",
   "id": "58a6cefc",
   "metadata": {},
   "source": [
    "# Top 10 Tweets for **Topic 3** with their probabilities of being in topic 3\n",
    "- Topic 3 talks about the impact of the metoo movement, calling the MeToo movement a great social change as well as the trajectory of the movement."
   ]
  },
  {
   "cell_type": "code",
   "execution_count": 8,
   "id": "5eb8880f",
   "metadata": {},
   "outputs": [
    {
     "name": "stdout",
     "output_type": "stream",
     "text": [
      "Top 10 Tweets with most probability of being in Topic 3:\n",
      "\n",
      "1. Probability of being in Topic 3:\t0.7976866451602734\n",
      "Tweet:\t#metoo began as great social change nearly always does, with individual acts of courage, later became hashtag, movement, reckoning. (time)\n",
      "\n",
      "\n",
      "2. Probability of being in Topic 3:\t0.7973552085337224\n",
      "Tweet:\ta2: b/c we want to shine light on the experiences & reality of women's lives today. and help prevent anymore #metoo #teartalk\n",
      "\n",
      "\n",
      "3. Probability of being in Topic 3:\t0.7969008094049699\n",
      "Tweet:\tlet's talk about how the lack of free long term mental health resources for sexual abuse survivors pushes them to h\n",
      "\n",
      "\n",
      "4. Probability of being in Topic 3:\t0.7956973225545325\n",
      "Tweet:\tsexual harassment, misconduct, rape ... in just 2 months, media reported 35 high profile men accused. a lot you won\n",
      "\n",
      "\n",
      "5. Probability of being in Topic 3:\t0.7923938259603083\n",
      "Tweet:\t1st saying woman is crazy let's tell the truth and shame the _ white woman don't care about #metoo they lie when th\n",
      "\n",
      "\n",
      "6. Probability of being in Topic 3:\t0.7915479949129031\n",
      "Tweet:\tbest way to kill the #metoo movement? have white female celebrities fight over how to protest. it's not just for famous people. stop.\n",
      "\n",
      "\n",
      "7. Probability of being in Topic 3:\t0.7913971489946827\n",
      "Tweet:\tevery word in this thread. misogyny makes us feel like being sexually harassed is normal, no big deal, our fault be\n",
      "\n",
      "\n",
      "8. Probability of being in Topic 3:\t0.7908276423491065\n",
      "Tweet:\tgreat work by a friend in exposing toxic predatory behavior. proud of the women with the courage to come forward.\n",
      "\n",
      "\n",
      "9. Probability of being in Topic 3:\t0.7908193721330335\n",
      "Tweet:\tthe first metoo book has now been created.\"#metoo- 100 stories & 10 questions that need answering\" (translated) tells about har\n",
      "\n",
      "\n",
      "10. Probability of being in Topic 3:\t0.7906660795708875\n",
      "Tweet:\twith nearly each week bringing new headlines about sexual misconduct forcing men from positions of power, the rising #metoo\n",
      "\n",
      "\n"
     ]
    }
   ],
   "source": [
    "# Find the top 10 maximum values in 'Topic_3'\n",
    "top_10_values = df.nlargest(10, 'Topic_3')\n",
    "\n",
    "# Create a list to store the associated text for the top values\n",
    "top_10_texts = []\n",
    "\n",
    "# Loop through the top 10 maximum values and extract their associated text\n",
    "for index, row in top_10_values.iterrows():\n",
    "    max_value = row['Topic_3']\n",
    "    max_value_text = row['text']\n",
    "    top_10_texts.append((max_value, max_value_text))\n",
    "print(f\"Top 10 Tweets with most probability of being in Topic 3:\\n\")\n",
    "\n",
    "# Print the top 10 maximum values and their associated text\n",
    "for i, (value, text) in enumerate(top_10_texts, 1):\n",
    "    print(f\"{i}. Probability of being in Topic 3:\\t{value}\")\n",
    "    print(f\"Tweet:\\t{text}\")\n",
    "    print(\"\\n\")\n"
   ]
  },
  {
   "cell_type": "markdown",
   "id": "c79f0bf5",
   "metadata": {},
   "source": [
    "# Top 10 Tweets for **Topic 4** with their probabilities of being in topic 4\n",
    "- Topic 4 is about the time magzine's nominations for the 2017's person of the year where it had added and later named the \"MeToo movement\" as person of the year."
   ]
  },
  {
   "cell_type": "code",
   "execution_count": 9,
   "id": "c3f58d7e",
   "metadata": {},
   "outputs": [
    {
     "name": "stdout",
     "output_type": "stream",
     "text": [
      "Top 10 Tweets with most probability of being in Topic 4:\n",
      "\n",
      "1. Probability of being in Topic 4:\t0.8025956155688057\n",
      "Tweet:\ttime magazine \"person of the year\" nominations \"short list\": n korea kim jong un, robert mueller, colin kaepernick\n",
      "\n",
      "\n",
      "2. Probability of being in Topic 4:\t0.8020768131016623\n",
      "Tweet:\ttrump, xi, kim, mbs, the #metoo movement, patty jenkins, colin kaepernick, robert mueller, the dreamers and jeff bezos\n",
      "\n",
      "\n",
      "3. Probability of being in Topic 4:\t0.7977595617436035\n",
      "Tweet:\tzeta extends well wishes to soror anita hill, esq., as she leads the newly formed commission that will address sexu\n",
      "\n",
      "\n",
      "4. Probability of being in Topic 4:\t0.7972593134776249\n",
      "Tweet:\tanita hills accusations against clarence thomas launched the first #metoo moment 26 years ago, but the justice has faced li\n",
      "\n",
      "\n",
      "5. Probability of being in Topic 4:\t0.7960301872983279\n",
      "Tweet:\tyes to the dreamers, colin kaepernick, robert mueller, & the #metoo movement; hell fucking no to donald trump or kim jung un\n",
      "\n",
      "\n",
      "6. Probability of being in Topic 4:\t0.7950553315797875\n",
      "Tweet:\ttime reveals its shortlist for person of the year, including president trump, the #metoo movement, colin kaepernick and kim jong u\n",
      "\n",
      "\n",
      "7. Probability of being in Topic 4:\t0.7946915090663194\n",
      "Tweet:\twith 24% votes muhammad bin salman tops the list of times person of the year while #metoo  campaign comes second wi\n",
      "\n",
      "\n",
      "8. Probability of being in Topic 4:\t0.7917476841396379\n",
      "Tweet:\ttime magazine made the right choice for person of the year. the silence breakers of the #metoo movement are changing th\n",
      "\n",
      "\n",
      "9. Probability of being in Topic 4:\t0.791509090942966\n",
      "Tweet:\tdear  \"#metoo\" is not a \"person\", whereas robert mueller, xi jinping, bin salman, patty jenkins, and jeff bezo\n",
      "\n",
      "\n",
      "10. Probability of being in Topic 4:\t0.7911312315667031\n",
      "Tweet:\tzeta extends well wishes to soror anita hill, esq.,  leads the newly formed commission that will address\n",
      "\n",
      "\n"
     ]
    }
   ],
   "source": [
    "# Find the top 10 maximum values in 'Topic_4'\n",
    "top_10_values = df.nlargest(10, 'Topic_4')\n",
    "\n",
    "# Create a list to store the associated text for the top values\n",
    "top_10_texts = []\n",
    "\n",
    "# Loop through the top 10 maximum values and extract their associated text\n",
    "for index, row in top_10_values.iterrows():\n",
    "    max_value = row['Topic_4']\n",
    "    max_value_text = row['text']\n",
    "    top_10_texts.append((max_value, max_value_text))\n",
    "print(f\"Top 10 Tweets with most probability of being in Topic 4:\\n\")\n",
    "\n",
    "# Print the top 10 maximum values and their associated text\n",
    "for i, (value, text) in enumerate(top_10_texts, 1):\n",
    "    print(f\"{i}. Probability of being in Topic 4:\\t{value}\")\n",
    "    print(f\"Tweet:\\t{text}\")\n",
    "    print(\"\\n\")\n"
   ]
  },
  {
   "cell_type": "markdown",
   "id": "183970e8",
   "metadata": {},
   "source": [
    "# Top 10 Tweets for **Topic 5** with their probabilities of being in topic 5\n",
    "- Topic 5 deals with prominent peoplein political parties and accusation on them with names like Roy Moore, Trump, lynne callahan bein talked about multiple time."
   ]
  },
  {
   "cell_type": "code",
   "execution_count": 10,
   "id": "a94a6563",
   "metadata": {},
   "outputs": [
    {
     "name": "stdout",
     "output_type": "stream",
     "text": [
      "Top 10 Tweets with most probability of being in Topic 5:\n",
      "\n",
      "1. Probability of being in Topic 5:\t0.8048973277872772\n",
      "Tweet:\trt cnn \"5 reasons you need to pay attention to the roy moore race:- trump's policy agenda- the 2018 election- t\n",
      "\n",
      "\n",
      "2. Probability of being in Topic 5:\t0.8040889995388389\n",
      "Tweet:\t#metoo alabama pedofile defeated in senate race! x cop lynne callahan falsified \"2nd batch inventory sheet\" frame\n",
      "\n",
      "\n",
      "3. Probability of being in Topic 5:\t0.8008622122455931\n",
      "Tweet:\twomen are winning. robin wright will make final season of house of cards with no male lead & christian amanpour wil\n",
      "\n",
      "\n",
      "4. Probability of being in Topic 5:\t0.7994166253104229\n",
      "Tweet:\tif roy moore wins the alabama senate race, despite being a pedophile, i will lose faith in americans ability to ch\n",
      "\n",
      "\n",
      "5. Probability of being in Topic 5:\t0.7993784761599138\n",
      "Tweet:\trepublican candidate christian judge roy moore didnt lose the alabama election last night from fake sex harassment\n",
      "\n",
      "\n",
      "6. Probability of being in Topic 5:\t0.799206895130963\n",
      "Tweet:\t5 reasons you need to pay attention to the roy moore race:- trump's policy agenda- the 2018 election- the gop b\n",
      "\n",
      "\n",
      "7. Probability of being in Topic 5:\t0.7990167095463374\n",
      "Tweet:\tcnn : 5 reasons you need to pay attention to the roy moore race:- trump's policy agenda- the 2018 election- the\n",
      "\n",
      "\n",
      "8. Probability of being in Topic 5:\t0.7975123882707373\n",
      "Tweet:\tin light of the #metoo movement and the current climate, i think the most predatory christmas song baby its cold outside needs to die\n",
      "\n",
      "\n",
      "9. Probability of being in Topic 5:\t0.7970041090272715\n",
      "Tweet:\tgonna leave this up all weekend. dem. pedo barney frank ran a teen brothel from his dupont circle condo & our gover\n",
      "\n",
      "\n",
      "10. Probability of being in Topic 5:\t0.796721142396572\n",
      "Tweet:\thalf the people in roy moore's district who lived there 30 years ago know the truth. franken should ha\n",
      "\n",
      "\n"
     ]
    }
   ],
   "source": [
    "# Find the top 10 maximum values in 'Topic_5'\n",
    "top_10_values = df.nlargest(10, 'Topic_5')\n",
    "\n",
    "# Create a list to store the associated text for the top values\n",
    "top_10_texts = []\n",
    "\n",
    "# Loop through the top 10 maximum values and extract their associated text\n",
    "for index, row in top_10_values.iterrows():\n",
    "    max_value = row['Topic_5']\n",
    "    max_value_text = row['text']\n",
    "    top_10_texts.append((max_value, max_value_text))\n",
    "print(f\"Top 10 Tweets with most probability of being in Topic 5:\\n\")\n",
    "\n",
    "# Print the top 10 maximum values and their associated text\n",
    "for i, (value, text) in enumerate(top_10_texts, 1):\n",
    "    print(f\"{i}. Probability of being in Topic 5:\\t{value}\")\n",
    "    print(f\"Tweet:\\t{text}\")\n",
    "    print(\"\\n\")\n"
   ]
  },
  {
   "cell_type": "markdown",
   "id": "89179508",
   "metadata": {},
   "source": [
    "# Top 10 Tweets for **Topic 6** with their probabilities of being in topic 6\n",
    "- Topic 6 deals with people criticing the movement as well as calling out people who are criticing the movement."
   ]
  },
  {
   "cell_type": "code",
   "execution_count": 11,
   "id": "23c5d56f",
   "metadata": {},
   "outputs": [
    {
     "name": "stdout",
     "output_type": "stream",
     "text": [
      "Top 10 Tweets with most probability of being in Topic 6:\n",
      "\n",
      "1. Probability of being in Topic 6:\t0.8026404573378955\n",
      "Tweet:\tthis bully thing turning into the newest #metoo. makes ya think the world really has gone dumbass mad for social media attention.\n",
      "\n",
      "\n",
      "2. Probability of being in Topic 6:\t0.7981093024103139\n",
      "Tweet:\tso this entire time on twitter for some reason i thought the #metoo hashtag very small icon was a vagina. nope. it's actually raised hands.\n",
      "\n",
      "\n",
      "3. Probability of being in Topic 6:\t0.7967826901771199\n",
      "Tweet:\trt scottpresler: reminder: congress used $17 million from a taxpayer funded hush slush fund to pay off sexual ass\n",
      "\n",
      "\n",
      "4. Probability of being in Topic 6:\t0.7958155348843653\n",
      "Tweet:\ttexas attorney generals top aide mocks pathetic #metoo movement and calls womens marchers c*nts | raw story https://\n",
      "\n",
      "\n",
      "5. Probability of being in Topic 6:\t0.7951977931429788\n",
      "Tweet:\tnational enquirers ami defies #metoo, defends piggish behaviorthe #trump-aligned media company says its chief content offic\n",
      "\n",
      "\n",
      "6. Probability of being in Topic 6:\t0.7935270771869665\n",
      "Tweet:\tbring it on asshole !!!   kiss your job goodbye ! texas attorney generals top aide mocks pathetic #metoo movemen\n",
      "\n",
      "\n",
      "7. Probability of being in Topic 6:\t0.7926401848932584\n",
      "Tweet:\tfully believed #metoo would begin to make a difference until the leading political party in the united states decided it doesn't matter.\n",
      "\n",
      "\n",
      "8. Probability of being in Topic 6:\t0.7916620610635807\n",
      "Tweet:\tlongtime dc civil rights lawyer ari wilkenfeld is representing the woman who brought sexual misconduct claims this\n",
      "\n",
      "\n",
      "9. Probability of being in Topic 6:\t0.7910092280333914\n",
      "Tweet:\tabout a month ago i wrote that gene simmons invited his being sued for groping, attempted groping and sexual harass\n",
      "\n",
      "\n",
      "10. Probability of being in Topic 6:\t0.7902040509198038\n",
      "Tweet:\ti hate that we are forced to imagine old man icons we loved & respected, naked while 'trying' to be sexual by creep\n",
      "\n",
      "\n"
     ]
    }
   ],
   "source": [
    "# Find the top 10 maximum values in 'Topic_6'\n",
    "top_10_values = df.nlargest(10, 'Topic_6')\n",
    "\n",
    "# Create a list to store the associated text for the top values\n",
    "top_10_texts = []\n",
    "\n",
    "# Loop through the top 10 maximum values and extract their associated text\n",
    "for index, row in top_10_values.iterrows():\n",
    "    max_value = row['Topic_6']\n",
    "    max_value_text = row['text']\n",
    "    top_10_texts.append((max_value, max_value_text))\n",
    "print(f\"Top 10 Tweets with most probability of being in Topic 6:\\n\")\n",
    "\n",
    "# Print the top 10 maximum values and their associated text\n",
    "for i, (value, text) in enumerate(top_10_texts, 1):\n",
    "    print(f\"{i}. Probability of being in Topic 6:\\t{value}\")\n",
    "    print(f\"Tweet:\\t{text}\")\n",
    "    print(\"\\n\")\n"
   ]
  },
  {
   "cell_type": "markdown",
   "id": "910fb657",
   "metadata": {},
   "source": [
    "# Top 10 Tweets for **Topic 7** with their probabilities of being in topic 7\n",
    "-  Topic 7 is about the demonstrations that were inspired by the MeToo movement such as the clothesline project and changes brought about due to the movement."
   ]
  },
  {
   "cell_type": "code",
   "execution_count": 12,
   "id": "911065ca",
   "metadata": {},
   "outputs": [
    {
     "name": "stdout",
     "output_type": "stream",
     "text": [
      "Top 10 Tweets with most probability of being in Topic 7:\n",
      "\n",
      "1. Probability of being in Topic 7:\t0.7954416249155964\n",
      "Tweet:\tnew story on npr: rows of hot pink paper, all saying #metoo  mexican artist monica mayer bri\n",
      "\n",
      "\n",
      "2. Probability of being in Topic 7:\t0.7946684265960687\n",
      "Tweet:\tlady tecniq news at the golden globes, hollywood men will joining actresses in wearing all black - a celebrity styl\n",
      "\n",
      "\n",
      "3. Probability of being in Topic 7:\t0.7903370647695275\n",
      "Tweet:\trows of hot pink paper, all saying #metoomexican artist monica mayer brings her \"clothesline project\" to the nati\n",
      "\n",
      "\n",
      "4. Probability of being in Topic 7:\t0.7897404585189737\n",
      "Tweet:\tnew article (is #metoo movement spoiling christmas? fox news host stirs up outrage online) has been published on\n",
      "\n",
      "\n",
      "5. Probability of being in Topic 7:\t0.7855444570818696\n",
      "Tweet:\tformer days of our livesstar shares creepy story of sexual extortion #metoo - colombian soap opera star ximena duq\n",
      "\n",
      "\n",
      "6. Probability of being in Topic 7:\t0.7843512957036766\n",
      "Tweet:\tit's oliver's rejection of a celebrity attempt to drive and shape the way the media report #metoo events th\n",
      "\n",
      "\n",
      "7. Probability of being in Topic 7:\t0.783708566562862\n",
      "Tweet:\t#mtbnews daily briefing: disney-fox $66bn deal, hugo bosss conundrum, #metoo engulfs congress - the landmark acqui\n",
      "\n",
      "\n",
      "8. Probability of being in Topic 7:\t0.7836429847564605\n",
      "Tweet:\tgreat decision to convince all the young beautiful women to wear black during award season. maybe u can get them to\n",
      "\n",
      "\n",
      "9. Probability of being in Topic 7:\t0.7833050454214499\n",
      "Tweet:\tthis winter, a group of actresses are planning to wear black to the golden globes to protest sexual harassment in h\n",
      "\n",
      "\n",
      "10. Probability of being in Topic 7:\t0.7829780874323605\n",
      "Tweet:\tabsolutely! good for her! monica lewinsky 'fixes' title of hln special to focus on the real scandal\n",
      "\n",
      "\n"
     ]
    }
   ],
   "source": [
    "# Find the top 10 maximum values in 'Topic_7'\n",
    "top_10_values = df.nlargest(10, 'Topic_7')\n",
    "\n",
    "# Create a list to store the associated text for the top values\n",
    "top_10_texts = []\n",
    "\n",
    "# Loop through the top 10 maximum values and extract their associated text\n",
    "for index, row in top_10_values.iterrows():\n",
    "    max_value = row['Topic_7']\n",
    "    max_value_text = row['text']\n",
    "    top_10_texts.append((max_value, max_value_text))\n",
    "print(f\"Top 10 Tweets with most probability of being in Topic 7:\\n\")\n",
    "\n",
    "# Print the top 10 maximum values and their associated text\n",
    "for i, (value, text) in enumerate(top_10_texts, 1):\n",
    "    print(f\"{i}. Probability of being in Topic 7:\\t{value}\")\n",
    "    print(f\"Tweet:\\t{text}\")\n",
    "    print(\"\\n\")\n"
   ]
  },
  {
   "cell_type": "markdown",
   "id": "985ec920",
   "metadata": {},
   "source": [
    "# Top 10 Tweets for **Topic 8** with their probabilities of being in topic 8\n",
    "- Topic 8 highlights survivor stories and talks about dr chris rocks and his books teaching children about appropriate touches."
   ]
  },
  {
   "cell_type": "code",
   "execution_count": 13,
   "id": "5665591d",
   "metadata": {},
   "outputs": [
    {
     "name": "stdout",
     "output_type": "stream",
     "text": [
      "Top 10 Tweets with most probability of being in Topic 8:\n",
      "\n",
      "1. Probability of being in Topic 8:\t0.7987571478570779\n",
      "Tweet:\tmy dad sexually molested me at 9, 10, 11, 12 and 13 than i ran away. he has been dead for 15 years and just this ye\n",
      "\n",
      "\n",
      "2. Probability of being in Topic 8:\t0.7982640857823382\n",
      "Tweet:\tmatt damon is a fucking idiot .. yes lets talk more about white privileged males that didnt do shit instead of ta\n",
      "\n",
      "\n",
      "3. Probability of being in Topic 8:\t0.7979958449738749\n",
      "Tweet:\tdr mark rocks  free colouring-in books  teaching kids about in appropriate touch google koala and bunny\n",
      "\n",
      "\n",
      "4. Probability of being in Topic 8:\t0.7979001612987376\n",
      "Tweet:\tdr chris rocks.  free colouring-in books  teaching kids about in appropriate touch google koala and bunny\n",
      "\n",
      "\n",
      "5. Probability of being in Topic 8:\t0.7973481496556633\n",
      "Tweet:\ttwitter allows leftwing rosie to target, sexually harass & incite hate on conservative jew ben shapiro. #metoo\n",
      "\n",
      "\n",
      "6. Probability of being in Topic 8:\t0.7969093213006401\n",
      "Tweet:\temminent aussies love koala and bunny  free colouring-in books  teaching kids about in appropriate touch google\n",
      "\n",
      "\n",
      "7. Probability of being in Topic 8:\t0.7963505117918411\n",
      "Tweet:\ttoday i bless my junk #metoo part 3 - topic on what happens when you speak out & why women wait 10, 20, 30, 40, 50,\n",
      "\n",
      "\n",
      "8. Probability of being in Topic 8:\t0.7961871227077753\n",
      "Tweet:\tminnie driver: men like matt damon 'simply cannot understand what abuse is like' powerful words and absolutely righ\n",
      "\n",
      "\n",
      "9. Probability of being in Topic 8:\t0.7956574045327002\n",
      "Tweet:\twe know that trump is a serial sexual abuser, and as a younger man allegedly raped a 13 year old girl. so why is he\n",
      "\n",
      "\n",
      "10. Probability of being in Topic 8:\t0.7956306494274098\n",
      "Tweet:\ti know this poor thing it was tough coming forward 40 years later and scribbling some fake notes in a  year book #metoo\n",
      "\n",
      "\n"
     ]
    }
   ],
   "source": [
    "# Find the top 10 maximum values in 'Topic_8'\n",
    "top_10_values = df.nlargest(10, 'Topic_8')\n",
    "\n",
    "# Create a list to store the associated text for the top values\n",
    "top_10_texts = []\n",
    "\n",
    "# Loop through the top 10 maximum values and extract their associated text\n",
    "for index, row in top_10_values.iterrows():\n",
    "    max_value = row['Topic_8']\n",
    "    max_value_text = row['text']\n",
    "    top_10_texts.append((max_value, max_value_text))\n",
    "print(f\"Top 10 Tweets with most probability of being in Topic 8:\\n\")\n",
    "\n",
    "# Print the top 10 maximum values and their associated text\n",
    "for i, (value, text) in enumerate(top_10_texts, 1):\n",
    "    print(f\"{i}. Probability of being in Topic 8:\\t{value}\")\n",
    "    print(f\"Tweet:\\t{text}\")\n",
    "    print(\"\\n\")\n"
   ]
  },
  {
   "cell_type": "markdown",
   "id": "118fe5c8",
   "metadata": {},
   "source": [
    "# Top 10 Tweets for **Topic 9** with their probabilities of being in topic 9\n",
    "- Topic 9 focuses on tarana burke the woman who created the movement in 2006 for empowering and uniting women of color to speak up about the abuse they faced"
   ]
  },
  {
   "cell_type": "code",
   "execution_count": 14,
   "id": "c364c547",
   "metadata": {},
   "outputs": [
    {
     "name": "stdout",
     "output_type": "stream",
     "text": [
      "Top 10 Tweets with most probability of being in Topic 9:\n",
      "\n",
      "1. Probability of being in Topic 9:\t0.8080671121239231\n",
      "Tweet:\ttarana burke  the woman who created #metoo 10 years ago  will kick off the countdown for time square's new year's eve ball dr\n",
      "\n",
      "\n",
      "2. Probability of being in Topic 9:\t0.8047832297140337\n",
      "Tweet:\thello 2018!  #metoo creator tarana burke will push button to drop new years eve ball in times square:\n",
      "\n",
      "\n",
      "3. Probability of being in Topic 9:\t0.8032858829053441\n",
      "Tweet:\tnew post (#metoo creator tarana burke set to drop new year's eve ball in times square) has been published on the da\n",
      "\n",
      "\n",
      "4. Probability of being in Topic 9:\t0.7991298147529519\n",
      "Tweet:\t#metoo creator will push button to drop new year's eve ball in times square - activist tarana burke founded the\n",
      "\n",
      "\n",
      "5. Probability of being in Topic 9:\t0.7985148113445433\n",
      "Tweet:\t#metoo creator tarana burke will  be pressing the button to start the minute countdown to 2018 and signal the ball drop in times\n",
      "\n",
      "\n",
      "6. Probability of being in Topic 9:\t0.7981129416455746\n",
      "Tweet:\tcan you believe it? sometimes really good things happen!!#metoo founder tarana burke to drop times square new year\n",
      "\n",
      "\n",
      "7. Probability of being in Topic 9:\t0.7980024986233992\n",
      "Tweet:\t#metoo campaign founder tarana burke will push the button to drop the times square ball on new years eve\n",
      "\n",
      "\n",
      "8. Probability of being in Topic 9:\t0.7977500780098874\n",
      "Tweet:\tusa gymnastics reached settlement over abuse claims with gold medalist mckayla maroney. larry nassar is an example\n",
      "\n",
      "\n",
      "9. Probability of being in Topic 9:\t0.7972734256303461\n",
      "Tweet:\tsoooo jimmy choo and cara delevingne just put out this ad that makes catcalling look cool and sexy. um, wtf?! have\n",
      "\n",
      "\n",
      "10. Probability of being in Topic 9:\t0.797208069210562\n",
      "Tweet:\tvia : #metoo creator will push button to drop new year's eve ball in times square - activist tarana burk\n",
      "\n",
      "\n"
     ]
    }
   ],
   "source": [
    "# Find the top 10 maximum values in 'Topic_9'\n",
    "top_10_values = df.nlargest(10, 'Topic_9')\n",
    "\n",
    "# Create a list to store the associated text for the top values\n",
    "top_10_texts = []\n",
    "\n",
    "# Loop through the top 10 maximum values and extract their associated text\n",
    "for index, row in top_10_values.iterrows():\n",
    "    max_value = row['Topic_9']\n",
    "    max_value_text = row['text']\n",
    "    top_10_texts.append((max_value, max_value_text))\n",
    "print(f\"Top 10 Tweets with most probability of being in Topic 9:\\n\")\n",
    "\n",
    "# Print the top 10 maximum values and their associated text\n",
    "for i, (value, text) in enumerate(top_10_texts, 1):\n",
    "    print(f\"{i}. Probability of being in Topic 9:\\t{value}\")\n",
    "    print(f\"Tweet:\\t{text}\")\n",
    "    print(\"\\n\")\n"
   ]
  },
  {
   "cell_type": "markdown",
   "id": "aabf2765",
   "metadata": {},
   "source": [
    "# Top 10 Tweets for **Topic 10** with their probabilities of being in topic 10\n",
    "- Topic 10 deals with people talking about understanding sexual harassment & assault experiences and supporting women and girls and keeping them safe"
   ]
  },
  {
   "cell_type": "code",
   "execution_count": 15,
   "id": "ee7bfed5",
   "metadata": {},
   "outputs": [
    {
     "name": "stdout",
     "output_type": "stream",
     "text": [
      "Top 10 Tweets with most probability of being in Topic 10:\n",
      "\n",
      "1. Probability of being in Topic 10:\t0.793611711007424\n",
      "Tweet:\t1/ dear straight men trying to understand sexual harassment & assault: forget trying to fathom what your mother, wi\n",
      "\n",
      "\n",
      "2. Probability of being in Topic 10:\t0.7923935584202755\n",
      "Tweet:\ti really hope the people from alabama make the right choice and protect young innocent girls, like m\n",
      "\n",
      "\n",
      "3. Probability of being in Topic 10:\t0.7923742542110545\n",
      "Tweet:\toh yeah plus she's really a bad actress in all honesty. honestly y'all go look at her stupid #metoo speech lol\n",
      "\n",
      "\n",
      "4. Probability of being in Topic 10:\t0.7918584572820225\n",
      "Tweet:\tliberals no longer believe in due process or innocent unless proved guilty. women are always right, can't lie. live\n",
      "\n",
      "\n",
      "5. Probability of being in Topic 10:\t0.7905751361817809\n",
      "Tweet:\t#metoodamn. watch: cnn host left speechless as ex-fox news analyst breaks her confidentiality agreement and exposes rup\n",
      "\n",
      "\n",
      "6. Probability of being in Topic 10:\t0.7901694208298342\n",
      "Tweet:\thow the #metoo movement inspired these black women to vote for doug jones  way to step up ladies, if only white wom\n",
      "\n",
      "\n",
      "7. Probability of being in Topic 10:\t0.7900895785185534\n",
      "Tweet:\ta powerful new #film, edited by cut+runs sean stender and directed by lara everly, sheds light on the stark realit\n",
      "\n",
      "\n",
      "8. Probability of being in Topic 10:\t0.7900260162614415\n",
      "Tweet:\toh look, its syfy airing jeepers creepers 3 again, brought to you by convicted child rapist victor salva. wha\n",
      "\n",
      "\n",
      "9. Probability of being in Topic 10:\t0.7899759850632239\n",
      "Tweet:\ty'all start #metoo but the moment a famous celebrity y'all like gets accused of rape, y'all want victims to shut up smh\n",
      "\n",
      "\n",
      "10. Probability of being in Topic 10:\t0.7894159751935719\n",
      "Tweet:\twow. such a low bar for male senators: dont 1) treat women like sex objects, 2) make joke\n",
      "\n",
      "\n"
     ]
    }
   ],
   "source": [
    "# Find the top 10 maximum values in 'Topic_10'\n",
    "top_10_values = df.nlargest(10, 'Topic_10')\n",
    "\n",
    "# Create a list to store the associated text for the top values\n",
    "top_10_texts = []\n",
    "\n",
    "# Loop through the top 10 maximum values and extract their associated text\n",
    "for index, row in top_10_values.iterrows():\n",
    "    max_value = row['Topic_10']\n",
    "    max_value_text = row['text']\n",
    "    top_10_texts.append((max_value, max_value_text))\n",
    "print(f\"Top 10 Tweets with most probability of being in Topic 10:\\n\")\n",
    "\n",
    "# Print the top 10 maximum values and their associated text\n",
    "for i, (value, text) in enumerate(top_10_texts, 1):\n",
    "    print(f\"{i}. Probability of being in Topic 10:\\t{value}\")\n",
    "    print(f\"Tweet:\\t{text}\")\n",
    "    print(\"\\n\")\n"
   ]
  },
  {
   "cell_type": "markdown",
   "id": "fb773c64",
   "metadata": {},
   "source": [
    "# Top 10 Tweets for **Topic 11** with their probabilities of being in topic 11\n",
    "- Topic 11 deals with addressing insufficient sex education and the efforts taken to bring justice to the victims of Sexual assault and harassment."
   ]
  },
  {
   "cell_type": "code",
   "execution_count": 16,
   "id": "ada942b8",
   "metadata": {},
   "outputs": [
    {
     "name": "stdout",
     "output_type": "stream",
     "text": [
      "Top 10 Tweets with most probability of being in Topic 11:\n",
      "\n",
      "1. Probability of being in Topic 11:\t0.8138730255854668\n",
      "Tweet:\t#metoo akron ohio star chamber orders hits: peggy pittenger=author 4x oh thoroughbred racing ass pres poisoned 16 d\n",
      "\n",
      "\n",
      "2. Probability of being in Topic 11:\t0.8049947057748271\n",
      "Tweet:\t#metoo bombshell! akron officials police conspiracy poison author 4x thoroughbred racing assn pres peggy pittenger\n",
      "\n",
      "\n",
      "3. Probability of being in Topic 11:\t0.7999570134574827\n",
      "Tweet:\t#education news: if we want to end rape culture, we need to address insufficient sex education, new book says - vic\n",
      "\n",
      "\n",
      "4. Probability of being in Topic 11:\t0.7979358681227745\n",
      "Tweet:\t#metoo justice from grave reweet akron officials conspiracy poison peggy pittenger=author 4x oh thoroughbred racing ass\n",
      "\n",
      "\n",
      "5. Probability of being in Topic 11:\t0.7978647110535646\n",
      "Tweet:\t#metoo justice from grave akron officials poison peggy pittenger=author 4x oh thoroughbred racing ass pres 4 helpin\n",
      "\n",
      "\n",
      "6. Probability of being in Topic 11:\t0.7974591319632117\n",
      "Tweet:\tas vp retired of a fortune 500 company i saw many brainless, big-buck beauties who banged their way upall low iq b\n",
      "\n",
      "\n",
      "7. Probability of being in Topic 11:\t0.7973513862832053\n",
      "Tweet:\tnow it gets really good...family member ran small business & had social mtg with staff.  met young female junior ex\n",
      "\n",
      "\n",
      "8. Probability of being in Topic 11:\t0.7969095439373018\n",
      "Tweet:\trt cernovich \"\"cenk soon joined me and we discovered these three little spoiled brat bitch young american girls on\n",
      "\n",
      "\n",
      "9. Probability of being in Topic 11:\t0.7966175674103022\n",
      "Tweet:\toklahoma teacher, 22, socked with criminal charges for alleged sex romp with underage boy | fox news #metoo\n",
      "\n",
      "\n",
      "10. Probability of being in Topic 11:\t0.7965024675860097\n",
      "Tweet:\tsad that rep. nancy pelosi, the leader of all house democrats, made so little effort to protect women fromthe sexu\n",
      "\n",
      "\n"
     ]
    }
   ],
   "source": [
    "# Find the top 10 maximum values in 'Topic_11'\n",
    "top_10_values = df.nlargest(10, 'Topic_11')\n",
    "\n",
    "# Create a list to store the associated text for the top values\n",
    "top_10_texts = []\n",
    "\n",
    "# Loop through the top 10 maximum values and extract their associated text\n",
    "for index, row in top_10_values.iterrows():\n",
    "    max_value = row['Topic_11']\n",
    "    max_value_text = row['text']\n",
    "    top_10_texts.append((max_value, max_value_text))\n",
    "print(f\"Top 10 Tweets with most probability of being in Topic 11:\\n\")\n",
    "\n",
    "# Print the top 10 maximum values and their associated text\n",
    "for i, (value, text) in enumerate(top_10_texts, 1):\n",
    "    print(f\"{i}. Probability of being in Topic 11:\\t{value}\")\n",
    "    print(f\"Tweet:\\t{text}\")\n",
    "    print(\"\\n\")\n"
   ]
  },
  {
   "cell_type": "markdown",
   "id": "fb65c8f7",
   "metadata": {},
   "source": [
    "# Replacing the \"created\" column with the original \"created\" column after mapping with \"text\" column"
   ]
  },
  {
   "cell_type": "code",
   "execution_count": 17,
   "id": "fc313f04",
   "metadata": {},
   "outputs": [
    {
     "data": {
      "text/plain": [
       "(142451, 26)"
      ]
     },
     "execution_count": 17,
     "metadata": {},
     "output_type": "execute_result"
    }
   ],
   "source": [
    "df1=pd.read_csv(\"/Users/samriddhikumari/Desktop/PYthon/Projects/NLP_srs/checking.csv\")\n",
    "df1.shape"
   ]
  },
  {
   "cell_type": "code",
   "execution_count": 18,
   "id": "60d2808e",
   "metadata": {},
   "outputs": [
    {
     "data": {
      "text/plain": [
       "(133567, 36)"
      ]
     },
     "execution_count": 18,
     "metadata": {},
     "output_type": "execute_result"
    }
   ],
   "source": [
    "df2=df\n",
    "df2.shape"
   ]
  },
  {
   "cell_type": "code",
   "execution_count": 19,
   "id": "d9470ad0",
   "metadata": {},
   "outputs": [
    {
     "data": {
      "text/html": [
       "<div>\n",
       "<style scoped>\n",
       "    .dataframe tbody tr th:only-of-type {\n",
       "        vertical-align: middle;\n",
       "    }\n",
       "\n",
       "    .dataframe tbody tr th {\n",
       "        vertical-align: top;\n",
       "    }\n",
       "\n",
       "    .dataframe thead th {\n",
       "        text-align: right;\n",
       "    }\n",
       "</style>\n",
       "<table border=\"1\" class=\"dataframe\">\n",
       "  <thead>\n",
       "    <tr style=\"text-align: right;\">\n",
       "      <th></th>\n",
       "      <th>Unnamed: 0</th>\n",
       "      <th>text</th>\n",
       "      <th>text.1</th>\n",
       "      <th>favoriteCount</th>\n",
       "      <th>replyToSN</th>\n",
       "      <th>created</th>\n",
       "      <th>truncated</th>\n",
       "      <th>replyToSID</th>\n",
       "      <th>id</th>\n",
       "      <th>replyToUID</th>\n",
       "      <th>...</th>\n",
       "      <th>Topic_2</th>\n",
       "      <th>Topic_3</th>\n",
       "      <th>Topic_4</th>\n",
       "      <th>Topic_5</th>\n",
       "      <th>Topic_6</th>\n",
       "      <th>Topic_7</th>\n",
       "      <th>Topic_8</th>\n",
       "      <th>Topic_9</th>\n",
       "      <th>Topic_10</th>\n",
       "      <th>Topic_11</th>\n",
       "    </tr>\n",
       "  </thead>\n",
       "  <tbody>\n",
       "    <tr>\n",
       "      <th>0</th>\n",
       "      <td>0</td>\n",
       "      <td>!  are in power. doing all they can to protect...</td>\n",
       "      <td>False</td>\n",
       "      <td>1</td>\n",
       "      <td>TheLastWord</td>\n",
       "      <td>12/22/17 3:28</td>\n",
       "      <td>True</td>\n",
       "      <td>NaN</td>\n",
       "      <td>944047000000000000</td>\n",
       "      <td>1.825035e+08</td>\n",
       "      <td>...</td>\n",
       "      <td>0.027960</td>\n",
       "      <td>0.692435</td>\n",
       "      <td>0.027959</td>\n",
       "      <td>0.027965</td>\n",
       "      <td>0.027959</td>\n",
       "      <td>0.027959</td>\n",
       "      <td>0.027959</td>\n",
       "      <td>0.027961</td>\n",
       "      <td>0.027959</td>\n",
       "      <td>0.027961</td>\n",
       "    </tr>\n",
       "    <tr>\n",
       "      <th>1</th>\n",
       "      <td>1</td>\n",
       "      <td>! labels it \"powerful male pattern blindness\" ...</td>\n",
       "      <td>False</td>\n",
       "      <td>0</td>\n",
       "      <td>NaN</td>\n",
       "      <td>11/29/17 15:10</td>\n",
       "      <td>True</td>\n",
       "      <td>NaN</td>\n",
       "      <td>936000000000000000</td>\n",
       "      <td>NaN</td>\n",
       "      <td>...</td>\n",
       "      <td>0.312065</td>\n",
       "      <td>0.022496</td>\n",
       "      <td>0.022498</td>\n",
       "      <td>0.022495</td>\n",
       "      <td>0.462979</td>\n",
       "      <td>0.022495</td>\n",
       "      <td>0.022495</td>\n",
       "      <td>0.022496</td>\n",
       "      <td>0.022495</td>\n",
       "      <td>0.022495</td>\n",
       "    </tr>\n",
       "    <tr>\n",
       "      <th>2</th>\n",
       "      <td>2</td>\n",
       "      <td>! somebodys been reading my tweets! those rega...</td>\n",
       "      <td>False</td>\n",
       "      <td>1</td>\n",
       "      <td>amjoyshow</td>\n",
       "      <td>12/16/17 16:54</td>\n",
       "      <td>True</td>\n",
       "      <td>NaN</td>\n",
       "      <td>942076000000000000</td>\n",
       "      <td>7.311320e+17</td>\n",
       "      <td>...</td>\n",
       "      <td>0.026048</td>\n",
       "      <td>0.026047</td>\n",
       "      <td>0.026047</td>\n",
       "      <td>0.026046</td>\n",
       "      <td>0.026047</td>\n",
       "      <td>0.026046</td>\n",
       "      <td>0.713486</td>\n",
       "      <td>0.026047</td>\n",
       "      <td>0.026047</td>\n",
       "      <td>0.026046</td>\n",
       "    </tr>\n",
       "    <tr>\n",
       "      <th>3</th>\n",
       "      <td>3</td>\n",
       "      <td>! the #resistance continues. welcome to 2018. ...</td>\n",
       "      <td>False</td>\n",
       "      <td>5</td>\n",
       "      <td>NaN</td>\n",
       "      <td>12/24/17 16:41</td>\n",
       "      <td>True</td>\n",
       "      <td>NaN</td>\n",
       "      <td>944971000000000000</td>\n",
       "      <td>NaN</td>\n",
       "      <td>...</td>\n",
       "      <td>0.023190</td>\n",
       "      <td>0.023192</td>\n",
       "      <td>0.380803</td>\n",
       "      <td>0.023190</td>\n",
       "      <td>0.023189</td>\n",
       "      <td>0.191474</td>\n",
       "      <td>0.023189</td>\n",
       "      <td>0.023189</td>\n",
       "      <td>0.023190</td>\n",
       "      <td>0.219013</td>\n",
       "    </tr>\n",
       "    <tr>\n",
       "      <th>4</th>\n",
       "      <td>4</td>\n",
       "      <td>! this is the judge who gave brock turner 6 mo...</td>\n",
       "      <td>False</td>\n",
       "      <td>1</td>\n",
       "      <td>RecallPersky</td>\n",
       "      <td>12/9/17 20:57</td>\n",
       "      <td>True</td>\n",
       "      <td>NaN</td>\n",
       "      <td>939600000000000000</td>\n",
       "      <td>7.393050e+17</td>\n",
       "      <td>...</td>\n",
       "      <td>0.024427</td>\n",
       "      <td>0.024427</td>\n",
       "      <td>0.024427</td>\n",
       "      <td>0.024427</td>\n",
       "      <td>0.024427</td>\n",
       "      <td>0.024427</td>\n",
       "      <td>0.024427</td>\n",
       "      <td>0.731296</td>\n",
       "      <td>0.024429</td>\n",
       "      <td>0.024427</td>\n",
       "    </tr>\n",
       "    <tr>\n",
       "      <th>...</th>\n",
       "      <td>...</td>\n",
       "      <td>...</td>\n",
       "      <td>...</td>\n",
       "      <td>...</td>\n",
       "      <td>...</td>\n",
       "      <td>...</td>\n",
       "      <td>...</td>\n",
       "      <td>...</td>\n",
       "      <td>...</td>\n",
       "      <td>...</td>\n",
       "      <td>...</td>\n",
       "      <td>...</td>\n",
       "      <td>...</td>\n",
       "      <td>...</td>\n",
       "      <td>...</td>\n",
       "      <td>...</td>\n",
       "      <td>...</td>\n",
       "      <td>...</td>\n",
       "      <td>...</td>\n",
       "      <td>...</td>\n",
       "      <td>...</td>\n",
       "    </tr>\n",
       "    <tr>\n",
       "      <th>133562</th>\n",
       "      <td>133563</td>\n",
       "      <td>~in an attempt to beat back his own personal #...</td>\n",
       "      <td>False</td>\n",
       "      <td>0</td>\n",
       "      <td>NaN</td>\n",
       "      <td>12/12/17 22:49</td>\n",
       "      <td>False</td>\n",
       "      <td>NaN</td>\n",
       "      <td>940715000000000000</td>\n",
       "      <td>NaN</td>\n",
       "      <td>...</td>\n",
       "      <td>0.022090</td>\n",
       "      <td>0.022091</td>\n",
       "      <td>0.022090</td>\n",
       "      <td>0.022090</td>\n",
       "      <td>0.022091</td>\n",
       "      <td>0.022090</td>\n",
       "      <td>0.022090</td>\n",
       "      <td>0.022090</td>\n",
       "      <td>0.022091</td>\n",
       "      <td>0.022090</td>\n",
       "    </tr>\n",
       "    <tr>\n",
       "      <th>133563</th>\n",
       "      <td>133564</td>\n",
       "      <td>~right now you are in a rush to push #goptaxsc...</td>\n",
       "      <td>False</td>\n",
       "      <td>1</td>\n",
       "      <td>AnalogMom</td>\n",
       "      <td>12/20/17 13:52</td>\n",
       "      <td>False</td>\n",
       "      <td>9.434710e+17</td>\n",
       "      <td>943479000000000000</td>\n",
       "      <td>4.625303e+07</td>\n",
       "      <td>...</td>\n",
       "      <td>0.026185</td>\n",
       "      <td>0.026187</td>\n",
       "      <td>0.026185</td>\n",
       "      <td>0.026186</td>\n",
       "      <td>0.711957</td>\n",
       "      <td>0.026184</td>\n",
       "      <td>0.026186</td>\n",
       "      <td>0.026187</td>\n",
       "      <td>0.026187</td>\n",
       "      <td>0.026185</td>\n",
       "    </tr>\n",
       "    <tr>\n",
       "      <th>133564</th>\n",
       "      <td>133565</td>\n",
       "      <td>~whew... that wasnt easy to recall... working ...</td>\n",
       "      <td>False</td>\n",
       "      <td>0</td>\n",
       "      <td>3G617</td>\n",
       "      <td>12/10/17 23:28</td>\n",
       "      <td>True</td>\n",
       "      <td>9.399990e+17</td>\n",
       "      <td>940000000000000000</td>\n",
       "      <td>1.171100e+08</td>\n",
       "      <td>...</td>\n",
       "      <td>0.021257</td>\n",
       "      <td>0.021258</td>\n",
       "      <td>0.021256</td>\n",
       "      <td>0.021257</td>\n",
       "      <td>0.021257</td>\n",
       "      <td>0.021256</td>\n",
       "      <td>0.021257</td>\n",
       "      <td>0.021256</td>\n",
       "      <td>0.322132</td>\n",
       "      <td>0.465299</td>\n",
       "    </tr>\n",
       "    <tr>\n",
       "      <th>133565</th>\n",
       "      <td>133566</td>\n",
       "      <td>~with all this news....i will call that woman\\...</td>\n",
       "      <td>False</td>\n",
       "      <td>1</td>\n",
       "      <td>NaN</td>\n",
       "      <td>12/8/17 21:28</td>\n",
       "      <td>True</td>\n",
       "      <td>NaN</td>\n",
       "      <td>939245000000000000</td>\n",
       "      <td>NaN</td>\n",
       "      <td>...</td>\n",
       "      <td>0.024379</td>\n",
       "      <td>0.373289</td>\n",
       "      <td>0.382916</td>\n",
       "      <td>0.024379</td>\n",
       "      <td>0.024379</td>\n",
       "      <td>0.024379</td>\n",
       "      <td>0.024380</td>\n",
       "      <td>0.024379</td>\n",
       "      <td>0.024379</td>\n",
       "      <td>0.024379</td>\n",
       "    </tr>\n",
       "    <tr>\n",
       "      <th>133566</th>\n",
       "      <td>133567</td>\n",
       "      <td>~~drudge siren breaking developing~~celebritie...</td>\n",
       "      <td>False</td>\n",
       "      <td>0</td>\n",
       "      <td>NaN</td>\n",
       "      <td>12/10/17 4:11</td>\n",
       "      <td>True</td>\n",
       "      <td>NaN</td>\n",
       "      <td>939709000000000000</td>\n",
       "      <td>NaN</td>\n",
       "      <td>...</td>\n",
       "      <td>0.023278</td>\n",
       "      <td>0.640925</td>\n",
       "      <td>0.023275</td>\n",
       "      <td>0.023271</td>\n",
       "      <td>0.023272</td>\n",
       "      <td>0.023272</td>\n",
       "      <td>0.023271</td>\n",
       "      <td>0.126352</td>\n",
       "      <td>0.023271</td>\n",
       "      <td>0.023271</td>\n",
       "    </tr>\n",
       "  </tbody>\n",
       "</table>\n",
       "<p>133567 rows × 36 columns</p>\n",
       "</div>"
      ],
      "text/plain": [
       "        Unnamed: 0                                               text  text.1  \\\n",
       "0                0  !  are in power. doing all they can to protect...   False   \n",
       "1                1  ! labels it \"powerful male pattern blindness\" ...   False   \n",
       "2                2  ! somebodys been reading my tweets! those rega...   False   \n",
       "3                3  ! the #resistance continues. welcome to 2018. ...   False   \n",
       "4                4  ! this is the judge who gave brock turner 6 mo...   False   \n",
       "...            ...                                                ...     ...   \n",
       "133562      133563  ~in an attempt to beat back his own personal #...   False   \n",
       "133563      133564  ~right now you are in a rush to push #goptaxsc...   False   \n",
       "133564      133565  ~whew... that wasnt easy to recall... working ...   False   \n",
       "133565      133566  ~with all this news....i will call that woman\\...   False   \n",
       "133566      133567  ~~drudge siren breaking developing~~celebritie...   False   \n",
       "\n",
       "        favoriteCount     replyToSN         created  truncated    replyToSID  \\\n",
       "0                   1   TheLastWord   12/22/17 3:28       True           NaN   \n",
       "1                   0           NaN  11/29/17 15:10       True           NaN   \n",
       "2                   1     amjoyshow  12/16/17 16:54       True           NaN   \n",
       "3                   5           NaN  12/24/17 16:41       True           NaN   \n",
       "4                   1  RecallPersky   12/9/17 20:57       True           NaN   \n",
       "...               ...           ...             ...        ...           ...   \n",
       "133562              0           NaN  12/12/17 22:49      False           NaN   \n",
       "133563              1     AnalogMom  12/20/17 13:52      False  9.434710e+17   \n",
       "133564              0         3G617  12/10/17 23:28       True  9.399990e+17   \n",
       "133565              1           NaN   12/8/17 21:28       True           NaN   \n",
       "133566              0           NaN   12/10/17 4:11       True           NaN   \n",
       "\n",
       "                        id    replyToUID  ...   Topic_2   Topic_3   Topic_4  \\\n",
       "0       944047000000000000  1.825035e+08  ...  0.027960  0.692435  0.027959   \n",
       "1       936000000000000000           NaN  ...  0.312065  0.022496  0.022498   \n",
       "2       942076000000000000  7.311320e+17  ...  0.026048  0.026047  0.026047   \n",
       "3       944971000000000000           NaN  ...  0.023190  0.023192  0.380803   \n",
       "4       939600000000000000  7.393050e+17  ...  0.024427  0.024427  0.024427   \n",
       "...                    ...           ...  ...       ...       ...       ...   \n",
       "133562  940715000000000000           NaN  ...  0.022090  0.022091  0.022090   \n",
       "133563  943479000000000000  4.625303e+07  ...  0.026185  0.026187  0.026185   \n",
       "133564  940000000000000000  1.171100e+08  ...  0.021257  0.021258  0.021256   \n",
       "133565  939245000000000000           NaN  ...  0.024379  0.373289  0.382916   \n",
       "133566  939709000000000000           NaN  ...  0.023278  0.640925  0.023275   \n",
       "\n",
       "         Topic_5   Topic_6   Topic_7   Topic_8   Topic_9  Topic_10  Topic_11  \n",
       "0       0.027965  0.027959  0.027959  0.027959  0.027961  0.027959  0.027961  \n",
       "1       0.022495  0.462979  0.022495  0.022495  0.022496  0.022495  0.022495  \n",
       "2       0.026046  0.026047  0.026046  0.713486  0.026047  0.026047  0.026046  \n",
       "3       0.023190  0.023189  0.191474  0.023189  0.023189  0.023190  0.219013  \n",
       "4       0.024427  0.024427  0.024427  0.024427  0.731296  0.024429  0.024427  \n",
       "...          ...       ...       ...       ...       ...       ...       ...  \n",
       "133562  0.022090  0.022091  0.022090  0.022090  0.022090  0.022091  0.022090  \n",
       "133563  0.026186  0.711957  0.026184  0.026186  0.026187  0.026187  0.026185  \n",
       "133564  0.021257  0.021257  0.021256  0.021257  0.021256  0.322132  0.465299  \n",
       "133565  0.024379  0.024379  0.024379  0.024380  0.024379  0.024379  0.024379  \n",
       "133566  0.023271  0.023272  0.023272  0.023271  0.126352  0.023271  0.023271  \n",
       "\n",
       "[133567 rows x 36 columns]"
      ]
     },
     "execution_count": 19,
     "metadata": {},
     "output_type": "execute_result"
    }
   ],
   "source": [
    "# Create a mapping dictionary from df1\n",
    "text_to_created_mapping = df1.set_index('text')['created'].to_dict()\n",
    "\n",
    "# Use the mapping to replace values in df2's \"created\" column\n",
    "df2['created'] = df2['text'].map(text_to_created_mapping)\n",
    "\n",
    "# Print the updated df2\n",
    "df2\n"
   ]
  },
  {
   "cell_type": "code",
   "execution_count": 20,
   "id": "e2276384",
   "metadata": {},
   "outputs": [],
   "source": [
    "df=df2"
   ]
  },
  {
   "cell_type": "markdown",
   "id": "4f33e7b5",
   "metadata": {},
   "source": [
    "# Visualising the Top tweets for every Topic wrt when it was tweeted"
   ]
  },
  {
   "cell_type": "code",
   "execution_count": 21,
   "id": "f00dc894",
   "metadata": {},
   "outputs": [
    {
     "name": "stderr",
     "output_type": "stream",
     "text": [
      "/var/folders/vh/n3strt_534939xw39f889k840000gn/T/ipykernel_7234/1350864721.py:21: UserWarning: Could not infer format, so each element will be parsed individually, falling back to `dateutil`. To ensure parsing is consistent and as-expected, please specify a format.\n",
      "  scatter_df['Date'] = pd.to_datetime(scatter_df['Date'])  # Ensure 'Date' is in datetime format\n"
     ]
    },
    {
     "data": {
      "application/vnd.plotly.v1+json": {
       "config": {
        "plotlyServerURL": "https://plot.ly"
       },
       "data": [
        {
         "hovertemplate": "Topic=Topic_0<br>Date and Time=%{x}<br>Maximum Value=%{y}<extra></extra>",
         "legendgroup": "Topic_0",
         "marker": {
          "color": "#636efa",
          "symbol": "circle"
         },
         "mode": "markers",
         "name": "Topic_0",
         "orientation": "v",
         "showlegend": true,
         "type": "scatter",
         "x": [
          "2017-12-20T19:37:00"
         ],
         "xaxis": "x",
         "y": [
          0.8036041644167174
         ],
         "yaxis": "y"
        },
        {
         "hovertemplate": "Topic=Topic_1<br>Date and Time=%{x}<br>Maximum Value=%{y}<extra></extra>",
         "legendgroup": "Topic_1",
         "marker": {
          "color": "#EF553B",
          "symbol": "circle"
         },
         "mode": "markers",
         "name": "Topic_1",
         "orientation": "v",
         "showlegend": true,
         "type": "scatter",
         "x": [
          "2017-12-07T23:04:00"
         ],
         "xaxis": "x",
         "y": [
          0.8001339240167317
         ],
         "yaxis": "y"
        },
        {
         "hovertemplate": "Topic=Topic_2<br>Date and Time=%{x}<br>Maximum Value=%{y}<extra></extra>",
         "legendgroup": "Topic_2",
         "marker": {
          "color": "#00cc96",
          "symbol": "circle"
         },
         "mode": "markers",
         "name": "Topic_2",
         "orientation": "v",
         "showlegend": true,
         "type": "scatter",
         "x": [
          "2017-12-05T07:46:00"
         ],
         "xaxis": "x",
         "y": [
          0.8061891302890799
         ],
         "yaxis": "y"
        },
        {
         "hovertemplate": "Topic=Topic_3<br>Date and Time=%{x}<br>Maximum Value=%{y}<extra></extra>",
         "legendgroup": "Topic_3",
         "marker": {
          "color": "#ab63fa",
          "symbol": "circle"
         },
         "mode": "markers",
         "name": "Topic_3",
         "orientation": "v",
         "showlegend": true,
         "type": "scatter",
         "x": [
          "2017-12-14T14:13:00"
         ],
         "xaxis": "x",
         "y": [
          0.7976866451602734
         ],
         "yaxis": "y"
        },
        {
         "hovertemplate": "Topic=Topic_4<br>Date and Time=%{x}<br>Maximum Value=%{y}<extra></extra>",
         "legendgroup": "Topic_4",
         "marker": {
          "color": "#FFA15A",
          "symbol": "circle"
         },
         "mode": "markers",
         "name": "Topic_4",
         "orientation": "v",
         "showlegend": true,
         "type": "scatter",
         "x": [
          "2017-12-04T18:47:00"
         ],
         "xaxis": "x",
         "y": [
          0.8025956155688057
         ],
         "yaxis": "y"
        },
        {
         "hovertemplate": "Topic=Topic_5<br>Date and Time=%{x}<br>Maximum Value=%{y}<extra></extra>",
         "legendgroup": "Topic_5",
         "marker": {
          "color": "#19d3f3",
          "symbol": "circle"
         },
         "mode": "markers",
         "name": "Topic_5",
         "orientation": "v",
         "showlegend": true,
         "type": "scatter",
         "x": [
          "2017-12-11T18:24:00"
         ],
         "xaxis": "x",
         "y": [
          0.8048973277872772
         ],
         "yaxis": "y"
        },
        {
         "hovertemplate": "Topic=Topic_6<br>Date and Time=%{x}<br>Maximum Value=%{y}<extra></extra>",
         "legendgroup": "Topic_6",
         "marker": {
          "color": "#FF6692",
          "symbol": "circle"
         },
         "mode": "markers",
         "name": "Topic_6",
         "orientation": "v",
         "showlegend": true,
         "type": "scatter",
         "x": [
          "2017-12-12T16:15:00"
         ],
         "xaxis": "x",
         "y": [
          0.8026404573378955
         ],
         "yaxis": "y"
        },
        {
         "hovertemplate": "Topic=Topic_7<br>Date and Time=%{x}<br>Maximum Value=%{y}<extra></extra>",
         "legendgroup": "Topic_7",
         "marker": {
          "color": "#B6E880",
          "symbol": "circle"
         },
         "mode": "markers",
         "name": "Topic_7",
         "orientation": "v",
         "showlegend": true,
         "type": "scatter",
         "x": [
          "2017-12-10T12:10:00"
         ],
         "xaxis": "x",
         "y": [
          0.7954416249155964
         ],
         "yaxis": "y"
        },
        {
         "hovertemplate": "Topic=Topic_8<br>Date and Time=%{x}<br>Maximum Value=%{y}<extra></extra>",
         "legendgroup": "Topic_8",
         "marker": {
          "color": "#FF97FF",
          "symbol": "circle"
         },
         "mode": "markers",
         "name": "Topic_8",
         "orientation": "v",
         "showlegend": true,
         "type": "scatter",
         "x": [
          "2017-12-10T19:17:00"
         ],
         "xaxis": "x",
         "y": [
          0.7987571478570779
         ],
         "yaxis": "y"
        },
        {
         "hovertemplate": "Topic=Topic_9<br>Date and Time=%{x}<br>Maximum Value=%{y}<extra></extra>",
         "legendgroup": "Topic_9",
         "marker": {
          "color": "#FECB52",
          "symbol": "circle"
         },
         "mode": "markers",
         "name": "Topic_9",
         "orientation": "v",
         "showlegend": true,
         "type": "scatter",
         "x": [
          "2017-12-20T00:21:00"
         ],
         "xaxis": "x",
         "y": [
          0.8080671121239231
         ],
         "yaxis": "y"
        },
        {
         "hovertemplate": "Topic=Topic_10<br>Date and Time=%{x}<br>Maximum Value=%{y}<extra></extra>",
         "legendgroup": "Topic_10",
         "marker": {
          "color": "#636efa",
          "symbol": "circle"
         },
         "mode": "markers",
         "name": "Topic_10",
         "orientation": "v",
         "showlegend": true,
         "type": "scatter",
         "x": [
          "2017-12-21T18:30:00"
         ],
         "xaxis": "x",
         "y": [
          0.793611711007424
         ],
         "yaxis": "y"
        },
        {
         "hovertemplate": "Topic=Topic_11<br>Date and Time=%{x}<br>Maximum Value=%{y}<extra></extra>",
         "legendgroup": "Topic_11",
         "marker": {
          "color": "#EF553B",
          "symbol": "circle"
         },
         "mode": "markers",
         "name": "Topic_11",
         "orientation": "v",
         "showlegend": true,
         "type": "scatter",
         "x": [
          "2017-12-13T17:56:00"
         ],
         "xaxis": "x",
         "y": [
          0.8138730255854668
         ],
         "yaxis": "y"
        }
       ],
       "layout": {
        "legend": {
         "title": {
          "text": "Topic"
         },
         "tracegroupgap": 0
        },
        "template": {
         "data": {
          "bar": [
           {
            "error_x": {
             "color": "#2a3f5f"
            },
            "error_y": {
             "color": "#2a3f5f"
            },
            "marker": {
             "line": {
              "color": "#E5ECF6",
              "width": 0.5
             },
             "pattern": {
              "fillmode": "overlay",
              "size": 10,
              "solidity": 0.2
             }
            },
            "type": "bar"
           }
          ],
          "barpolar": [
           {
            "marker": {
             "line": {
              "color": "#E5ECF6",
              "width": 0.5
             },
             "pattern": {
              "fillmode": "overlay",
              "size": 10,
              "solidity": 0.2
             }
            },
            "type": "barpolar"
           }
          ],
          "carpet": [
           {
            "aaxis": {
             "endlinecolor": "#2a3f5f",
             "gridcolor": "white",
             "linecolor": "white",
             "minorgridcolor": "white",
             "startlinecolor": "#2a3f5f"
            },
            "baxis": {
             "endlinecolor": "#2a3f5f",
             "gridcolor": "white",
             "linecolor": "white",
             "minorgridcolor": "white",
             "startlinecolor": "#2a3f5f"
            },
            "type": "carpet"
           }
          ],
          "choropleth": [
           {
            "colorbar": {
             "outlinewidth": 0,
             "ticks": ""
            },
            "type": "choropleth"
           }
          ],
          "contour": [
           {
            "colorbar": {
             "outlinewidth": 0,
             "ticks": ""
            },
            "colorscale": [
             [
              0,
              "#0d0887"
             ],
             [
              0.1111111111111111,
              "#46039f"
             ],
             [
              0.2222222222222222,
              "#7201a8"
             ],
             [
              0.3333333333333333,
              "#9c179e"
             ],
             [
              0.4444444444444444,
              "#bd3786"
             ],
             [
              0.5555555555555556,
              "#d8576b"
             ],
             [
              0.6666666666666666,
              "#ed7953"
             ],
             [
              0.7777777777777778,
              "#fb9f3a"
             ],
             [
              0.8888888888888888,
              "#fdca26"
             ],
             [
              1,
              "#f0f921"
             ]
            ],
            "type": "contour"
           }
          ],
          "contourcarpet": [
           {
            "colorbar": {
             "outlinewidth": 0,
             "ticks": ""
            },
            "type": "contourcarpet"
           }
          ],
          "heatmap": [
           {
            "colorbar": {
             "outlinewidth": 0,
             "ticks": ""
            },
            "colorscale": [
             [
              0,
              "#0d0887"
             ],
             [
              0.1111111111111111,
              "#46039f"
             ],
             [
              0.2222222222222222,
              "#7201a8"
             ],
             [
              0.3333333333333333,
              "#9c179e"
             ],
             [
              0.4444444444444444,
              "#bd3786"
             ],
             [
              0.5555555555555556,
              "#d8576b"
             ],
             [
              0.6666666666666666,
              "#ed7953"
             ],
             [
              0.7777777777777778,
              "#fb9f3a"
             ],
             [
              0.8888888888888888,
              "#fdca26"
             ],
             [
              1,
              "#f0f921"
             ]
            ],
            "type": "heatmap"
           }
          ],
          "heatmapgl": [
           {
            "colorbar": {
             "outlinewidth": 0,
             "ticks": ""
            },
            "colorscale": [
             [
              0,
              "#0d0887"
             ],
             [
              0.1111111111111111,
              "#46039f"
             ],
             [
              0.2222222222222222,
              "#7201a8"
             ],
             [
              0.3333333333333333,
              "#9c179e"
             ],
             [
              0.4444444444444444,
              "#bd3786"
             ],
             [
              0.5555555555555556,
              "#d8576b"
             ],
             [
              0.6666666666666666,
              "#ed7953"
             ],
             [
              0.7777777777777778,
              "#fb9f3a"
             ],
             [
              0.8888888888888888,
              "#fdca26"
             ],
             [
              1,
              "#f0f921"
             ]
            ],
            "type": "heatmapgl"
           }
          ],
          "histogram": [
           {
            "marker": {
             "pattern": {
              "fillmode": "overlay",
              "size": 10,
              "solidity": 0.2
             }
            },
            "type": "histogram"
           }
          ],
          "histogram2d": [
           {
            "colorbar": {
             "outlinewidth": 0,
             "ticks": ""
            },
            "colorscale": [
             [
              0,
              "#0d0887"
             ],
             [
              0.1111111111111111,
              "#46039f"
             ],
             [
              0.2222222222222222,
              "#7201a8"
             ],
             [
              0.3333333333333333,
              "#9c179e"
             ],
             [
              0.4444444444444444,
              "#bd3786"
             ],
             [
              0.5555555555555556,
              "#d8576b"
             ],
             [
              0.6666666666666666,
              "#ed7953"
             ],
             [
              0.7777777777777778,
              "#fb9f3a"
             ],
             [
              0.8888888888888888,
              "#fdca26"
             ],
             [
              1,
              "#f0f921"
             ]
            ],
            "type": "histogram2d"
           }
          ],
          "histogram2dcontour": [
           {
            "colorbar": {
             "outlinewidth": 0,
             "ticks": ""
            },
            "colorscale": [
             [
              0,
              "#0d0887"
             ],
             [
              0.1111111111111111,
              "#46039f"
             ],
             [
              0.2222222222222222,
              "#7201a8"
             ],
             [
              0.3333333333333333,
              "#9c179e"
             ],
             [
              0.4444444444444444,
              "#bd3786"
             ],
             [
              0.5555555555555556,
              "#d8576b"
             ],
             [
              0.6666666666666666,
              "#ed7953"
             ],
             [
              0.7777777777777778,
              "#fb9f3a"
             ],
             [
              0.8888888888888888,
              "#fdca26"
             ],
             [
              1,
              "#f0f921"
             ]
            ],
            "type": "histogram2dcontour"
           }
          ],
          "mesh3d": [
           {
            "colorbar": {
             "outlinewidth": 0,
             "ticks": ""
            },
            "type": "mesh3d"
           }
          ],
          "parcoords": [
           {
            "line": {
             "colorbar": {
              "outlinewidth": 0,
              "ticks": ""
             }
            },
            "type": "parcoords"
           }
          ],
          "pie": [
           {
            "automargin": true,
            "type": "pie"
           }
          ],
          "scatter": [
           {
            "fillpattern": {
             "fillmode": "overlay",
             "size": 10,
             "solidity": 0.2
            },
            "type": "scatter"
           }
          ],
          "scatter3d": [
           {
            "line": {
             "colorbar": {
              "outlinewidth": 0,
              "ticks": ""
             }
            },
            "marker": {
             "colorbar": {
              "outlinewidth": 0,
              "ticks": ""
             }
            },
            "type": "scatter3d"
           }
          ],
          "scattercarpet": [
           {
            "marker": {
             "colorbar": {
              "outlinewidth": 0,
              "ticks": ""
             }
            },
            "type": "scattercarpet"
           }
          ],
          "scattergeo": [
           {
            "marker": {
             "colorbar": {
              "outlinewidth": 0,
              "ticks": ""
             }
            },
            "type": "scattergeo"
           }
          ],
          "scattergl": [
           {
            "marker": {
             "colorbar": {
              "outlinewidth": 0,
              "ticks": ""
             }
            },
            "type": "scattergl"
           }
          ],
          "scattermapbox": [
           {
            "marker": {
             "colorbar": {
              "outlinewidth": 0,
              "ticks": ""
             }
            },
            "type": "scattermapbox"
           }
          ],
          "scatterpolar": [
           {
            "marker": {
             "colorbar": {
              "outlinewidth": 0,
              "ticks": ""
             }
            },
            "type": "scatterpolar"
           }
          ],
          "scatterpolargl": [
           {
            "marker": {
             "colorbar": {
              "outlinewidth": 0,
              "ticks": ""
             }
            },
            "type": "scatterpolargl"
           }
          ],
          "scatterternary": [
           {
            "marker": {
             "colorbar": {
              "outlinewidth": 0,
              "ticks": ""
             }
            },
            "type": "scatterternary"
           }
          ],
          "surface": [
           {
            "colorbar": {
             "outlinewidth": 0,
             "ticks": ""
            },
            "colorscale": [
             [
              0,
              "#0d0887"
             ],
             [
              0.1111111111111111,
              "#46039f"
             ],
             [
              0.2222222222222222,
              "#7201a8"
             ],
             [
              0.3333333333333333,
              "#9c179e"
             ],
             [
              0.4444444444444444,
              "#bd3786"
             ],
             [
              0.5555555555555556,
              "#d8576b"
             ],
             [
              0.6666666666666666,
              "#ed7953"
             ],
             [
              0.7777777777777778,
              "#fb9f3a"
             ],
             [
              0.8888888888888888,
              "#fdca26"
             ],
             [
              1,
              "#f0f921"
             ]
            ],
            "type": "surface"
           }
          ],
          "table": [
           {
            "cells": {
             "fill": {
              "color": "#EBF0F8"
             },
             "line": {
              "color": "white"
             }
            },
            "header": {
             "fill": {
              "color": "#C8D4E3"
             },
             "line": {
              "color": "white"
             }
            },
            "type": "table"
           }
          ]
         },
         "layout": {
          "annotationdefaults": {
           "arrowcolor": "#2a3f5f",
           "arrowhead": 0,
           "arrowwidth": 1
          },
          "autotypenumbers": "strict",
          "coloraxis": {
           "colorbar": {
            "outlinewidth": 0,
            "ticks": ""
           }
          },
          "colorscale": {
           "diverging": [
            [
             0,
             "#8e0152"
            ],
            [
             0.1,
             "#c51b7d"
            ],
            [
             0.2,
             "#de77ae"
            ],
            [
             0.3,
             "#f1b6da"
            ],
            [
             0.4,
             "#fde0ef"
            ],
            [
             0.5,
             "#f7f7f7"
            ],
            [
             0.6,
             "#e6f5d0"
            ],
            [
             0.7,
             "#b8e186"
            ],
            [
             0.8,
             "#7fbc41"
            ],
            [
             0.9,
             "#4d9221"
            ],
            [
             1,
             "#276419"
            ]
           ],
           "sequential": [
            [
             0,
             "#0d0887"
            ],
            [
             0.1111111111111111,
             "#46039f"
            ],
            [
             0.2222222222222222,
             "#7201a8"
            ],
            [
             0.3333333333333333,
             "#9c179e"
            ],
            [
             0.4444444444444444,
             "#bd3786"
            ],
            [
             0.5555555555555556,
             "#d8576b"
            ],
            [
             0.6666666666666666,
             "#ed7953"
            ],
            [
             0.7777777777777778,
             "#fb9f3a"
            ],
            [
             0.8888888888888888,
             "#fdca26"
            ],
            [
             1,
             "#f0f921"
            ]
           ],
           "sequentialminus": [
            [
             0,
             "#0d0887"
            ],
            [
             0.1111111111111111,
             "#46039f"
            ],
            [
             0.2222222222222222,
             "#7201a8"
            ],
            [
             0.3333333333333333,
             "#9c179e"
            ],
            [
             0.4444444444444444,
             "#bd3786"
            ],
            [
             0.5555555555555556,
             "#d8576b"
            ],
            [
             0.6666666666666666,
             "#ed7953"
            ],
            [
             0.7777777777777778,
             "#fb9f3a"
            ],
            [
             0.8888888888888888,
             "#fdca26"
            ],
            [
             1,
             "#f0f921"
            ]
           ]
          },
          "colorway": [
           "#636efa",
           "#EF553B",
           "#00cc96",
           "#ab63fa",
           "#FFA15A",
           "#19d3f3",
           "#FF6692",
           "#B6E880",
           "#FF97FF",
           "#FECB52"
          ],
          "font": {
           "color": "#2a3f5f"
          },
          "geo": {
           "bgcolor": "white",
           "lakecolor": "white",
           "landcolor": "#E5ECF6",
           "showlakes": true,
           "showland": true,
           "subunitcolor": "white"
          },
          "hoverlabel": {
           "align": "left"
          },
          "hovermode": "closest",
          "mapbox": {
           "style": "light"
          },
          "paper_bgcolor": "white",
          "plot_bgcolor": "#E5ECF6",
          "polar": {
           "angularaxis": {
            "gridcolor": "white",
            "linecolor": "white",
            "ticks": ""
           },
           "bgcolor": "#E5ECF6",
           "radialaxis": {
            "gridcolor": "white",
            "linecolor": "white",
            "ticks": ""
           }
          },
          "scene": {
           "xaxis": {
            "backgroundcolor": "#E5ECF6",
            "gridcolor": "white",
            "gridwidth": 2,
            "linecolor": "white",
            "showbackground": true,
            "ticks": "",
            "zerolinecolor": "white"
           },
           "yaxis": {
            "backgroundcolor": "#E5ECF6",
            "gridcolor": "white",
            "gridwidth": 2,
            "linecolor": "white",
            "showbackground": true,
            "ticks": "",
            "zerolinecolor": "white"
           },
           "zaxis": {
            "backgroundcolor": "#E5ECF6",
            "gridcolor": "white",
            "gridwidth": 2,
            "linecolor": "white",
            "showbackground": true,
            "ticks": "",
            "zerolinecolor": "white"
           }
          },
          "shapedefaults": {
           "line": {
            "color": "#2a3f5f"
           }
          },
          "ternary": {
           "aaxis": {
            "gridcolor": "white",
            "linecolor": "white",
            "ticks": ""
           },
           "baxis": {
            "gridcolor": "white",
            "linecolor": "white",
            "ticks": ""
           },
           "bgcolor": "#E5ECF6",
           "caxis": {
            "gridcolor": "white",
            "linecolor": "white",
            "ticks": ""
           }
          },
          "title": {
           "x": 0.05
          },
          "xaxis": {
           "automargin": true,
           "gridcolor": "white",
           "linecolor": "white",
           "ticks": "",
           "title": {
            "standoff": 15
           },
           "zerolinecolor": "white",
           "zerolinewidth": 2
          },
          "yaxis": {
           "automargin": true,
           "gridcolor": "white",
           "linecolor": "white",
           "ticks": "",
           "title": {
            "standoff": 15
           },
           "zerolinecolor": "white",
           "zerolinewidth": 2
          }
         }
        },
        "title": {
         "text": "Top Tweets of each Topic Over Time"
        },
        "xaxis": {
         "anchor": "y",
         "domain": [
          0,
          1
         ],
         "title": {
          "text": "Date and Time"
         }
        },
        "yaxis": {
         "anchor": "x",
         "domain": [
          0,
          1
         ],
         "title": {
          "text": "Maximum Value"
         }
        }
       }
      }
     },
     "metadata": {},
     "output_type": "display_data"
    }
   ],
   "source": [
    "# Creating empty lists to store the maximum values, dates, and topic labels\n",
    "max_values = []\n",
    "dates = []\n",
    "topic_labels = []\n",
    "\n",
    "# Looping through Topic_0 to Topic_11\n",
    "for i in range(12):\n",
    "    column_name = f\"Topic_{i}\"\n",
    "    max_value = df[column_name].max()\n",
    "    max_value_index = df[column_name].idxmax()\n",
    "    max_value_date = df.loc[max_value_index, \"created\"]\n",
    "\n",
    "    max_values.append(max_value)\n",
    "    dates.append(max_value_date)\n",
    "    topic_labels.append(f\"Topic_{i}\")\n",
    "\n",
    "# Creating a DataFrame for the scatter plot\n",
    "scatter_df = pd.DataFrame({'Date': dates, 'Max Value': max_values, 'Topic': topic_labels})\n",
    "\n",
    "# Sorting the DataFrame by 'Date' and reset the index\n",
    "scatter_df['Date'] = pd.to_datetime(scatter_df['Date'])  # Ensure 'Date' is in datetime format\n",
    "scatter_df = scatter_df.sort_values(by='Date')\n",
    "scatter_df.reset_index(drop=True, inplace=True)\n",
    "\n",
    "# Create the scatter plot\n",
    "fig = px.scatter(\n",
    "    scatter_df,\n",
    "    x='Date',\n",
    "    y='Max Value',\n",
    "    color='Topic', \n",
    "    title='Top Tweets of each Topic Over Time',\n",
    "    labels={'Date': 'Date and Time', 'Max Value': 'Maximum Value'},\n",
    "    category_orders={'Topic': topic_labels}  # Setting the order of topics for labels\n",
    ")\n",
    "\n",
    "fig.update_xaxes(title_text='Date and Time')\n",
    "fig.update_yaxes(title_text='Maximum Value')\n",
    "fig.show()\n"
   ]
  },
  {
   "cell_type": "markdown",
   "id": "34520153",
   "metadata": {},
   "source": [
    "# Visualising the Top 10 tweets for every topic wrt when it was tweeted"
   ]
  },
  {
   "cell_type": "code",
   "execution_count": 22,
   "id": "1fc15530",
   "metadata": {},
   "outputs": [
    {
     "name": "stderr",
     "output_type": "stream",
     "text": [
      "/var/folders/vh/n3strt_534939xw39f889k840000gn/T/ipykernel_7234/105802916.py:20: UserWarning:\n",
      "\n",
      "Could not infer format, so each element will be parsed individually, falling back to `dateutil`. To ensure parsing is consistent and as-expected, please specify a format.\n",
      "\n"
     ]
    },
    {
     "data": {
      "application/vnd.plotly.v1+json": {
       "config": {
        "plotlyServerURL": "https://plot.ly"
       },
       "data": [
        {
         "hovertemplate": "Topic=Topic_0<br>Date and Time=%{x}<br>Maximum Value=%{y}<extra></extra>",
         "legendgroup": "Topic_0",
         "marker": {
          "color": "#636efa",
          "symbol": "circle"
         },
         "mode": "markers",
         "name": "Topic_0",
         "orientation": "v",
         "showlegend": true,
         "type": "scatter",
         "x": [
          "2017-12-02T00:05:00",
          "2017-12-06T22:13:00",
          "2017-12-06T22:15:00",
          "2017-12-07T17:37:00",
          "2017-12-07T19:19:00",
          "2017-12-07T22:14:00",
          "2017-12-07T23:59:00",
          "2017-12-09T10:26:00",
          "2017-12-15T20:58:00",
          "2017-12-20T19:37:00"
         ],
         "xaxis": "x",
         "y": [
          0.7970321032563954,
          0.7994428817100809,
          0.8020464643231907,
          0.8017576817838863,
          0.7987430727273437,
          0.7981782940308156,
          0.7973195937648118,
          0.7968010627668163,
          0.7987184034183498,
          0.8036041644167174
         ],
         "yaxis": "y"
        },
        {
         "hovertemplate": "Topic=Topic_1<br>Date and Time=%{x}<br>Maximum Value=%{y}<extra></extra>",
         "legendgroup": "Topic_1",
         "marker": {
          "color": "#EF553B",
          "symbol": "circle"
         },
         "mode": "markers",
         "name": "Topic_1",
         "orientation": "v",
         "showlegend": true,
         "type": "scatter",
         "x": [
          "2017-12-01T00:59:00",
          "2017-12-01T03:23:00",
          "2017-12-05T15:42:00",
          "2017-12-07T23:04:00",
          "2017-12-16T13:35:00",
          "2017-12-16T16:05:00",
          "2017-12-17T19:35:00",
          "2017-12-18T00:14:00",
          "2017-12-19T15:52:00",
          "2017-12-20T20:59:00"
         ],
         "xaxis": "x",
         "y": [
          0.7914709730860666,
          0.7947321199695845,
          0.7990546150650133,
          0.8001339240167317,
          0.7901248106266173,
          0.7914724475634107,
          0.7907190034396924,
          0.7940585119392116,
          0.7906208288362423,
          0.7889047295581428
         ],
         "yaxis": "y"
        },
        {
         "hovertemplate": "Topic=Topic_2<br>Date and Time=%{x}<br>Maximum Value=%{y}<extra></extra>",
         "legendgroup": "Topic_2",
         "marker": {
          "color": "#00cc96",
          "symbol": "circle"
         },
         "mode": "markers",
         "name": "Topic_2",
         "orientation": "v",
         "showlegend": true,
         "type": "scatter",
         "x": [
          "2017-11-29T21:59:00",
          "2017-12-05T07:46:00",
          "2017-12-08T19:13:00",
          "2017-12-10T01:28:00",
          "2017-12-10T14:13:00",
          "2017-12-10T14:59:00",
          "2017-12-10T23:53:00",
          "2017-12-14T20:45:00",
          "2017-12-18T21:42:00",
          "2017-12-21T01:07:00"
         ],
         "xaxis": "x",
         "y": [
          0.8028853789054945,
          0.8061891302890799,
          0.7915907172699699,
          0.7903269426720906,
          0.7890486090804096,
          0.7950152155107053,
          0.7904756082326366,
          0.7967073983609635,
          0.7967849675275585,
          0.7965740582535719
         ],
         "yaxis": "y"
        },
        {
         "hovertemplate": "Topic=Topic_3<br>Date and Time=%{x}<br>Maximum Value=%{y}<extra></extra>",
         "legendgroup": "Topic_3",
         "marker": {
          "color": "#ab63fa",
          "symbol": "circle"
         },
         "mode": "markers",
         "name": "Topic_3",
         "orientation": "v",
         "showlegend": true,
         "type": "scatter",
         "x": [
          "2017-12-01T00:27:00",
          "2017-12-01T05:42:00",
          "2017-12-01T07:35:00",
          "2017-12-03T02:23:00",
          "2017-12-05T16:35:00",
          "2017-12-12T23:24:00",
          "2017-12-14T14:13:00",
          "2017-12-16T21:26:00",
          "2017-12-18T14:31:00",
          "2017-12-20T23:13:00"
         ],
         "xaxis": "x",
         "y": [
          0.7973552085337224,
          0.7923938259603083,
          0.7908193721330335,
          0.7956973225545325,
          0.7908276423491065,
          0.7906660795708875,
          0.7976866451602734,
          0.7913971489946827,
          0.7915479949129031,
          0.7969008094049699
         ],
         "yaxis": "y"
        },
        {
         "hovertemplate": "Topic=Topic_4<br>Date and Time=%{x}<br>Maximum Value=%{y}<extra></extra>",
         "legendgroup": "Topic_4",
         "marker": {
          "color": "#FFA15A",
          "symbol": "circle"
         },
         "mode": "markers",
         "name": "Topic_4",
         "orientation": "v",
         "showlegend": true,
         "type": "scatter",
         "x": [
          "2017-12-02T20:18:00",
          "2017-12-04T15:16:00",
          "2017-12-04T17:48:00",
          "2017-12-04T18:02:00",
          "2017-12-04T18:47:00",
          "2017-12-04T19:11:00",
          "2017-12-06T20:23:00",
          "2017-12-19T02:08:00",
          "2017-12-19T11:41:00",
          "2017-12-21T15:44:00"
         ],
         "xaxis": "x",
         "y": [
          0.7946915090663194,
          0.8020768131016623,
          0.7950553315797875,
          0.7960301872983279,
          0.8025956155688057,
          0.791509090942966,
          0.7917476841396379,
          0.7977595617436035,
          0.7911312315667031,
          0.7972593134776249
         ],
         "yaxis": "y"
        },
        {
         "hovertemplate": "Topic=Topic_5<br>Date and Time=%{x}<br>Maximum Value=%{y}<extra></extra>",
         "legendgroup": "Topic_5",
         "marker": {
          "color": "#19d3f3",
          "symbol": "circle"
         },
         "mode": "markers",
         "name": "Topic_5",
         "orientation": "v",
         "showlegend": true,
         "type": "scatter",
         "x": [
          "2017-12-01T19:43:00",
          "2017-12-04T23:27:00",
          "2017-12-05T07:43:00",
          "2017-12-07T17:19:00",
          "2017-12-11T18:23:00",
          "2017-12-11T18:24:00",
          "2017-12-11T18:25:00",
          "2017-12-13T18:52:00",
          "2017-12-17T08:16:00",
          "2017-12-17T23:33:00"
         ],
         "xaxis": "x",
         "y": [
          0.7970041090272715,
          0.7994166253104229,
          0.8008622122455931,
          0.796721142396572,
          0.799206895130963,
          0.8048973277872772,
          0.7990167095463374,
          0.8040889995388389,
          0.7993784761599138,
          0.7975123882707373
         ],
         "yaxis": "y"
        },
        {
         "hovertemplate": "Topic=Topic_6<br>Date and Time=%{x}<br>Maximum Value=%{y}<extra></extra>",
         "legendgroup": "Topic_6",
         "marker": {
          "color": "#FF6692",
          "symbol": "circle"
         },
         "mode": "markers",
         "name": "Topic_6",
         "orientation": "v",
         "showlegend": true,
         "type": "scatter",
         "x": [
          "2017-11-29T21:10:00",
          "2017-12-01T13:56:00",
          "2017-12-03T01:21:00",
          "2017-12-05T21:03:00",
          "2017-12-07T21:19:00",
          "2017-12-12T16:15:00",
          "2017-12-14T03:18:00",
          "2017-12-14T21:12:00",
          "2017-12-14T21:25:00",
          "2017-12-17T03:15:00"
         ],
         "xaxis": "x",
         "y": [
          0.7916620610635807,
          0.7902040509198038,
          0.7981093024103139,
          0.7926401848932584,
          0.7951977931429788,
          0.8026404573378955,
          0.7967826901771199,
          0.7935270771869665,
          0.7958155348843653,
          0.7910092280333914
         ],
         "yaxis": "y"
        },
        {
         "hovertemplate": "Topic=Topic_7<br>Date and Time=%{x}<br>Maximum Value=%{y}<extra></extra>",
         "legendgroup": "Topic_7",
         "marker": {
          "color": "#B6E880",
          "symbol": "circle"
         },
         "mode": "markers",
         "name": "Topic_7",
         "orientation": "v",
         "showlegend": true,
         "type": "scatter",
         "x": [
          "2017-11-29T17:29:00",
          "2017-12-05T18:46:00",
          "2017-12-10T12:10:00",
          "2017-12-10T17:04:00",
          "2017-12-15T06:00:00",
          "2017-12-15T16:21:00",
          "2017-12-15T20:00:00",
          "2017-12-16T15:18:00",
          "2017-12-17T16:11:00",
          "2017-12-24T17:45:00"
         ],
         "xaxis": "x",
         "y": [
          0.7829780874323605,
          0.7843512957036766,
          0.7954416249155964,
          0.7897404585189737,
          0.783708566562862,
          0.7836429847564605,
          0.7855444570818696,
          0.7903370647695275,
          0.7833050454214499,
          0.7946684265960687
         ],
         "yaxis": "y"
        },
        {
         "hovertemplate": "Topic=Topic_8<br>Date and Time=%{x}<br>Maximum Value=%{y}<extra></extra>",
         "legendgroup": "Topic_8",
         "marker": {
          "color": "#FF97FF",
          "symbol": "circle"
         },
         "mode": "markers",
         "name": "Topic_8",
         "orientation": "v",
         "showlegend": true,
         "type": "scatter",
         "x": [
          "2017-11-29T19:57:00",
          "2017-12-10T19:17:00",
          "2017-12-14T04:25:00",
          "2017-12-14T12:16:00",
          "2017-12-14T12:17:00",
          "2017-12-15T06:40:00",
          "2017-12-17T16:34:00",
          "2017-12-19T11:50:00",
          "2017-12-19T23:03:00",
          "2017-12-24T20:55:00"
         ],
         "xaxis": "x",
         "y": [
          0.7956574045327002,
          0.7987571478570779,
          0.7956306494274098,
          0.7979958449738749,
          0.7979001612987376,
          0.7969093213006401,
          0.7961871227077753,
          0.7982640857823382,
          0.7963505117918411,
          0.7973481496556633
         ],
         "yaxis": "y"
        },
        {
         "hovertemplate": "Topic=Topic_9<br>Date and Time=%{x}<br>Maximum Value=%{y}<extra></extra>",
         "legendgroup": "Topic_9",
         "marker": {
          "color": "#FECB52",
          "symbol": "circle"
         },
         "mode": "markers",
         "name": "Topic_9",
         "orientation": "v",
         "showlegend": true,
         "type": "scatter",
         "x": [
          "2017-12-18T22:30:00",
          "2017-12-19T00:19:00",
          "2017-12-19T01:30:00",
          "2017-12-19T23:42:00",
          "2017-12-19T23:44:00",
          "2017-12-20T00:21:00",
          "2017-12-20T03:29:00",
          "2017-12-20T10:09:00",
          "2017-12-20T19:27:00",
          "2017-12-22T13:19:00"
         ],
         "xaxis": "x",
         "y": [
          0.7991298147529519,
          0.797208069210562,
          0.8047832297140337,
          0.8032858829053441,
          0.7985148113445433,
          0.8080671121239231,
          0.7980024986233992,
          0.7981129416455746,
          0.7977500780098874,
          0.7972734256303461
         ],
         "yaxis": "y"
        },
        {
         "hovertemplate": "Topic=Topic_10<br>Date and Time=%{x}<br>Maximum Value=%{y}<extra></extra>",
         "legendgroup": "Topic_10",
         "marker": {
          "color": "#636efa",
          "symbol": "circle"
         },
         "mode": "markers",
         "name": "Topic_10",
         "orientation": "v",
         "showlegend": true,
         "type": "scatter",
         "x": [
          "2017-12-04T18:05:00",
          "2017-12-05T00:48:00",
          "2017-12-14T14:51:00",
          "2017-12-15T01:20:00",
          "2017-12-17T20:48:00",
          "2017-12-18T01:56:00",
          "2017-12-18T15:38:00",
          "2017-12-19T01:05:00",
          "2017-12-21T18:30:00",
          "2017-12-23T10:58:00"
         ],
         "xaxis": "x",
         "y": [
          0.7923935584202755,
          0.7900895785185534,
          0.7901694208298342,
          0.7923742542110545,
          0.7905751361817809,
          0.7900260162614415,
          0.7894159751935719,
          0.7918584572820225,
          0.793611711007424,
          0.7899759850632239
         ],
         "yaxis": "y"
        },
        {
         "hovertemplate": "Topic=Topic_11<br>Date and Time=%{x}<br>Maximum Value=%{y}<extra></extra>",
         "legendgroup": "Topic_11",
         "marker": {
          "color": "#EF553B",
          "symbol": "circle"
         },
         "mode": "markers",
         "name": "Topic_11",
         "orientation": "v",
         "showlegend": true,
         "type": "scatter",
         "x": [
          "2017-12-01T20:39:00",
          "2017-12-12T16:16:00",
          "2017-12-13T17:04:00",
          "2017-12-13T17:56:00",
          "2017-12-13T21:05:00",
          "2017-12-13T21:50:00",
          "2017-12-16T18:09:00",
          "2017-12-16T23:32:00",
          "2017-12-17T12:38:00",
          "2017-12-24T05:01:00"
         ],
         "xaxis": "x",
         "y": [
          0.7965024675860097,
          0.7999570134574827,
          0.7978647110535646,
          0.8138730255854668,
          0.8049947057748271,
          0.7979358681227745,
          0.7973513862832053,
          0.7966175674103022,
          0.7974591319632117,
          0.7969095439373018
         ],
         "yaxis": "y"
        }
       ],
       "layout": {
        "legend": {
         "title": {
          "text": "Topic"
         },
         "tracegroupgap": 0
        },
        "template": {
         "data": {
          "bar": [
           {
            "error_x": {
             "color": "#2a3f5f"
            },
            "error_y": {
             "color": "#2a3f5f"
            },
            "marker": {
             "line": {
              "color": "#E5ECF6",
              "width": 0.5
             },
             "pattern": {
              "fillmode": "overlay",
              "size": 10,
              "solidity": 0.2
             }
            },
            "type": "bar"
           }
          ],
          "barpolar": [
           {
            "marker": {
             "line": {
              "color": "#E5ECF6",
              "width": 0.5
             },
             "pattern": {
              "fillmode": "overlay",
              "size": 10,
              "solidity": 0.2
             }
            },
            "type": "barpolar"
           }
          ],
          "carpet": [
           {
            "aaxis": {
             "endlinecolor": "#2a3f5f",
             "gridcolor": "white",
             "linecolor": "white",
             "minorgridcolor": "white",
             "startlinecolor": "#2a3f5f"
            },
            "baxis": {
             "endlinecolor": "#2a3f5f",
             "gridcolor": "white",
             "linecolor": "white",
             "minorgridcolor": "white",
             "startlinecolor": "#2a3f5f"
            },
            "type": "carpet"
           }
          ],
          "choropleth": [
           {
            "colorbar": {
             "outlinewidth": 0,
             "ticks": ""
            },
            "type": "choropleth"
           }
          ],
          "contour": [
           {
            "colorbar": {
             "outlinewidth": 0,
             "ticks": ""
            },
            "colorscale": [
             [
              0,
              "#0d0887"
             ],
             [
              0.1111111111111111,
              "#46039f"
             ],
             [
              0.2222222222222222,
              "#7201a8"
             ],
             [
              0.3333333333333333,
              "#9c179e"
             ],
             [
              0.4444444444444444,
              "#bd3786"
             ],
             [
              0.5555555555555556,
              "#d8576b"
             ],
             [
              0.6666666666666666,
              "#ed7953"
             ],
             [
              0.7777777777777778,
              "#fb9f3a"
             ],
             [
              0.8888888888888888,
              "#fdca26"
             ],
             [
              1,
              "#f0f921"
             ]
            ],
            "type": "contour"
           }
          ],
          "contourcarpet": [
           {
            "colorbar": {
             "outlinewidth": 0,
             "ticks": ""
            },
            "type": "contourcarpet"
           }
          ],
          "heatmap": [
           {
            "colorbar": {
             "outlinewidth": 0,
             "ticks": ""
            },
            "colorscale": [
             [
              0,
              "#0d0887"
             ],
             [
              0.1111111111111111,
              "#46039f"
             ],
             [
              0.2222222222222222,
              "#7201a8"
             ],
             [
              0.3333333333333333,
              "#9c179e"
             ],
             [
              0.4444444444444444,
              "#bd3786"
             ],
             [
              0.5555555555555556,
              "#d8576b"
             ],
             [
              0.6666666666666666,
              "#ed7953"
             ],
             [
              0.7777777777777778,
              "#fb9f3a"
             ],
             [
              0.8888888888888888,
              "#fdca26"
             ],
             [
              1,
              "#f0f921"
             ]
            ],
            "type": "heatmap"
           }
          ],
          "heatmapgl": [
           {
            "colorbar": {
             "outlinewidth": 0,
             "ticks": ""
            },
            "colorscale": [
             [
              0,
              "#0d0887"
             ],
             [
              0.1111111111111111,
              "#46039f"
             ],
             [
              0.2222222222222222,
              "#7201a8"
             ],
             [
              0.3333333333333333,
              "#9c179e"
             ],
             [
              0.4444444444444444,
              "#bd3786"
             ],
             [
              0.5555555555555556,
              "#d8576b"
             ],
             [
              0.6666666666666666,
              "#ed7953"
             ],
             [
              0.7777777777777778,
              "#fb9f3a"
             ],
             [
              0.8888888888888888,
              "#fdca26"
             ],
             [
              1,
              "#f0f921"
             ]
            ],
            "type": "heatmapgl"
           }
          ],
          "histogram": [
           {
            "marker": {
             "pattern": {
              "fillmode": "overlay",
              "size": 10,
              "solidity": 0.2
             }
            },
            "type": "histogram"
           }
          ],
          "histogram2d": [
           {
            "colorbar": {
             "outlinewidth": 0,
             "ticks": ""
            },
            "colorscale": [
             [
              0,
              "#0d0887"
             ],
             [
              0.1111111111111111,
              "#46039f"
             ],
             [
              0.2222222222222222,
              "#7201a8"
             ],
             [
              0.3333333333333333,
              "#9c179e"
             ],
             [
              0.4444444444444444,
              "#bd3786"
             ],
             [
              0.5555555555555556,
              "#d8576b"
             ],
             [
              0.6666666666666666,
              "#ed7953"
             ],
             [
              0.7777777777777778,
              "#fb9f3a"
             ],
             [
              0.8888888888888888,
              "#fdca26"
             ],
             [
              1,
              "#f0f921"
             ]
            ],
            "type": "histogram2d"
           }
          ],
          "histogram2dcontour": [
           {
            "colorbar": {
             "outlinewidth": 0,
             "ticks": ""
            },
            "colorscale": [
             [
              0,
              "#0d0887"
             ],
             [
              0.1111111111111111,
              "#46039f"
             ],
             [
              0.2222222222222222,
              "#7201a8"
             ],
             [
              0.3333333333333333,
              "#9c179e"
             ],
             [
              0.4444444444444444,
              "#bd3786"
             ],
             [
              0.5555555555555556,
              "#d8576b"
             ],
             [
              0.6666666666666666,
              "#ed7953"
             ],
             [
              0.7777777777777778,
              "#fb9f3a"
             ],
             [
              0.8888888888888888,
              "#fdca26"
             ],
             [
              1,
              "#f0f921"
             ]
            ],
            "type": "histogram2dcontour"
           }
          ],
          "mesh3d": [
           {
            "colorbar": {
             "outlinewidth": 0,
             "ticks": ""
            },
            "type": "mesh3d"
           }
          ],
          "parcoords": [
           {
            "line": {
             "colorbar": {
              "outlinewidth": 0,
              "ticks": ""
             }
            },
            "type": "parcoords"
           }
          ],
          "pie": [
           {
            "automargin": true,
            "type": "pie"
           }
          ],
          "scatter": [
           {
            "fillpattern": {
             "fillmode": "overlay",
             "size": 10,
             "solidity": 0.2
            },
            "type": "scatter"
           }
          ],
          "scatter3d": [
           {
            "line": {
             "colorbar": {
              "outlinewidth": 0,
              "ticks": ""
             }
            },
            "marker": {
             "colorbar": {
              "outlinewidth": 0,
              "ticks": ""
             }
            },
            "type": "scatter3d"
           }
          ],
          "scattercarpet": [
           {
            "marker": {
             "colorbar": {
              "outlinewidth": 0,
              "ticks": ""
             }
            },
            "type": "scattercarpet"
           }
          ],
          "scattergeo": [
           {
            "marker": {
             "colorbar": {
              "outlinewidth": 0,
              "ticks": ""
             }
            },
            "type": "scattergeo"
           }
          ],
          "scattergl": [
           {
            "marker": {
             "colorbar": {
              "outlinewidth": 0,
              "ticks": ""
             }
            },
            "type": "scattergl"
           }
          ],
          "scattermapbox": [
           {
            "marker": {
             "colorbar": {
              "outlinewidth": 0,
              "ticks": ""
             }
            },
            "type": "scattermapbox"
           }
          ],
          "scatterpolar": [
           {
            "marker": {
             "colorbar": {
              "outlinewidth": 0,
              "ticks": ""
             }
            },
            "type": "scatterpolar"
           }
          ],
          "scatterpolargl": [
           {
            "marker": {
             "colorbar": {
              "outlinewidth": 0,
              "ticks": ""
             }
            },
            "type": "scatterpolargl"
           }
          ],
          "scatterternary": [
           {
            "marker": {
             "colorbar": {
              "outlinewidth": 0,
              "ticks": ""
             }
            },
            "type": "scatterternary"
           }
          ],
          "surface": [
           {
            "colorbar": {
             "outlinewidth": 0,
             "ticks": ""
            },
            "colorscale": [
             [
              0,
              "#0d0887"
             ],
             [
              0.1111111111111111,
              "#46039f"
             ],
             [
              0.2222222222222222,
              "#7201a8"
             ],
             [
              0.3333333333333333,
              "#9c179e"
             ],
             [
              0.4444444444444444,
              "#bd3786"
             ],
             [
              0.5555555555555556,
              "#d8576b"
             ],
             [
              0.6666666666666666,
              "#ed7953"
             ],
             [
              0.7777777777777778,
              "#fb9f3a"
             ],
             [
              0.8888888888888888,
              "#fdca26"
             ],
             [
              1,
              "#f0f921"
             ]
            ],
            "type": "surface"
           }
          ],
          "table": [
           {
            "cells": {
             "fill": {
              "color": "#EBF0F8"
             },
             "line": {
              "color": "white"
             }
            },
            "header": {
             "fill": {
              "color": "#C8D4E3"
             },
             "line": {
              "color": "white"
             }
            },
            "type": "table"
           }
          ]
         },
         "layout": {
          "annotationdefaults": {
           "arrowcolor": "#2a3f5f",
           "arrowhead": 0,
           "arrowwidth": 1
          },
          "autotypenumbers": "strict",
          "coloraxis": {
           "colorbar": {
            "outlinewidth": 0,
            "ticks": ""
           }
          },
          "colorscale": {
           "diverging": [
            [
             0,
             "#8e0152"
            ],
            [
             0.1,
             "#c51b7d"
            ],
            [
             0.2,
             "#de77ae"
            ],
            [
             0.3,
             "#f1b6da"
            ],
            [
             0.4,
             "#fde0ef"
            ],
            [
             0.5,
             "#f7f7f7"
            ],
            [
             0.6,
             "#e6f5d0"
            ],
            [
             0.7,
             "#b8e186"
            ],
            [
             0.8,
             "#7fbc41"
            ],
            [
             0.9,
             "#4d9221"
            ],
            [
             1,
             "#276419"
            ]
           ],
           "sequential": [
            [
             0,
             "#0d0887"
            ],
            [
             0.1111111111111111,
             "#46039f"
            ],
            [
             0.2222222222222222,
             "#7201a8"
            ],
            [
             0.3333333333333333,
             "#9c179e"
            ],
            [
             0.4444444444444444,
             "#bd3786"
            ],
            [
             0.5555555555555556,
             "#d8576b"
            ],
            [
             0.6666666666666666,
             "#ed7953"
            ],
            [
             0.7777777777777778,
             "#fb9f3a"
            ],
            [
             0.8888888888888888,
             "#fdca26"
            ],
            [
             1,
             "#f0f921"
            ]
           ],
           "sequentialminus": [
            [
             0,
             "#0d0887"
            ],
            [
             0.1111111111111111,
             "#46039f"
            ],
            [
             0.2222222222222222,
             "#7201a8"
            ],
            [
             0.3333333333333333,
             "#9c179e"
            ],
            [
             0.4444444444444444,
             "#bd3786"
            ],
            [
             0.5555555555555556,
             "#d8576b"
            ],
            [
             0.6666666666666666,
             "#ed7953"
            ],
            [
             0.7777777777777778,
             "#fb9f3a"
            ],
            [
             0.8888888888888888,
             "#fdca26"
            ],
            [
             1,
             "#f0f921"
            ]
           ]
          },
          "colorway": [
           "#636efa",
           "#EF553B",
           "#00cc96",
           "#ab63fa",
           "#FFA15A",
           "#19d3f3",
           "#FF6692",
           "#B6E880",
           "#FF97FF",
           "#FECB52"
          ],
          "font": {
           "color": "#2a3f5f"
          },
          "geo": {
           "bgcolor": "white",
           "lakecolor": "white",
           "landcolor": "#E5ECF6",
           "showlakes": true,
           "showland": true,
           "subunitcolor": "white"
          },
          "hoverlabel": {
           "align": "left"
          },
          "hovermode": "closest",
          "mapbox": {
           "style": "light"
          },
          "paper_bgcolor": "white",
          "plot_bgcolor": "#E5ECF6",
          "polar": {
           "angularaxis": {
            "gridcolor": "white",
            "linecolor": "white",
            "ticks": ""
           },
           "bgcolor": "#E5ECF6",
           "radialaxis": {
            "gridcolor": "white",
            "linecolor": "white",
            "ticks": ""
           }
          },
          "scene": {
           "xaxis": {
            "backgroundcolor": "#E5ECF6",
            "gridcolor": "white",
            "gridwidth": 2,
            "linecolor": "white",
            "showbackground": true,
            "ticks": "",
            "zerolinecolor": "white"
           },
           "yaxis": {
            "backgroundcolor": "#E5ECF6",
            "gridcolor": "white",
            "gridwidth": 2,
            "linecolor": "white",
            "showbackground": true,
            "ticks": "",
            "zerolinecolor": "white"
           },
           "zaxis": {
            "backgroundcolor": "#E5ECF6",
            "gridcolor": "white",
            "gridwidth": 2,
            "linecolor": "white",
            "showbackground": true,
            "ticks": "",
            "zerolinecolor": "white"
           }
          },
          "shapedefaults": {
           "line": {
            "color": "#2a3f5f"
           }
          },
          "ternary": {
           "aaxis": {
            "gridcolor": "white",
            "linecolor": "white",
            "ticks": ""
           },
           "baxis": {
            "gridcolor": "white",
            "linecolor": "white",
            "ticks": ""
           },
           "bgcolor": "#E5ECF6",
           "caxis": {
            "gridcolor": "white",
            "linecolor": "white",
            "ticks": ""
           }
          },
          "title": {
           "x": 0.05
          },
          "xaxis": {
           "automargin": true,
           "gridcolor": "white",
           "linecolor": "white",
           "ticks": "",
           "title": {
            "standoff": 15
           },
           "zerolinecolor": "white",
           "zerolinewidth": 2
          },
          "yaxis": {
           "automargin": true,
           "gridcolor": "white",
           "linecolor": "white",
           "ticks": "",
           "title": {
            "standoff": 15
           },
           "zerolinecolor": "white",
           "zerolinewidth": 2
          }
         }
        },
        "title": {
         "text": "Top 10 Tweets for each Topic Over Time"
        },
        "xaxis": {
         "anchor": "y",
         "domain": [
          0,
          1
         ],
         "title": {
          "text": "Date and Time"
         }
        },
        "yaxis": {
         "anchor": "x",
         "domain": [
          0,
          1
         ],
         "title": {
          "text": "Maximum Value"
         }
        }
       }
      }
     },
     "metadata": {},
     "output_type": "display_data"
    }
   ],
   "source": [
    "# Create empty lists to store the maximum values, dates, and topic labels\n",
    "max_values = []\n",
    "dates = []\n",
    "topic_labels = []\n",
    "\n",
    "# Loop through Topic_0 to Topic_11\n",
    "top_n = 10 # Set the number of top values to display (e.g., top 5)\n",
    "for i in range(12):\n",
    "    column_name = f\"Topic_{i}\"\n",
    "    top_values = df.nlargest(top_n, column_name)  # Get the top n values for the topic\n",
    "    for _, row in top_values.iterrows():\n",
    "        max_values.append(row[column_name])\n",
    "        dates.append(row['created'])\n",
    "        topic_labels.append(f\"Topic_{i}\")\n",
    "\n",
    "# Create a DataFrame for the scatter plot\n",
    "scatter_df = pd.DataFrame({'Date': dates, 'Max Value': max_values, 'Topic': topic_labels})\n",
    "\n",
    "# Sort the DataFrame by 'Date' and reset the index\n",
    "scatter_df['Date'] = pd.to_datetime(scatter_df['Date'])  # Ensure 'Date' is in datetime format\n",
    "scatter_df = scatter_df.sort_values(by='Date')\n",
    "scatter_df.reset_index(drop=True, inplace=True)\n",
    "\n",
    "# Create the scatter plot\n",
    "fig = px.scatter(\n",
    "    scatter_df,\n",
    "    x='Date',\n",
    "    y='Max Value',\n",
    "    color='Topic',\n",
    "    title='Top 10 Tweets for each Topic Over Time',\n",
    "    labels={'Date': 'Date and Time', 'Max Value': 'Maximum Value'},\n",
    "    category_orders={'Topic': topic_labels}  # Set the order of topics for labels\n",
    ")\n",
    "\n",
    "fig.update_xaxes(title_text='Date and Time')\n",
    "fig.update_yaxes(title_text='Maximum Value')\n",
    "fig.show()\n"
   ]
  },
  {
   "cell_type": "code",
   "execution_count": 23,
   "id": "7887ad79",
   "metadata": {},
   "outputs": [
    {
     "name": "stderr",
     "output_type": "stream",
     "text": [
      "/var/folders/vh/n3strt_534939xw39f889k840000gn/T/ipykernel_7234/2515999521.py:2: UserWarning:\n",
      "\n",
      "Could not infer format, so each element will be parsed individually, falling back to `dateutil`. To ensure parsing is consistent and as-expected, please specify a format.\n",
      "\n"
     ]
    }
   ],
   "source": [
    "# Creating a DataFrame for the scatter plot with date parsing\n",
    "scatter_df = pd.DataFrame({'Date': pd.to_datetime(dates), 'Max Value': max_values, 'Topic': topic_labels})\n",
    "\n",
    "# Sorting the DataFrame by 'Date' and reset the index\n",
    "scatter_df = scatter_df.sort_values(by='Date')\n",
    "scatter_df.reset_index(drop=True, inplace=True)\n"
   ]
  },
  {
   "cell_type": "code",
   "execution_count": 24,
   "id": "06eb8cd6",
   "metadata": {},
   "outputs": [
    {
     "name": "stderr",
     "output_type": "stream",
     "text": [
      "/var/folders/vh/n3strt_534939xw39f889k840000gn/T/ipykernel_7234/3070879811.py:18: UserWarning:\n",
      "\n",
      "Could not infer format, so each element will be parsed individually, falling back to `dateutil`. To ensure parsing is consistent and as-expected, please specify a format.\n",
      "\n"
     ]
    },
    {
     "data": {
      "application/vnd.plotly.v1+json": {
       "config": {
        "plotlyServerURL": "https://plot.ly"
       },
       "data": [
        {
         "hovertemplate": "Topic=Topic_0<br>Date and Time=%{x}<br>Maximum Value=%{y}<extra></extra>",
         "legendgroup": "Topic_0",
         "marker": {
          "color": "#636efa",
          "symbol": "circle"
         },
         "mode": "markers",
         "name": "Topic_0",
         "orientation": "v",
         "showlegend": true,
         "type": "scatter",
         "x": [
          "2017-12-20T19:37:00"
         ],
         "xaxis": "x",
         "y": [
          0.8036041644167174
         ],
         "yaxis": "y"
        },
        {
         "hovertemplate": "Topic=Topic_1<br>Date and Time=%{x}<br>Maximum Value=%{y}<extra></extra>",
         "legendgroup": "Topic_1",
         "marker": {
          "color": "#EF553B",
          "symbol": "circle"
         },
         "mode": "markers",
         "name": "Topic_1",
         "orientation": "v",
         "showlegend": true,
         "type": "scatter",
         "x": [
          "2017-12-07T23:04:00"
         ],
         "xaxis": "x",
         "y": [
          0.8001339240167317
         ],
         "yaxis": "y"
        },
        {
         "hovertemplate": "Topic=Topic_2<br>Date and Time=%{x}<br>Maximum Value=%{y}<extra></extra>",
         "legendgroup": "Topic_2",
         "marker": {
          "color": "#00cc96",
          "symbol": "circle"
         },
         "mode": "markers",
         "name": "Topic_2",
         "orientation": "v",
         "showlegend": true,
         "type": "scatter",
         "x": [
          "2017-12-05T07:46:00"
         ],
         "xaxis": "x",
         "y": [
          0.8061891302890799
         ],
         "yaxis": "y"
        },
        {
         "hovertemplate": "Topic=Topic_3<br>Date and Time=%{x}<br>Maximum Value=%{y}<extra></extra>",
         "legendgroup": "Topic_3",
         "marker": {
          "color": "#ab63fa",
          "symbol": "circle"
         },
         "mode": "markers",
         "name": "Topic_3",
         "orientation": "v",
         "showlegend": true,
         "type": "scatter",
         "x": [
          "2017-12-14T14:13:00"
         ],
         "xaxis": "x",
         "y": [
          0.7976866451602734
         ],
         "yaxis": "y"
        },
        {
         "hovertemplate": "Topic=Topic_4<br>Date and Time=%{x}<br>Maximum Value=%{y}<extra></extra>",
         "legendgroup": "Topic_4",
         "marker": {
          "color": "#FFA15A",
          "symbol": "circle"
         },
         "mode": "markers",
         "name": "Topic_4",
         "orientation": "v",
         "showlegend": true,
         "type": "scatter",
         "x": [
          "2017-12-04T18:47:00"
         ],
         "xaxis": "x",
         "y": [
          0.8025956155688057
         ],
         "yaxis": "y"
        },
        {
         "hovertemplate": "Topic=Topic_5<br>Date and Time=%{x}<br>Maximum Value=%{y}<extra></extra>",
         "legendgroup": "Topic_5",
         "marker": {
          "color": "#19d3f3",
          "symbol": "circle"
         },
         "mode": "markers",
         "name": "Topic_5",
         "orientation": "v",
         "showlegend": true,
         "type": "scatter",
         "x": [
          "2017-12-11T18:24:00"
         ],
         "xaxis": "x",
         "y": [
          0.8048973277872772
         ],
         "yaxis": "y"
        },
        {
         "hovertemplate": "Topic=Topic_6<br>Date and Time=%{x}<br>Maximum Value=%{y}<extra></extra>",
         "legendgroup": "Topic_6",
         "marker": {
          "color": "#FF6692",
          "symbol": "circle"
         },
         "mode": "markers",
         "name": "Topic_6",
         "orientation": "v",
         "showlegend": true,
         "type": "scatter",
         "x": [
          "2017-12-12T16:15:00"
         ],
         "xaxis": "x",
         "y": [
          0.8026404573378955
         ],
         "yaxis": "y"
        },
        {
         "hovertemplate": "Topic=Topic_7<br>Date and Time=%{x}<br>Maximum Value=%{y}<extra></extra>",
         "legendgroup": "Topic_7",
         "marker": {
          "color": "#B6E880",
          "symbol": "circle"
         },
         "mode": "markers",
         "name": "Topic_7",
         "orientation": "v",
         "showlegend": true,
         "type": "scatter",
         "x": [
          "2017-12-10T12:10:00"
         ],
         "xaxis": "x",
         "y": [
          0.7954416249155964
         ],
         "yaxis": "y"
        },
        {
         "hovertemplate": "Topic=Topic_8<br>Date and Time=%{x}<br>Maximum Value=%{y}<extra></extra>",
         "legendgroup": "Topic_8",
         "marker": {
          "color": "#FF97FF",
          "symbol": "circle"
         },
         "mode": "markers",
         "name": "Topic_8",
         "orientation": "v",
         "showlegend": true,
         "type": "scatter",
         "x": [
          "2017-12-10T19:17:00"
         ],
         "xaxis": "x",
         "y": [
          0.7987571478570779
         ],
         "yaxis": "y"
        },
        {
         "hovertemplate": "Topic=Topic_9<br>Date and Time=%{x}<br>Maximum Value=%{y}<extra></extra>",
         "legendgroup": "Topic_9",
         "marker": {
          "color": "#FECB52",
          "symbol": "circle"
         },
         "mode": "markers",
         "name": "Topic_9",
         "orientation": "v",
         "showlegend": true,
         "type": "scatter",
         "x": [
          "2017-12-20T00:21:00"
         ],
         "xaxis": "x",
         "y": [
          0.8080671121239231
         ],
         "yaxis": "y"
        },
        {
         "hovertemplate": "Topic=Topic_10<br>Date and Time=%{x}<br>Maximum Value=%{y}<extra></extra>",
         "legendgroup": "Topic_10",
         "marker": {
          "color": "#636efa",
          "symbol": "circle"
         },
         "mode": "markers",
         "name": "Topic_10",
         "orientation": "v",
         "showlegend": true,
         "type": "scatter",
         "x": [
          "2017-12-21T18:30:00"
         ],
         "xaxis": "x",
         "y": [
          0.793611711007424
         ],
         "yaxis": "y"
        },
        {
         "hovertemplate": "Topic=Topic_11<br>Date and Time=%{x}<br>Maximum Value=%{y}<extra></extra>",
         "legendgroup": "Topic_11",
         "marker": {
          "color": "#EF553B",
          "symbol": "circle"
         },
         "mode": "markers",
         "name": "Topic_11",
         "orientation": "v",
         "showlegend": true,
         "type": "scatter",
         "x": [
          "2017-12-13T17:56:00"
         ],
         "xaxis": "x",
         "y": [
          0.8138730255854668
         ],
         "yaxis": "y"
        }
       ],
       "layout": {
        "legend": {
         "title": {
          "text": "Topic"
         },
         "tracegroupgap": 0
        },
        "template": {
         "data": {
          "bar": [
           {
            "error_x": {
             "color": "#2a3f5f"
            },
            "error_y": {
             "color": "#2a3f5f"
            },
            "marker": {
             "line": {
              "color": "#E5ECF6",
              "width": 0.5
             },
             "pattern": {
              "fillmode": "overlay",
              "size": 10,
              "solidity": 0.2
             }
            },
            "type": "bar"
           }
          ],
          "barpolar": [
           {
            "marker": {
             "line": {
              "color": "#E5ECF6",
              "width": 0.5
             },
             "pattern": {
              "fillmode": "overlay",
              "size": 10,
              "solidity": 0.2
             }
            },
            "type": "barpolar"
           }
          ],
          "carpet": [
           {
            "aaxis": {
             "endlinecolor": "#2a3f5f",
             "gridcolor": "white",
             "linecolor": "white",
             "minorgridcolor": "white",
             "startlinecolor": "#2a3f5f"
            },
            "baxis": {
             "endlinecolor": "#2a3f5f",
             "gridcolor": "white",
             "linecolor": "white",
             "minorgridcolor": "white",
             "startlinecolor": "#2a3f5f"
            },
            "type": "carpet"
           }
          ],
          "choropleth": [
           {
            "colorbar": {
             "outlinewidth": 0,
             "ticks": ""
            },
            "type": "choropleth"
           }
          ],
          "contour": [
           {
            "colorbar": {
             "outlinewidth": 0,
             "ticks": ""
            },
            "colorscale": [
             [
              0,
              "#0d0887"
             ],
             [
              0.1111111111111111,
              "#46039f"
             ],
             [
              0.2222222222222222,
              "#7201a8"
             ],
             [
              0.3333333333333333,
              "#9c179e"
             ],
             [
              0.4444444444444444,
              "#bd3786"
             ],
             [
              0.5555555555555556,
              "#d8576b"
             ],
             [
              0.6666666666666666,
              "#ed7953"
             ],
             [
              0.7777777777777778,
              "#fb9f3a"
             ],
             [
              0.8888888888888888,
              "#fdca26"
             ],
             [
              1,
              "#f0f921"
             ]
            ],
            "type": "contour"
           }
          ],
          "contourcarpet": [
           {
            "colorbar": {
             "outlinewidth": 0,
             "ticks": ""
            },
            "type": "contourcarpet"
           }
          ],
          "heatmap": [
           {
            "colorbar": {
             "outlinewidth": 0,
             "ticks": ""
            },
            "colorscale": [
             [
              0,
              "#0d0887"
             ],
             [
              0.1111111111111111,
              "#46039f"
             ],
             [
              0.2222222222222222,
              "#7201a8"
             ],
             [
              0.3333333333333333,
              "#9c179e"
             ],
             [
              0.4444444444444444,
              "#bd3786"
             ],
             [
              0.5555555555555556,
              "#d8576b"
             ],
             [
              0.6666666666666666,
              "#ed7953"
             ],
             [
              0.7777777777777778,
              "#fb9f3a"
             ],
             [
              0.8888888888888888,
              "#fdca26"
             ],
             [
              1,
              "#f0f921"
             ]
            ],
            "type": "heatmap"
           }
          ],
          "heatmapgl": [
           {
            "colorbar": {
             "outlinewidth": 0,
             "ticks": ""
            },
            "colorscale": [
             [
              0,
              "#0d0887"
             ],
             [
              0.1111111111111111,
              "#46039f"
             ],
             [
              0.2222222222222222,
              "#7201a8"
             ],
             [
              0.3333333333333333,
              "#9c179e"
             ],
             [
              0.4444444444444444,
              "#bd3786"
             ],
             [
              0.5555555555555556,
              "#d8576b"
             ],
             [
              0.6666666666666666,
              "#ed7953"
             ],
             [
              0.7777777777777778,
              "#fb9f3a"
             ],
             [
              0.8888888888888888,
              "#fdca26"
             ],
             [
              1,
              "#f0f921"
             ]
            ],
            "type": "heatmapgl"
           }
          ],
          "histogram": [
           {
            "marker": {
             "pattern": {
              "fillmode": "overlay",
              "size": 10,
              "solidity": 0.2
             }
            },
            "type": "histogram"
           }
          ],
          "histogram2d": [
           {
            "colorbar": {
             "outlinewidth": 0,
             "ticks": ""
            },
            "colorscale": [
             [
              0,
              "#0d0887"
             ],
             [
              0.1111111111111111,
              "#46039f"
             ],
             [
              0.2222222222222222,
              "#7201a8"
             ],
             [
              0.3333333333333333,
              "#9c179e"
             ],
             [
              0.4444444444444444,
              "#bd3786"
             ],
             [
              0.5555555555555556,
              "#d8576b"
             ],
             [
              0.6666666666666666,
              "#ed7953"
             ],
             [
              0.7777777777777778,
              "#fb9f3a"
             ],
             [
              0.8888888888888888,
              "#fdca26"
             ],
             [
              1,
              "#f0f921"
             ]
            ],
            "type": "histogram2d"
           }
          ],
          "histogram2dcontour": [
           {
            "colorbar": {
             "outlinewidth": 0,
             "ticks": ""
            },
            "colorscale": [
             [
              0,
              "#0d0887"
             ],
             [
              0.1111111111111111,
              "#46039f"
             ],
             [
              0.2222222222222222,
              "#7201a8"
             ],
             [
              0.3333333333333333,
              "#9c179e"
             ],
             [
              0.4444444444444444,
              "#bd3786"
             ],
             [
              0.5555555555555556,
              "#d8576b"
             ],
             [
              0.6666666666666666,
              "#ed7953"
             ],
             [
              0.7777777777777778,
              "#fb9f3a"
             ],
             [
              0.8888888888888888,
              "#fdca26"
             ],
             [
              1,
              "#f0f921"
             ]
            ],
            "type": "histogram2dcontour"
           }
          ],
          "mesh3d": [
           {
            "colorbar": {
             "outlinewidth": 0,
             "ticks": ""
            },
            "type": "mesh3d"
           }
          ],
          "parcoords": [
           {
            "line": {
             "colorbar": {
              "outlinewidth": 0,
              "ticks": ""
             }
            },
            "type": "parcoords"
           }
          ],
          "pie": [
           {
            "automargin": true,
            "type": "pie"
           }
          ],
          "scatter": [
           {
            "fillpattern": {
             "fillmode": "overlay",
             "size": 10,
             "solidity": 0.2
            },
            "type": "scatter"
           }
          ],
          "scatter3d": [
           {
            "line": {
             "colorbar": {
              "outlinewidth": 0,
              "ticks": ""
             }
            },
            "marker": {
             "colorbar": {
              "outlinewidth": 0,
              "ticks": ""
             }
            },
            "type": "scatter3d"
           }
          ],
          "scattercarpet": [
           {
            "marker": {
             "colorbar": {
              "outlinewidth": 0,
              "ticks": ""
             }
            },
            "type": "scattercarpet"
           }
          ],
          "scattergeo": [
           {
            "marker": {
             "colorbar": {
              "outlinewidth": 0,
              "ticks": ""
             }
            },
            "type": "scattergeo"
           }
          ],
          "scattergl": [
           {
            "marker": {
             "colorbar": {
              "outlinewidth": 0,
              "ticks": ""
             }
            },
            "type": "scattergl"
           }
          ],
          "scattermapbox": [
           {
            "marker": {
             "colorbar": {
              "outlinewidth": 0,
              "ticks": ""
             }
            },
            "type": "scattermapbox"
           }
          ],
          "scatterpolar": [
           {
            "marker": {
             "colorbar": {
              "outlinewidth": 0,
              "ticks": ""
             }
            },
            "type": "scatterpolar"
           }
          ],
          "scatterpolargl": [
           {
            "marker": {
             "colorbar": {
              "outlinewidth": 0,
              "ticks": ""
             }
            },
            "type": "scatterpolargl"
           }
          ],
          "scatterternary": [
           {
            "marker": {
             "colorbar": {
              "outlinewidth": 0,
              "ticks": ""
             }
            },
            "type": "scatterternary"
           }
          ],
          "surface": [
           {
            "colorbar": {
             "outlinewidth": 0,
             "ticks": ""
            },
            "colorscale": [
             [
              0,
              "#0d0887"
             ],
             [
              0.1111111111111111,
              "#46039f"
             ],
             [
              0.2222222222222222,
              "#7201a8"
             ],
             [
              0.3333333333333333,
              "#9c179e"
             ],
             [
              0.4444444444444444,
              "#bd3786"
             ],
             [
              0.5555555555555556,
              "#d8576b"
             ],
             [
              0.6666666666666666,
              "#ed7953"
             ],
             [
              0.7777777777777778,
              "#fb9f3a"
             ],
             [
              0.8888888888888888,
              "#fdca26"
             ],
             [
              1,
              "#f0f921"
             ]
            ],
            "type": "surface"
           }
          ],
          "table": [
           {
            "cells": {
             "fill": {
              "color": "#EBF0F8"
             },
             "line": {
              "color": "white"
             }
            },
            "header": {
             "fill": {
              "color": "#C8D4E3"
             },
             "line": {
              "color": "white"
             }
            },
            "type": "table"
           }
          ]
         },
         "layout": {
          "annotationdefaults": {
           "arrowcolor": "#2a3f5f",
           "arrowhead": 0,
           "arrowwidth": 1
          },
          "autotypenumbers": "strict",
          "coloraxis": {
           "colorbar": {
            "outlinewidth": 0,
            "ticks": ""
           }
          },
          "colorscale": {
           "diverging": [
            [
             0,
             "#8e0152"
            ],
            [
             0.1,
             "#c51b7d"
            ],
            [
             0.2,
             "#de77ae"
            ],
            [
             0.3,
             "#f1b6da"
            ],
            [
             0.4,
             "#fde0ef"
            ],
            [
             0.5,
             "#f7f7f7"
            ],
            [
             0.6,
             "#e6f5d0"
            ],
            [
             0.7,
             "#b8e186"
            ],
            [
             0.8,
             "#7fbc41"
            ],
            [
             0.9,
             "#4d9221"
            ],
            [
             1,
             "#276419"
            ]
           ],
           "sequential": [
            [
             0,
             "#0d0887"
            ],
            [
             0.1111111111111111,
             "#46039f"
            ],
            [
             0.2222222222222222,
             "#7201a8"
            ],
            [
             0.3333333333333333,
             "#9c179e"
            ],
            [
             0.4444444444444444,
             "#bd3786"
            ],
            [
             0.5555555555555556,
             "#d8576b"
            ],
            [
             0.6666666666666666,
             "#ed7953"
            ],
            [
             0.7777777777777778,
             "#fb9f3a"
            ],
            [
             0.8888888888888888,
             "#fdca26"
            ],
            [
             1,
             "#f0f921"
            ]
           ],
           "sequentialminus": [
            [
             0,
             "#0d0887"
            ],
            [
             0.1111111111111111,
             "#46039f"
            ],
            [
             0.2222222222222222,
             "#7201a8"
            ],
            [
             0.3333333333333333,
             "#9c179e"
            ],
            [
             0.4444444444444444,
             "#bd3786"
            ],
            [
             0.5555555555555556,
             "#d8576b"
            ],
            [
             0.6666666666666666,
             "#ed7953"
            ],
            [
             0.7777777777777778,
             "#fb9f3a"
            ],
            [
             0.8888888888888888,
             "#fdca26"
            ],
            [
             1,
             "#f0f921"
            ]
           ]
          },
          "colorway": [
           "#636efa",
           "#EF553B",
           "#00cc96",
           "#ab63fa",
           "#FFA15A",
           "#19d3f3",
           "#FF6692",
           "#B6E880",
           "#FF97FF",
           "#FECB52"
          ],
          "font": {
           "color": "#2a3f5f"
          },
          "geo": {
           "bgcolor": "white",
           "lakecolor": "white",
           "landcolor": "#E5ECF6",
           "showlakes": true,
           "showland": true,
           "subunitcolor": "white"
          },
          "hoverlabel": {
           "align": "left"
          },
          "hovermode": "closest",
          "mapbox": {
           "style": "light"
          },
          "paper_bgcolor": "white",
          "plot_bgcolor": "#E5ECF6",
          "polar": {
           "angularaxis": {
            "gridcolor": "white",
            "linecolor": "white",
            "ticks": ""
           },
           "bgcolor": "#E5ECF6",
           "radialaxis": {
            "gridcolor": "white",
            "linecolor": "white",
            "ticks": ""
           }
          },
          "scene": {
           "xaxis": {
            "backgroundcolor": "#E5ECF6",
            "gridcolor": "white",
            "gridwidth": 2,
            "linecolor": "white",
            "showbackground": true,
            "ticks": "",
            "zerolinecolor": "white"
           },
           "yaxis": {
            "backgroundcolor": "#E5ECF6",
            "gridcolor": "white",
            "gridwidth": 2,
            "linecolor": "white",
            "showbackground": true,
            "ticks": "",
            "zerolinecolor": "white"
           },
           "zaxis": {
            "backgroundcolor": "#E5ECF6",
            "gridcolor": "white",
            "gridwidth": 2,
            "linecolor": "white",
            "showbackground": true,
            "ticks": "",
            "zerolinecolor": "white"
           }
          },
          "shapedefaults": {
           "line": {
            "color": "#2a3f5f"
           }
          },
          "ternary": {
           "aaxis": {
            "gridcolor": "white",
            "linecolor": "white",
            "ticks": ""
           },
           "baxis": {
            "gridcolor": "white",
            "linecolor": "white",
            "ticks": ""
           },
           "bgcolor": "#E5ECF6",
           "caxis": {
            "gridcolor": "white",
            "linecolor": "white",
            "ticks": ""
           }
          },
          "title": {
           "x": 0.05
          },
          "xaxis": {
           "automargin": true,
           "gridcolor": "white",
           "linecolor": "white",
           "ticks": "",
           "title": {
            "standoff": 15
           },
           "zerolinecolor": "white",
           "zerolinewidth": 2
          },
          "yaxis": {
           "automargin": true,
           "gridcolor": "white",
           "linecolor": "white",
           "ticks": "",
           "title": {
            "standoff": 15
           },
           "zerolinecolor": "white",
           "zerolinewidth": 2
          }
         }
        },
        "title": {
         "text": "Top Tweets of each Topic Over Time"
        },
        "xaxis": {
         "anchor": "y",
         "domain": [
          0,
          1
         ],
         "title": {
          "text": "Date and Time"
         }
        },
        "yaxis": {
         "anchor": "x",
         "domain": [
          0,
          1
         ],
         "title": {
          "text": "Maximum Value"
         }
        }
       }
      }
     },
     "metadata": {},
     "output_type": "display_data"
    }
   ],
   "source": [
    "# Creating empty lists to store the maximum values, dates, and topic labels\n",
    "max_values = []\n",
    "dates = []\n",
    "topic_labels = []\n",
    "\n",
    "# Looping through Topic_0 to Topic_11\n",
    "for i in range(12):\n",
    "    column_name = f\"Topic_{i}\"\n",
    "    max_value = df[column_name].max()\n",
    "    max_value_index = df[column_name].idxmax()\n",
    "    max_value_date = df.loc[max_value_index, \"created\"]\n",
    "\n",
    "    max_values.append(max_value)\n",
    "    dates.append(max_value_date)\n",
    "    topic_labels.append(f\"Topic_{i}\")\n",
    "\n",
    "# Creating a DataFrame for the scatter plot with date parsing\n",
    "scatter_df = pd.DataFrame({'Date': pd.to_datetime(dates), 'Max Value': max_values, 'Topic': topic_labels})\n",
    "\n",
    "# Sorting the DataFrame by 'Date' and reset the index\n",
    "scatter_df = scatter_df.sort_values(by='Date')\n",
    "scatter_df.reset_index(drop=True, inplace=True)\n",
    "\n",
    "\n",
    "# Create the scatter plot\n",
    "fig = px.scatter(\n",
    "    scatter_df,\n",
    "    x='Date',\n",
    "    y='Max Value',\n",
    "    color='Topic', \n",
    "    title='Top Tweets of each Topic Over Time',\n",
    "    labels={'Date': 'Date and Time', 'Max Value': 'Maximum Value'},\n",
    "    category_orders={'Topic': topic_labels}  # Setting the order of topics for labels\n",
    ")\n",
    "\n",
    "fig.update_xaxes(title_text='Date and Time')\n",
    "fig.update_yaxes(title_text='Maximum Value')\n",
    "fig.show()\n"
   ]
  }
 ],
 "metadata": {
  "kernelspec": {
   "display_name": "Python 3",
   "language": "python",
   "name": "python3"
  },
  "language_info": {
   "codemirror_mode": {
    "name": "ipython",
    "version": 3
   },
   "file_extension": ".py",
   "mimetype": "text/x-python",
   "name": "python",
   "nbconvert_exporter": "python",
   "pygments_lexer": "ipython3",
   "version": "3.8.8"
  }
 },
 "nbformat": 4,
 "nbformat_minor": 5
}
