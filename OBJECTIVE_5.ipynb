{
 "cells": [
  {
   "cell_type": "code",
   "execution_count": 23,
   "id": "3693ea7c",
   "metadata": {},
   "outputs": [],
   "source": [
    "import pandas as pd\n",
    "import numpy as np\n",
    "from sklearn.decomposition import LatentDirichletAllocation as LDA\n",
    "from sklearn.model_selection import GridSearchCV\n",
    "from sklearn.feature_extraction.text import TfidfVectorizer\n",
    "from tqdm import tqdm\n"
   ]
  },
  {
   "cell_type": "code",
   "execution_count": 7,
   "id": "62cddf0e",
   "metadata": {},
   "outputs": [],
   "source": [
    "df = pd.read_csv(\"Preprocessed_Tweets.csv\")"
   ]
  },
  {
   "cell_type": "code",
   "execution_count": 12,
   "id": "c12a48a2",
   "metadata": {},
   "outputs": [],
   "source": [
    "df = df.dropna(subset=\"lemmatized_tweets\")"
   ]
  },
  {
   "cell_type": "code",
   "execution_count": 13,
   "id": "62aab291",
   "metadata": {},
   "outputs": [
    {
     "data": {
      "text/plain": [
       "0"
      ]
     },
     "execution_count": 13,
     "metadata": {},
     "output_type": "execute_result"
    }
   ],
   "source": [
    "df['lemmatized_tweets'].isna().sum()"
   ]
  },
  {
   "cell_type": "code",
   "execution_count": 14,
   "id": "a5568115",
   "metadata": {},
   "outputs": [],
   "source": [
    "vect = TfidfVectorizer(min_df=2, max_df=0.90, stop_words='english')"
   ]
  },
  {
   "cell_type": "code",
   "execution_count": 15,
   "id": "b67dabb6",
   "metadata": {},
   "outputs": [],
   "source": [
    "X = vect.fit_transform(df['lemmatized_tweets'])"
   ]
  },
  {
   "cell_type": "code",
   "execution_count": 25,
   "id": "7e65591f",
   "metadata": {},
   "outputs": [],
   "source": [
    "lda = LDA(n_components = 10, learning_method=\"batch\", max_iter=50, random_state=0)\n",
    "\n",
    "document_topics = lda.fit_transform(X)"
   ]
  },
  {
   "cell_type": "code",
   "execution_count": 26,
   "id": "31f51965",
   "metadata": {},
   "outputs": [
    {
     "name": "stderr",
     "output_type": "stream",
     "text": [
      "C:\\Users\\hp\\anaconda3\\lib\\site-packages\\sklearn\\utils\\deprecation.py:87: FutureWarning: Function get_feature_names is deprecated; get_feature_names is deprecated in 1.0 and will be removed in 1.2. Please use get_feature_names_out instead.\n",
      "  warnings.warn(msg, category=FutureWarning)\n"
     ]
    }
   ],
   "source": [
    "sorting = np.argsort(lda.components_, axis=1)[:, ::-1]\n",
    "feature_names = np.array(vect.get_feature_names())"
   ]
  },
  {
   "cell_type": "code",
   "execution_count": 27,
   "id": "ccefd1f7",
   "metadata": {},
   "outputs": [
    {
     "name": "stdout",
     "output_type": "stream",
     "text": [
      "topic 0       topic 1       topic 2       topic 3       topic 4       \n",
      "--------      --------      --------      --------      --------      \n",
      "movement      movement      quiet         man           movement      \n",
      "allen         woman         society       woman         trump         \n",
      "woody         sexual        culture       say           mueller       \n",
      "dylan         speak         refuse        movement      say           \n",
      "farrow        texas         pain          trump         year          \n",
      "revolution    aide          confront      know          person        \n",
      "create        attorney      rape          tweet         time          \n",
      "spare         general       make          come          good          \n",
      "ask           pathetic      shout         people        donald        \n",
      "young         harassment    story         like          franken       \n",
      "tell          mock          thank         make          need          \n",
      "survive       women         matt          time          chance        \n",
      "ago           marcher       damon         try           folk          \n",
      "tha           cnt           hi            think         pr            \n",
      "color         job           lady          yes           feature       \n",
      "assault       meet          want          need          lie           \n",
      "woman         expose        control       disgusting    rid           \n",
      "time          actually      second        gillibrand    victim        \n",
      "know          talk          stop          bring         al            \n",
      "year          lowwage       spin          pay           story         \n",
      "interview     accuse        dangerously   accusation    think         \n",
      "comment       work          chat          year          powerful      \n",
      "value         big           italy         look          doubt         \n",
      "sexual        word          meh           reason        stone         \n",
      "deem          resign        madness       ht            question      \n",
      "magazine      assault       share         lisa          set           \n",
      "sexually      misconduct    million       feel          true          \n",
      "harass        nope          like          thing         prove         \n",
      "far           news          major         really        people        \n",
      "like          great         experience    point         woman         \n",
      "\n",
      "\n",
      "topic 5       topic 6       topic 7       topic 8       topic 9       \n",
      "--------      --------      --------      --------      --------      \n",
      "tarana        woman         shout         woman         rt            \n",
      "burke         alabama       america       person        sexual        \n",
      "movement      backlash      president     year          assault       \n",
      "creator       say           list          movement      trump         \n",
      "year          medium        united        silence       trumps        \n",
      "new           right         use           breaker       believe       \n",
      "choose        stand         strong        time          victim        \n",
      "woman         change        allegation    white         agree         \n",
      "ball          man           misconduct    vote          woman         \n",
      "square        movement      story         say           resign        \n",
      "mean          social        states        win           moment        \n",
      "drop          love          world         forget        harassment    \n",
      "time          survivor      beautiful     moore         end           \n",
      "campaign      like          sexual        trump         allegation    \n",
      "eve           come          woman         2017          come          \n",
      "hashtag       fear          late          roy           let           \n",
      "start         daughter      daily         magazine      movement      \n",
      "person        support       like          black         justice       \n",
      "power         sexual        black         reporter      donald        \n",
      "leave         2017          people        think         accuser       \n",
      "times         ready         think         statement     say           \n",
      "https         year          look          viral         speak         \n",
      "process       moment        life          let           suffer        \n",
      "silence       remember      fun           make          join          \n",
      "10            joy           ruin          congrat       happen        \n",
      "magazine      technology    movement      incredible    deserve       \n",
      "push          action        cover         celebrate     misconduct    \n",
      "resignation   know          thank         hair          sexually      \n",
      "make          abuse         vicious       open          people        \n",
      "man           corey         baseless      color         lose          \n",
      "\n",
      "\n"
     ]
    }
   ],
   "source": [
    "import mglearn\n",
    "mglearn.tools.print_topics(topics=range(10), feature_names=feature_names, sorting=sorting, topics_per_chunk=5, n_words=30)"
   ]
  },
  {
   "cell_type": "code",
   "execution_count": null,
   "id": "8ba66d4c",
   "metadata": {},
   "outputs": [],
   "source": []
  }
 ],
 "metadata": {
  "kernelspec": {
   "display_name": "Python 3",
   "language": "python",
   "name": "python3"
  },
  "language_info": {
   "codemirror_mode": {
    "name": "ipython",
    "version": 3
   },
   "file_extension": ".py",
   "mimetype": "text/x-python",
   "name": "python",
   "nbconvert_exporter": "python",
   "pygments_lexer": "ipython3",
   "version": "3.8.8"
  }
 },
 "nbformat": 4,
 "nbformat_minor": 5
}
