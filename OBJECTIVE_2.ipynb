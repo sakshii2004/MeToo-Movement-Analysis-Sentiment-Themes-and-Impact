import pandas as pd
import numpy as np
import matplotlib.pyplot as plt
import seaborn as sns
import warnings
warnings.filterwarnings('ignore')
import plotly.graph_objects as go
import plotly.express as px
from plotly.subplots import make_subplots
df=pd.read_csv("/Users/samriddhikumari/Desktop/PYthon/Projects/NLP_srs/Preprocessed_Tweets.csv")
df.head(5)
#remove all tweets that have 1/2 words
#filtered_df = df[df['punctuation_removed'].apply(lambda x: len(x.split()) > 2)]
#filtered_df
## 2.1 Exploring the tweets with highest ‘favoriteCount’ and ‘retweetCount’.
sorted_df = df.sort_values(by='favoriteCount', ascending=False)
top_tweets = sorted_df.head()
top_tweets
top_tweet_text = top_tweets['lemmatized_tweets'].values[0]
print(top_tweet_text)
sorted_df_retweet = df.sort_values(by='retweetCount', ascending=False)
top_tweets_retweet = sorted_df_retweet.head()
top_tweets_retweet
top_tweet_rt = top_tweets_retweet['lemmatized_tweets'].values[0]
print(top_tweet_rt)
max_favourite_row = df[df['favoriteCount'] == df['favoriteCount'].max()]
print(max_favourite_row['lemmatized_tweets'].values[0])
print(max_favourite_row['text'].values[0])
max_retweets_row = df[df['retweetCount'] == df['retweetCount'].max()]
print(max_retweets_row['lemmatized_tweets'].values[0])
print(max_retweets_row['text'].values[0])
max_favorite_row = df[df['favoriteCount'] == df['favoriteCount'].max()]
max_retweets_row = df[df['retweetCount'] == df['retweetCount'].max()]
common_rows = max_favorite_row.merge(max_retweets_row)

if not common_rows.empty:
    tweet_text = common_rows['text'].values[0]
    print(f"The tweet with the highest favorite and retweet counts:\n{tweet_text}")
else:
    max_favorite_tweet = max_favorite_row['text'].values[0]
    max_retweets_tweet = max_retweets_row['text'].values[0]

    print("The tweet with the highest favorite count:")
    print(max_favorite_tweet)

    print("The tweet with the highest retweet count:")
    print(max_retweets_tweet)

## 2.2 Finding out if there are any tweets having high ‘favoriteCount’ count and high ‘retweetCount’.
df['combinedCount'] = df['favoriteCount'] + df['retweetCount']
max_combined_row = df[df['combinedCount'] == df['combinedCount'].max()]
tweet_text = max_combined_row['text'].values[0]
favorite_count = max_combined_row['favoriteCount'].values[0]
retweet_count = max_combined_row['retweetCount'].values[0]

print(f"The tweet with the highest favorite and retweet counts:")
print(f"Tweet: {tweet_text}")
print(f"Favorite Count: {favorite_count}")
print(f"Retweet Count: {retweet_count}")

df.drop('combinedCount', axis=1, inplace=True)

## 2.3 Analyzing the content of popular tweets like keywords and topics.
import pandas as pd
from collections import Counter
import re

def extract_keywords(text):
    if isinstance(text, str):
        words = re.findall(r'\w+', text.lower())
        return words
    else:
        return []

all_keywords = df['lemmatized_tweets'].apply(extract_keywords).sum()
keyword_counts = Counter(all_keywords)
most_common_keywords = keyword_counts.most_common(10)
for keyword, count in most_common_keywords:
    print(f"Keyword: {keyword}, Frequency: {count}")

# 2.4 Investigating the timing of popular tweets.
df_sorted = df.sort_values(by='favoriteCount', ascending=False)
top_100_favorited = df_sorted.head(100)
red_color = "#FF6B6B" 
top_100_favorited['created'] = pd.to_datetime(top_100_favorited['created'])
fig = px.scatter(
    top_100_favorited,
    x='created',
    y='favoriteCount',
    title='Timeline of the 100 Most Favorited Tweets',
    labels={'created': 'Date and Time', 'favoriteCount': 'Favorite Count'},
    color_discrete_sequence=[red_color],
    template='plotly_dark'  # Use a dark theme (customize as needed)
)

fig.update_xaxes(title_text='Date and Time')
fig.update_yaxes(title_text='Favorite Count')
fig.show()
df_sorted = df.sort_values(by='favoriteCount', ascending=False)
top_100_favorited = df_sorted.head(100)
top_100_favorited['created'] = pd.to_datetime(top_100_favorited['created'])
red_color = "#FF6B6B"  # Muted red

fig = px.scatter(
    top_100_favorited,
    x='created',
    y='favoriteCount',
    title='Timeline of the 100 Most Favorited Tweets',
    labels={'created': 'Date and Time', 'favoriteCount': 'Favorite Count'},
    color_discrete_sequence=[red_color],
    template='plotly_dark')

fig.update_xaxes(title_text='Date and Time')
fig.update_yaxes(title_text='Favorite Count')
fig.show()
df_sorted_rt = df.sort_values(by='retweetCount', ascending=False)
top_100_rt = df_sorted.head(100)
top_100_rt['created'] = pd.to_datetime(top_100_rt['created'])
pink_color = "#FF95A3"

fig = px.scatter(
    top_100_favorited,
    x='created',
    y='retweetCount',
    title='Timeline of the 100 Most Retweeted Tweets',
    labels={'created': 'Date and Time', 'retweetCount': 'Retweet Count'},
    color_discrete_sequence=[pink_color],
    template='plotly_dark'
)

fig.update_xaxes(title_text='Date and Time')
fig.update_yaxes(title_text='Retweet Count')
fig.show()

df_sorted_rt = df.sort_values(by='retweetCount', ascending=False)
top_100_rt = df_sorted.head(100)
top_100_rt['created'] = pd.to_datetime(top_100_rt['created'])
pink_color = "#FF95A3"

fig = px.line(
    top_100_favorited,
    x='created',
    y='retweetCount',
    title='Timeline of the 100 Most Retweeted Tweets',
    labels={'created': 'Date and Time', 'retweetCount': 'Retweet Count'},
    color_discrete_sequence=[pink_color],
    template='plotly_dark'
)

fig.update_xaxes(title_text='Date and Time')
fig.update_yaxes(title_text='Retweet Count')
fig.show()

# 2.5 Examining the twitter users associated with popular tweets.
import pandas as pd
from collections import Counter

df = df.dropna(subset=['replyToSN'])
mention_counts = Counter(df['replyToSN'])
most_popular_people = mention_counts.most_common(10)  # Get the top 10 most mentioned people

print("Most Replied-To People:")
for person, count in most_popular_people:
    print(f"{person}: {count} replies")

