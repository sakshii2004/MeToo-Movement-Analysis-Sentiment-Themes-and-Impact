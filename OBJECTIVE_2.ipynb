{
 "cells": [
  {
   "cell_type": "code",
   "execution_count": 1,
   "metadata": {},
   "outputs": [],
   "source": [
    "import pandas as pd\n",
    "import numpy as np\n",
    "import matplotlib.pyplot as plt\n",
    "import seaborn as sns\n",
    "import warnings\n",
    "warnings.filterwarnings('ignore')\n",
    "import plotly.graph_objects as go\n",
    "import plotly.express as px\n",
    "from plotly.subplots import make_subplots"
   ]
  },
  {
   "cell_type": "code",
   "execution_count": 2,
   "metadata": {},
   "outputs": [],
   "source": [
    "df=pd.read_csv(\"/Users/samriddhikumari/Desktop/PYthon/Projects/NLP_srs/Preprocessed_Tweets.csv\")"
   ]
  },
  {
   "cell_type": "code",
   "execution_count": 3,
   "metadata": {},
   "outputs": [
    {
     "data": {
      "text/html": [
       "<div>\n",
       "<style scoped>\n",
       "    .dataframe tbody tr th:only-of-type {\n",
       "        vertical-align: middle;\n",
       "    }\n",
       "\n",
       "    .dataframe tbody tr th {\n",
       "        vertical-align: top;\n",
       "    }\n",
       "\n",
       "    .dataframe thead th {\n",
       "        text-align: right;\n",
       "    }\n",
       "</style>\n",
       "<table border=\"1\" class=\"dataframe\">\n",
       "  <thead>\n",
       "    <tr style=\"text-align: right;\">\n",
       "      <th></th>\n",
       "      <th>Unnamed: 0.1</th>\n",
       "      <th>Unnamed: 0</th>\n",
       "      <th>text</th>\n",
       "      <th>favorited</th>\n",
       "      <th>favoriteCount</th>\n",
       "      <th>replyToSN</th>\n",
       "      <th>created</th>\n",
       "      <th>truncated</th>\n",
       "      <th>replyToSID</th>\n",
       "      <th>id</th>\n",
       "      <th>...</th>\n",
       "      <th>retweeted</th>\n",
       "      <th>longitude</th>\n",
       "      <th>latitude</th>\n",
       "      <th>text_without_hashtag</th>\n",
       "      <th>expanded_tweet</th>\n",
       "      <th>punctuation_removed</th>\n",
       "      <th>tokenized_tweets</th>\n",
       "      <th>tokenized_stopword_removed_tweets</th>\n",
       "      <th>almost_clean_tweets</th>\n",
       "      <th>lemmatized_tweets</th>\n",
       "    </tr>\n",
       "  </thead>\n",
       "  <tbody>\n",
       "    <tr>\n",
       "      <th>0</th>\n",
       "      <td>0</td>\n",
       "      <td>1</td>\n",
       "      <td>american harem.. #metoo</td>\n",
       "      <td>False</td>\n",
       "      <td>0</td>\n",
       "      <td>NaN</td>\n",
       "      <td>11/29/17 23:59</td>\n",
       "      <td>False</td>\n",
       "      <td>NaN</td>\n",
       "      <td>9.360000e+17</td>\n",
       "      <td>...</td>\n",
       "      <td>False</td>\n",
       "      <td>NaN</td>\n",
       "      <td>NaN</td>\n",
       "      <td>american harem..</td>\n",
       "      <td>american harem..</td>\n",
       "      <td>american harem</td>\n",
       "      <td>['american', 'harem']</td>\n",
       "      <td>['american', 'harem']</td>\n",
       "      <td>american harem</td>\n",
       "      <td>american harem</td>\n",
       "    </tr>\n",
       "    <tr>\n",
       "      <th>1</th>\n",
       "      <td>1</td>\n",
       "      <td>2</td>\n",
       "      <td>why have you guys not resigned yet? liberal hy...</td>\n",
       "      <td>False</td>\n",
       "      <td>0</td>\n",
       "      <td>johnconyersjr</td>\n",
       "      <td>11/29/17 23:59</td>\n",
       "      <td>False</td>\n",
       "      <td>NaN</td>\n",
       "      <td>9.360000e+17</td>\n",
       "      <td>...</td>\n",
       "      <td>False</td>\n",
       "      <td>NaN</td>\n",
       "      <td>NaN</td>\n",
       "      <td>why have you guys not resigned yet? liberal hy...</td>\n",
       "      <td>why have you guys not resigned yet? liberal hy...</td>\n",
       "      <td>why have you guys not resigned yet liberal hyp...</td>\n",
       "      <td>['why', 'have', 'you', 'guys', 'not', 'resigne...</td>\n",
       "      <td>['guys', 'resigned', 'yet', 'liberal', 'hypocr...</td>\n",
       "      <td>guys resigned yet liberal hypocrisy</td>\n",
       "      <td>guy resign yet liberal hypocrisy</td>\n",
       "    </tr>\n",
       "    <tr>\n",
       "      <th>2</th>\n",
       "      <td>2</td>\n",
       "      <td>3</td>\n",
       "      <td>watched megan kelly ask joe keery this a.m. if...</td>\n",
       "      <td>False</td>\n",
       "      <td>0</td>\n",
       "      <td>NaN</td>\n",
       "      <td>11/29/17 23:59</td>\n",
       "      <td>True</td>\n",
       "      <td>NaN</td>\n",
       "      <td>9.360000e+17</td>\n",
       "      <td>...</td>\n",
       "      <td>False</td>\n",
       "      <td>NaN</td>\n",
       "      <td>NaN</td>\n",
       "      <td>watched megan kelly ask joe keery this a.m. if...</td>\n",
       "      <td>watched megan kelly ask joe keery this a.m. if...</td>\n",
       "      <td>watched megan kelly ask joe keery this am if s...</td>\n",
       "      <td>['watched', 'megan', 'kelly', 'ask', 'joe', 'k...</td>\n",
       "      <td>['watched', 'megan', 'kelly', 'ask', 'joe', 'k...</td>\n",
       "      <td>watched megan kelly ask joe keery rub fingers ...</td>\n",
       "      <td>watch megan kelly ask joe keery rub finger hai...</td>\n",
       "    </tr>\n",
       "    <tr>\n",
       "      <th>3</th>\n",
       "      <td>3</td>\n",
       "      <td>4</td>\n",
       "      <td>women have been talking about this crap the en...</td>\n",
       "      <td>False</td>\n",
       "      <td>0</td>\n",
       "      <td>NaN</td>\n",
       "      <td>11/29/17 23:59</td>\n",
       "      <td>False</td>\n",
       "      <td>NaN</td>\n",
       "      <td>9.360000e+17</td>\n",
       "      <td>...</td>\n",
       "      <td>False</td>\n",
       "      <td>NaN</td>\n",
       "      <td>NaN</td>\n",
       "      <td>women have been talking about this crap the en...</td>\n",
       "      <td>women have been talking about this crap the en...</td>\n",
       "      <td>women have been talking about this crap the en...</td>\n",
       "      <td>['women', 'have', 'been', 'talking', 'about', ...</td>\n",
       "      <td>['women', 'talking', 'crap', 'entire', 'time',...</td>\n",
       "      <td>women talking crap entire time finally someone...</td>\n",
       "      <td>woman talk crap entire time finally someone li...</td>\n",
       "    </tr>\n",
       "    <tr>\n",
       "      <th>4</th>\n",
       "      <td>4</td>\n",
       "      <td>5</td>\n",
       "      <td>. please speak to this sexual assault by  duri...</td>\n",
       "      <td>False</td>\n",
       "      <td>15</td>\n",
       "      <td>NaN</td>\n",
       "      <td>11/29/17 23:59</td>\n",
       "      <td>False</td>\n",
       "      <td>NaN</td>\n",
       "      <td>9.360000e+17</td>\n",
       "      <td>...</td>\n",
       "      <td>False</td>\n",
       "      <td>NaN</td>\n",
       "      <td>NaN</td>\n",
       "      <td>. please speak to this sexual assault by  duri...</td>\n",
       "      <td>. please speak to this sexual assault by  duri...</td>\n",
       "      <td>please speak to this sexual assault by  durin...</td>\n",
       "      <td>['please', 'speak', 'to', 'this', 'sexual', 'a...</td>\n",
       "      <td>['please', 'speak', 'sexual', 'assault', 'inte...</td>\n",
       "      <td>please speak sexual assault interview</td>\n",
       "      <td>please speak sexual assault interview</td>\n",
       "    </tr>\n",
       "  </tbody>\n",
       "</table>\n",
       "<p>5 rows × 25 columns</p>\n",
       "</div>"
      ],
      "text/plain": [
       "   Unnamed: 0.1  Unnamed: 0  \\\n",
       "0             0           1   \n",
       "1             1           2   \n",
       "2             2           3   \n",
       "3             3           4   \n",
       "4             4           5   \n",
       "\n",
       "                                                text  favorited  \\\n",
       "0                            american harem.. #metoo      False   \n",
       "1  why have you guys not resigned yet? liberal hy...      False   \n",
       "2  watched megan kelly ask joe keery this a.m. if...      False   \n",
       "3  women have been talking about this crap the en...      False   \n",
       "4  . please speak to this sexual assault by  duri...      False   \n",
       "\n",
       "   favoriteCount      replyToSN         created  truncated  replyToSID  \\\n",
       "0              0            NaN  11/29/17 23:59      False         NaN   \n",
       "1              0  johnconyersjr  11/29/17 23:59      False         NaN   \n",
       "2              0            NaN  11/29/17 23:59       True         NaN   \n",
       "3              0            NaN  11/29/17 23:59      False         NaN   \n",
       "4             15            NaN  11/29/17 23:59      False         NaN   \n",
       "\n",
       "             id  ...  retweeted longitude latitude  \\\n",
       "0  9.360000e+17  ...      False       NaN      NaN   \n",
       "1  9.360000e+17  ...      False       NaN      NaN   \n",
       "2  9.360000e+17  ...      False       NaN      NaN   \n",
       "3  9.360000e+17  ...      False       NaN      NaN   \n",
       "4  9.360000e+17  ...      False       NaN      NaN   \n",
       "\n",
       "                                text_without_hashtag  \\\n",
       "0                                   american harem..   \n",
       "1  why have you guys not resigned yet? liberal hy...   \n",
       "2  watched megan kelly ask joe keery this a.m. if...   \n",
       "3  women have been talking about this crap the en...   \n",
       "4  . please speak to this sexual assault by  duri...   \n",
       "\n",
       "                                      expanded_tweet  \\\n",
       "0                                   american harem..   \n",
       "1  why have you guys not resigned yet? liberal hy...   \n",
       "2  watched megan kelly ask joe keery this a.m. if...   \n",
       "3  women have been talking about this crap the en...   \n",
       "4  . please speak to this sexual assault by  duri...   \n",
       "\n",
       "                                 punctuation_removed  \\\n",
       "0                                     american harem   \n",
       "1  why have you guys not resigned yet liberal hyp...   \n",
       "2  watched megan kelly ask joe keery this am if s...   \n",
       "3  women have been talking about this crap the en...   \n",
       "4   please speak to this sexual assault by  durin...   \n",
       "\n",
       "                                    tokenized_tweets  \\\n",
       "0                              ['american', 'harem']   \n",
       "1  ['why', 'have', 'you', 'guys', 'not', 'resigne...   \n",
       "2  ['watched', 'megan', 'kelly', 'ask', 'joe', 'k...   \n",
       "3  ['women', 'have', 'been', 'talking', 'about', ...   \n",
       "4  ['please', 'speak', 'to', 'this', 'sexual', 'a...   \n",
       "\n",
       "                   tokenized_stopword_removed_tweets  \\\n",
       "0                              ['american', 'harem']   \n",
       "1  ['guys', 'resigned', 'yet', 'liberal', 'hypocr...   \n",
       "2  ['watched', 'megan', 'kelly', 'ask', 'joe', 'k...   \n",
       "3  ['women', 'talking', 'crap', 'entire', 'time',...   \n",
       "4  ['please', 'speak', 'sexual', 'assault', 'inte...   \n",
       "\n",
       "                                 almost_clean_tweets  \\\n",
       "0                                     american harem   \n",
       "1                guys resigned yet liberal hypocrisy   \n",
       "2  watched megan kelly ask joe keery rub fingers ...   \n",
       "3  women talking crap entire time finally someone...   \n",
       "4              please speak sexual assault interview   \n",
       "\n",
       "                                   lemmatized_tweets  \n",
       "0                                     american harem  \n",
       "1                   guy resign yet liberal hypocrisy  \n",
       "2  watch megan kelly ask joe keery rub finger hai...  \n",
       "3  woman talk crap entire time finally someone li...  \n",
       "4              please speak sexual assault interview  \n",
       "\n",
       "[5 rows x 25 columns]"
      ]
     },
     "execution_count": 3,
     "metadata": {},
     "output_type": "execute_result"
    }
   ],
   "source": [
    "df.head(5)"
   ]
  },
  {
   "cell_type": "code",
   "execution_count": 4,
   "metadata": {},
   "outputs": [],
   "source": [
    "#remove all tweets that have 1/2 words\n",
    "#filtered_df = df[df['punctuation_removed'].apply(lambda x: len(x.split()) > 2)]\n",
    "#filtered_df"
   ]
  },
  {
   "cell_type": "markdown",
   "metadata": {},
   "source": [
    "## 2.1 Exploring the tweets with highest ‘favoriteCount’ and ‘retweetCount’."
   ]
  },
  {
   "cell_type": "code",
   "execution_count": 4,
   "metadata": {},
   "outputs": [
    {
     "data": {
      "text/html": [
       "<div>\n",
       "<style scoped>\n",
       "    .dataframe tbody tr th:only-of-type {\n",
       "        vertical-align: middle;\n",
       "    }\n",
       "\n",
       "    .dataframe tbody tr th {\n",
       "        vertical-align: top;\n",
       "    }\n",
       "\n",
       "    .dataframe thead th {\n",
       "        text-align: right;\n",
       "    }\n",
       "</style>\n",
       "<table border=\"1\" class=\"dataframe\">\n",
       "  <thead>\n",
       "    <tr style=\"text-align: right;\">\n",
       "      <th></th>\n",
       "      <th>Unnamed: 0.1</th>\n",
       "      <th>Unnamed: 0</th>\n",
       "      <th>text</th>\n",
       "      <th>favorited</th>\n",
       "      <th>favoriteCount</th>\n",
       "      <th>replyToSN</th>\n",
       "      <th>created</th>\n",
       "      <th>truncated</th>\n",
       "      <th>replyToSID</th>\n",
       "      <th>id</th>\n",
       "      <th>...</th>\n",
       "      <th>retweeted</th>\n",
       "      <th>longitude</th>\n",
       "      <th>latitude</th>\n",
       "      <th>text_without_hashtag</th>\n",
       "      <th>expanded_tweet</th>\n",
       "      <th>punctuation_removed</th>\n",
       "      <th>tokenized_tweets</th>\n",
       "      <th>tokenized_stopword_removed_tweets</th>\n",
       "      <th>almost_clean_tweets</th>\n",
       "      <th>lemmatized_tweets</th>\n",
       "    </tr>\n",
       "  </thead>\n",
       "  <tbody>\n",
       "    <tr>\n",
       "      <th>362725</th>\n",
       "      <td>362725</td>\n",
       "      <td>362726</td>\n",
       "      <td>just reported  for targeted harassment, mainly...</td>\n",
       "      <td>False</td>\n",
       "      <td>45922</td>\n",
       "      <td>NaN</td>\n",
       "      <td>12/22/17 15:00</td>\n",
       "      <td>True</td>\n",
       "      <td>NaN</td>\n",
       "      <td>9.442210e+17</td>\n",
       "      <td>...</td>\n",
       "      <td>False</td>\n",
       "      <td>NaN</td>\n",
       "      <td>NaN</td>\n",
       "      <td>just reported  for targeted harassment, mainly...</td>\n",
       "      <td>just reported  for targeted harassment, mainly...</td>\n",
       "      <td>just reported  for targeted harassment mainly ...</td>\n",
       "      <td>['just', 'reported', 'for', 'targeted', 'haras...</td>\n",
       "      <td>['reported', 'targeted', 'harassment', 'mainly...</td>\n",
       "      <td>reported targeted harassment mainly see twitte...</td>\n",
       "      <td>report target harassment mainly see twitter in...</td>\n",
       "    </tr>\n",
       "    <tr>\n",
       "      <th>81059</th>\n",
       "      <td>81059</td>\n",
       "      <td>81060</td>\n",
       "      <td>at the very same time that we are asking frank...</td>\n",
       "      <td>False</td>\n",
       "      <td>40680</td>\n",
       "      <td>NaN</td>\n",
       "      <td>12/6/17 19:49</td>\n",
       "      <td>True</td>\n",
       "      <td>NaN</td>\n",
       "      <td>9.380000e+17</td>\n",
       "      <td>...</td>\n",
       "      <td>False</td>\n",
       "      <td>NaN</td>\n",
       "      <td>NaN</td>\n",
       "      <td>at the very same time that we are asking frank...</td>\n",
       "      <td>at the very same time that we are asking frank...</td>\n",
       "      <td>at the very same time that we are asking frank...</td>\n",
       "      <td>['at', 'the', 'very', 'same', 'time', 'that', ...</td>\n",
       "      <td>['time', 'asking', 'franken', 'resign', 'senat...</td>\n",
       "      <td>time asking franken resign senate allowing acc...</td>\n",
       "      <td>time ask franken resign senate allow accuse ch...</td>\n",
       "    </tr>\n",
       "    <tr>\n",
       "      <th>49278</th>\n",
       "      <td>49278</td>\n",
       "      <td>49279</td>\n",
       "      <td>i mean, what world are we living in that an ac...</td>\n",
       "      <td>False</td>\n",
       "      <td>32658</td>\n",
       "      <td>NaN</td>\n",
       "      <td>12/5/17 23:19</td>\n",
       "      <td>True</td>\n",
       "      <td>NaN</td>\n",
       "      <td>9.380000e+17</td>\n",
       "      <td>...</td>\n",
       "      <td>False</td>\n",
       "      <td>NaN</td>\n",
       "      <td>NaN</td>\n",
       "      <td>i mean, what world are we living in that an ac...</td>\n",
       "      <td>i mean, what world are we living in that an ac...</td>\n",
       "      <td>i mean what world are we living in that an acc...</td>\n",
       "      <td>['i', 'mean', 'what', 'world', 'are', 'we', 'l...</td>\n",
       "      <td>['mean', 'world', 'living', 'accused', 'sexual...</td>\n",
       "      <td>mean world living accused sexual abuser allowe...</td>\n",
       "      <td>mean world live accuse sexual abuser allow pre...</td>\n",
       "    </tr>\n",
       "    <tr>\n",
       "      <th>198174</th>\n",
       "      <td>198174</td>\n",
       "      <td>198175</td>\n",
       "      <td>ten years ago,  created the #metoo movement to...</td>\n",
       "      <td>False</td>\n",
       "      <td>18926</td>\n",
       "      <td>NaN</td>\n",
       "      <td>12/13/17 21:22</td>\n",
       "      <td>True</td>\n",
       "      <td>NaN</td>\n",
       "      <td>9.410560e+17</td>\n",
       "      <td>...</td>\n",
       "      <td>False</td>\n",
       "      <td>NaN</td>\n",
       "      <td>NaN</td>\n",
       "      <td>ten years ago,  created the  movement to tell ...</td>\n",
       "      <td>ten years ago,  created the  movement to tell ...</td>\n",
       "      <td>ten years ago  created the  movement to tell y...</td>\n",
       "      <td>['ten', 'years', 'ago', 'created', 'the', 'mov...</td>\n",
       "      <td>['ten', 'years', 'ago', 'created', 'movement',...</td>\n",
       "      <td>ten years ago created movement tell young wome...</td>\n",
       "      <td>ten year ago create movement tell young woman ...</td>\n",
       "    </tr>\n",
       "    <tr>\n",
       "      <th>271795</th>\n",
       "      <td>271795</td>\n",
       "      <td>271796</td>\n",
       "      <td>shout out to all the strong and beautiful wome...</td>\n",
       "      <td>False</td>\n",
       "      <td>18508</td>\n",
       "      <td>NaN</td>\n",
       "      <td>12/16/17 13:50</td>\n",
       "      <td>True</td>\n",
       "      <td>NaN</td>\n",
       "      <td>9.420290e+17</td>\n",
       "      <td>...</td>\n",
       "      <td>False</td>\n",
       "      <td>NaN</td>\n",
       "      <td>NaN</td>\n",
       "      <td>shout out to all the strong and beautiful wome...</td>\n",
       "      <td>shout out to all the strong and beautiful wome...</td>\n",
       "      <td>shout out to all the strong and beautiful wome...</td>\n",
       "      <td>['shout', 'out', 'to', 'all', 'the', 'strong',...</td>\n",
       "      <td>['shout', 'strong', 'beautiful', 'women', 'giv...</td>\n",
       "      <td>shout strong beautiful women given world story...</td>\n",
       "      <td>shout strong beautiful woman give world story ...</td>\n",
       "    </tr>\n",
       "  </tbody>\n",
       "</table>\n",
       "<p>5 rows × 25 columns</p>\n",
       "</div>"
      ],
      "text/plain": [
       "        Unnamed: 0.1  Unnamed: 0  \\\n",
       "362725        362725      362726   \n",
       "81059          81059       81060   \n",
       "49278          49278       49279   \n",
       "198174        198174      198175   \n",
       "271795        271795      271796   \n",
       "\n",
       "                                                     text  favorited  \\\n",
       "362725  just reported  for targeted harassment, mainly...      False   \n",
       "81059   at the very same time that we are asking frank...      False   \n",
       "49278   i mean, what world are we living in that an ac...      False   \n",
       "198174  ten years ago,  created the #metoo movement to...      False   \n",
       "271795  shout out to all the strong and beautiful wome...      False   \n",
       "\n",
       "        favoriteCount replyToSN         created  truncated  replyToSID  \\\n",
       "362725          45922       NaN  12/22/17 15:00       True         NaN   \n",
       "81059           40680       NaN   12/6/17 19:49       True         NaN   \n",
       "49278           32658       NaN   12/5/17 23:19       True         NaN   \n",
       "198174          18926       NaN  12/13/17 21:22       True         NaN   \n",
       "271795          18508       NaN  12/16/17 13:50       True         NaN   \n",
       "\n",
       "                  id  ...  retweeted longitude latitude  \\\n",
       "362725  9.442210e+17  ...      False       NaN      NaN   \n",
       "81059   9.380000e+17  ...      False       NaN      NaN   \n",
       "49278   9.380000e+17  ...      False       NaN      NaN   \n",
       "198174  9.410560e+17  ...      False       NaN      NaN   \n",
       "271795  9.420290e+17  ...      False       NaN      NaN   \n",
       "\n",
       "                                     text_without_hashtag  \\\n",
       "362725  just reported  for targeted harassment, mainly...   \n",
       "81059   at the very same time that we are asking frank...   \n",
       "49278   i mean, what world are we living in that an ac...   \n",
       "198174  ten years ago,  created the  movement to tell ...   \n",
       "271795  shout out to all the strong and beautiful wome...   \n",
       "\n",
       "                                           expanded_tweet  \\\n",
       "362725  just reported  for targeted harassment, mainly...   \n",
       "81059   at the very same time that we are asking frank...   \n",
       "49278   i mean, what world are we living in that an ac...   \n",
       "198174  ten years ago,  created the  movement to tell ...   \n",
       "271795  shout out to all the strong and beautiful wome...   \n",
       "\n",
       "                                      punctuation_removed  \\\n",
       "362725  just reported  for targeted harassment mainly ...   \n",
       "81059   at the very same time that we are asking frank...   \n",
       "49278   i mean what world are we living in that an acc...   \n",
       "198174  ten years ago  created the  movement to tell y...   \n",
       "271795  shout out to all the strong and beautiful wome...   \n",
       "\n",
       "                                         tokenized_tweets  \\\n",
       "362725  ['just', 'reported', 'for', 'targeted', 'haras...   \n",
       "81059   ['at', 'the', 'very', 'same', 'time', 'that', ...   \n",
       "49278   ['i', 'mean', 'what', 'world', 'are', 'we', 'l...   \n",
       "198174  ['ten', 'years', 'ago', 'created', 'the', 'mov...   \n",
       "271795  ['shout', 'out', 'to', 'all', 'the', 'strong',...   \n",
       "\n",
       "                        tokenized_stopword_removed_tweets  \\\n",
       "362725  ['reported', 'targeted', 'harassment', 'mainly...   \n",
       "81059   ['time', 'asking', 'franken', 'resign', 'senat...   \n",
       "49278   ['mean', 'world', 'living', 'accused', 'sexual...   \n",
       "198174  ['ten', 'years', 'ago', 'created', 'movement',...   \n",
       "271795  ['shout', 'strong', 'beautiful', 'women', 'giv...   \n",
       "\n",
       "                                      almost_clean_tweets  \\\n",
       "362725  reported targeted harassment mainly see twitte...   \n",
       "81059   time asking franken resign senate allowing acc...   \n",
       "49278   mean world living accused sexual abuser allowe...   \n",
       "198174  ten years ago created movement tell young wome...   \n",
       "271795  shout strong beautiful women given world story...   \n",
       "\n",
       "                                        lemmatized_tweets  \n",
       "362725  report target harassment mainly see twitter in...  \n",
       "81059   time ask franken resign senate allow accuse ch...  \n",
       "49278   mean world live accuse sexual abuser allow pre...  \n",
       "198174  ten year ago create movement tell young woman ...  \n",
       "271795  shout strong beautiful woman give world story ...  \n",
       "\n",
       "[5 rows x 25 columns]"
      ]
     },
     "execution_count": 4,
     "metadata": {},
     "output_type": "execute_result"
    }
   ],
   "source": [
    "sorted_df = df.sort_values(by='favoriteCount', ascending=False)\n",
    "top_tweets = sorted_df.head()\n",
    "top_tweets"
   ]
  },
  {
   "cell_type": "code",
   "execution_count": 5,
   "metadata": {},
   "outputs": [
    {
     "name": "stdout",
     "output_type": "stream",
     "text": [
      "report target harassment mainly see twitter indeed double standard everyone\n"
     ]
    }
   ],
   "source": [
    "top_tweet_text = top_tweets['lemmatized_tweets'].values[0]\n",
    "print(top_tweet_text)"
   ]
  },
  {
   "cell_type": "code",
   "execution_count": 7,
   "metadata": {},
   "outputs": [
    {
     "data": {
      "text/html": [
       "<div>\n",
       "<style scoped>\n",
       "    .dataframe tbody tr th:only-of-type {\n",
       "        vertical-align: middle;\n",
       "    }\n",
       "\n",
       "    .dataframe tbody tr th {\n",
       "        vertical-align: top;\n",
       "    }\n",
       "\n",
       "    .dataframe thead th {\n",
       "        text-align: right;\n",
       "    }\n",
       "</style>\n",
       "<table border=\"1\" class=\"dataframe\">\n",
       "  <thead>\n",
       "    <tr style=\"text-align: right;\">\n",
       "      <th></th>\n",
       "      <th>Unnamed: 0.1</th>\n",
       "      <th>Unnamed: 0</th>\n",
       "      <th>text</th>\n",
       "      <th>favorited</th>\n",
       "      <th>favoriteCount</th>\n",
       "      <th>replyToSN</th>\n",
       "      <th>created</th>\n",
       "      <th>truncated</th>\n",
       "      <th>replyToSID</th>\n",
       "      <th>id</th>\n",
       "      <th>...</th>\n",
       "      <th>retweeted</th>\n",
       "      <th>longitude</th>\n",
       "      <th>latitude</th>\n",
       "      <th>text_without_hashtag</th>\n",
       "      <th>expanded_tweet</th>\n",
       "      <th>punctuation_removed</th>\n",
       "      <th>tokenized_tweets</th>\n",
       "      <th>tokenized_stopword_removed_tweets</th>\n",
       "      <th>almost_clean_tweets</th>\n",
       "      <th>lemmatized_tweets</th>\n",
       "    </tr>\n",
       "  </thead>\n",
       "  <tbody>\n",
       "    <tr>\n",
       "      <th>8159</th>\n",
       "      <td>8159</td>\n",
       "      <td>8160</td>\n",
       "      <td>reminder that if a woman didn't post #metoo, i...</td>\n",
       "      <td>False</td>\n",
       "      <td>0</td>\n",
       "      <td>NaN</td>\n",
       "      <td>12/1/17 17:05</td>\n",
       "      <td>False</td>\n",
       "      <td>NaN</td>\n",
       "      <td>9.370000e+17</td>\n",
       "      <td>...</td>\n",
       "      <td>False</td>\n",
       "      <td>NaN</td>\n",
       "      <td>NaN</td>\n",
       "      <td>reminder that if a woman didn't post , it does...</td>\n",
       "      <td>reminder that if a woman did not post , it doe...</td>\n",
       "      <td>reminder that if a woman did not post  it does...</td>\n",
       "      <td>['reminder', 'that', 'if', 'a', 'woman', 'did'...</td>\n",
       "      <td>['reminder', 'woman', 'post', 'mean', 'sexuall...</td>\n",
       "      <td>reminder woman post mean sexually assaulted ha...</td>\n",
       "      <td>reminder woman post mean sexually assault hara...</td>\n",
       "    </tr>\n",
       "    <tr>\n",
       "      <th>44893</th>\n",
       "      <td>44893</td>\n",
       "      <td>44894</td>\n",
       "      <td>reminder that if a woman didn't post #metoo, i...</td>\n",
       "      <td>False</td>\n",
       "      <td>0</td>\n",
       "      <td>NaN</td>\n",
       "      <td>12/4/17 12:55</td>\n",
       "      <td>False</td>\n",
       "      <td>NaN</td>\n",
       "      <td>9.380000e+17</td>\n",
       "      <td>...</td>\n",
       "      <td>False</td>\n",
       "      <td>NaN</td>\n",
       "      <td>NaN</td>\n",
       "      <td>reminder that if a woman didn't post , it does...</td>\n",
       "      <td>reminder that if a woman did not post , it doe...</td>\n",
       "      <td>reminder that if a woman did not post  it does...</td>\n",
       "      <td>['reminder', 'that', 'if', 'a', 'woman', 'did'...</td>\n",
       "      <td>['reminder', 'woman', 'post', 'mean', 'sexuall...</td>\n",
       "      <td>reminder woman post mean sexually assaulted ha...</td>\n",
       "      <td>reminder woman post mean sexually assault hara...</td>\n",
       "    </tr>\n",
       "    <tr>\n",
       "      <th>24782</th>\n",
       "      <td>24782</td>\n",
       "      <td>24783</td>\n",
       "      <td>reminder that if a woman didn't post #metoo, i...</td>\n",
       "      <td>False</td>\n",
       "      <td>0</td>\n",
       "      <td>NaN</td>\n",
       "      <td>12/3/17 19:09</td>\n",
       "      <td>False</td>\n",
       "      <td>NaN</td>\n",
       "      <td>9.370000e+17</td>\n",
       "      <td>...</td>\n",
       "      <td>False</td>\n",
       "      <td>NaN</td>\n",
       "      <td>NaN</td>\n",
       "      <td>reminder that if a woman didn't post , it does...</td>\n",
       "      <td>reminder that if a woman did not post , it doe...</td>\n",
       "      <td>reminder that if a woman did not post  it does...</td>\n",
       "      <td>['reminder', 'that', 'if', 'a', 'woman', 'did'...</td>\n",
       "      <td>['reminder', 'woman', 'post', 'mean', 'sexuall...</td>\n",
       "      <td>reminder woman post mean sexually assaulted ha...</td>\n",
       "      <td>reminder woman post mean sexually assault hara...</td>\n",
       "    </tr>\n",
       "    <tr>\n",
       "      <th>65378</th>\n",
       "      <td>65378</td>\n",
       "      <td>65379</td>\n",
       "      <td>reminder that if a woman didn't post #metoo, i...</td>\n",
       "      <td>False</td>\n",
       "      <td>0</td>\n",
       "      <td>NaN</td>\n",
       "      <td>12/6/17 22:59</td>\n",
       "      <td>False</td>\n",
       "      <td>NaN</td>\n",
       "      <td>9.390000e+17</td>\n",
       "      <td>...</td>\n",
       "      <td>False</td>\n",
       "      <td>NaN</td>\n",
       "      <td>NaN</td>\n",
       "      <td>reminder that if a woman didn't post , it does...</td>\n",
       "      <td>reminder that if a woman did not post , it doe...</td>\n",
       "      <td>reminder that if a woman did not post  it does...</td>\n",
       "      <td>['reminder', 'that', 'if', 'a', 'woman', 'did'...</td>\n",
       "      <td>['reminder', 'woman', 'post', 'mean', 'sexuall...</td>\n",
       "      <td>reminder woman post mean sexually assaulted ha...</td>\n",
       "      <td>reminder woman post mean sexually assault hara...</td>\n",
       "    </tr>\n",
       "    <tr>\n",
       "      <th>73331</th>\n",
       "      <td>73331</td>\n",
       "      <td>73332</td>\n",
       "      <td>reminder that if a woman didn't post #metoo, i...</td>\n",
       "      <td>False</td>\n",
       "      <td>0</td>\n",
       "      <td>NaN</td>\n",
       "      <td>12/6/17 21:11</td>\n",
       "      <td>False</td>\n",
       "      <td>NaN</td>\n",
       "      <td>9.390000e+17</td>\n",
       "      <td>...</td>\n",
       "      <td>False</td>\n",
       "      <td>NaN</td>\n",
       "      <td>NaN</td>\n",
       "      <td>reminder that if a woman didn't post , it does...</td>\n",
       "      <td>reminder that if a woman did not post , it doe...</td>\n",
       "      <td>reminder that if a woman did not post  it does...</td>\n",
       "      <td>['reminder', 'that', 'if', 'a', 'woman', 'did'...</td>\n",
       "      <td>['reminder', 'woman', 'post', 'mean', 'sexuall...</td>\n",
       "      <td>reminder woman post mean sexually assaulted ha...</td>\n",
       "      <td>reminder woman post mean sexually assault hara...</td>\n",
       "    </tr>\n",
       "  </tbody>\n",
       "</table>\n",
       "<p>5 rows × 25 columns</p>\n",
       "</div>"
      ],
      "text/plain": [
       "       Unnamed: 0.1  Unnamed: 0  \\\n",
       "8159           8159        8160   \n",
       "44893         44893       44894   \n",
       "24782         24782       24783   \n",
       "65378         65378       65379   \n",
       "73331         73331       73332   \n",
       "\n",
       "                                                    text  favorited  \\\n",
       "8159   reminder that if a woman didn't post #metoo, i...      False   \n",
       "44893  reminder that if a woman didn't post #metoo, i...      False   \n",
       "24782  reminder that if a woman didn't post #metoo, i...      False   \n",
       "65378  reminder that if a woman didn't post #metoo, i...      False   \n",
       "73331  reminder that if a woman didn't post #metoo, i...      False   \n",
       "\n",
       "       favoriteCount replyToSN        created  truncated  replyToSID  \\\n",
       "8159               0       NaN  12/1/17 17:05      False         NaN   \n",
       "44893              0       NaN  12/4/17 12:55      False         NaN   \n",
       "24782              0       NaN  12/3/17 19:09      False         NaN   \n",
       "65378              0       NaN  12/6/17 22:59      False         NaN   \n",
       "73331              0       NaN  12/6/17 21:11      False         NaN   \n",
       "\n",
       "                 id  ...  retweeted longitude latitude  \\\n",
       "8159   9.370000e+17  ...      False       NaN      NaN   \n",
       "44893  9.380000e+17  ...      False       NaN      NaN   \n",
       "24782  9.370000e+17  ...      False       NaN      NaN   \n",
       "65378  9.390000e+17  ...      False       NaN      NaN   \n",
       "73331  9.390000e+17  ...      False       NaN      NaN   \n",
       "\n",
       "                                    text_without_hashtag  \\\n",
       "8159   reminder that if a woman didn't post , it does...   \n",
       "44893  reminder that if a woman didn't post , it does...   \n",
       "24782  reminder that if a woman didn't post , it does...   \n",
       "65378  reminder that if a woman didn't post , it does...   \n",
       "73331  reminder that if a woman didn't post , it does...   \n",
       "\n",
       "                                          expanded_tweet  \\\n",
       "8159   reminder that if a woman did not post , it doe...   \n",
       "44893  reminder that if a woman did not post , it doe...   \n",
       "24782  reminder that if a woman did not post , it doe...   \n",
       "65378  reminder that if a woman did not post , it doe...   \n",
       "73331  reminder that if a woman did not post , it doe...   \n",
       "\n",
       "                                     punctuation_removed  \\\n",
       "8159   reminder that if a woman did not post  it does...   \n",
       "44893  reminder that if a woman did not post  it does...   \n",
       "24782  reminder that if a woman did not post  it does...   \n",
       "65378  reminder that if a woman did not post  it does...   \n",
       "73331  reminder that if a woman did not post  it does...   \n",
       "\n",
       "                                        tokenized_tweets  \\\n",
       "8159   ['reminder', 'that', 'if', 'a', 'woman', 'did'...   \n",
       "44893  ['reminder', 'that', 'if', 'a', 'woman', 'did'...   \n",
       "24782  ['reminder', 'that', 'if', 'a', 'woman', 'did'...   \n",
       "65378  ['reminder', 'that', 'if', 'a', 'woman', 'did'...   \n",
       "73331  ['reminder', 'that', 'if', 'a', 'woman', 'did'...   \n",
       "\n",
       "                       tokenized_stopword_removed_tweets  \\\n",
       "8159   ['reminder', 'woman', 'post', 'mean', 'sexuall...   \n",
       "44893  ['reminder', 'woman', 'post', 'mean', 'sexuall...   \n",
       "24782  ['reminder', 'woman', 'post', 'mean', 'sexuall...   \n",
       "65378  ['reminder', 'woman', 'post', 'mean', 'sexuall...   \n",
       "73331  ['reminder', 'woman', 'post', 'mean', 'sexuall...   \n",
       "\n",
       "                                     almost_clean_tweets  \\\n",
       "8159   reminder woman post mean sexually assaulted ha...   \n",
       "44893  reminder woman post mean sexually assaulted ha...   \n",
       "24782  reminder woman post mean sexually assaulted ha...   \n",
       "65378  reminder woman post mean sexually assaulted ha...   \n",
       "73331  reminder woman post mean sexually assaulted ha...   \n",
       "\n",
       "                                       lemmatized_tweets  \n",
       "8159   reminder woman post mean sexually assault hara...  \n",
       "44893  reminder woman post mean sexually assault hara...  \n",
       "24782  reminder woman post mean sexually assault hara...  \n",
       "65378  reminder woman post mean sexually assault hara...  \n",
       "73331  reminder woman post mean sexually assault hara...  \n",
       "\n",
       "[5 rows x 25 columns]"
      ]
     },
     "execution_count": 7,
     "metadata": {},
     "output_type": "execute_result"
    }
   ],
   "source": [
    "sorted_df_retweet = df.sort_values(by='retweetCount', ascending=False)\n",
    "top_tweets_retweet = sorted_df_retweet.head()\n",
    "top_tweets_retweet"
   ]
  },
  {
   "cell_type": "code",
   "execution_count": 8,
   "metadata": {},
   "outputs": [
    {
     "name": "stdout",
     "output_type": "stream",
     "text": [
      "reminder woman post mean sexually assault harass survivor owe\n"
     ]
    }
   ],
   "source": [
    "top_tweet_rt = top_tweets_retweet['lemmatized_tweets'].values[0]\n",
    "print(top_tweet_rt)"
   ]
  },
  {
   "cell_type": "code",
   "execution_count": 9,
   "metadata": {},
   "outputs": [
    {
     "name": "stdout",
     "output_type": "stream",
     "text": [
      "report target harassment mainly see twitter indeed double standard everyone\n",
      "just reported  for targeted harassment, mainly to see if twitter does indeed have a double standard. everyone\n"
     ]
    }
   ],
   "source": [
    "max_favourite_row = df[df['favoriteCount'] == df['favoriteCount'].max()]\n",
    "print(max_favourite_row['lemmatized_tweets'].values[0])\n",
    "print(max_favourite_row['text'].values[0])"
   ]
  },
  {
   "cell_type": "code",
   "execution_count": 10,
   "metadata": {},
   "outputs": [
    {
     "name": "stdout",
     "output_type": "stream",
     "text": [
      "reminder woman post mean sexually assault harass survivor owe\n",
      "reminder that if a woman didn't post #metoo, it doesn't mean she wasn't sexually assaulted or harassed. survivors don't owe y\n"
     ]
    }
   ],
   "source": [
    "max_retweets_row = df[df['retweetCount'] == df['retweetCount'].max()]\n",
    "print(max_retweets_row['lemmatized_tweets'].values[0])\n",
    "print(max_retweets_row['text'].values[0])"
   ]
  },
  {
   "cell_type": "code",
   "execution_count": 11,
   "metadata": {},
   "outputs": [
    {
     "name": "stdout",
     "output_type": "stream",
     "text": [
      "The tweet with the highest favorite count:\n",
      "just reported  for targeted harassment, mainly to see if twitter does indeed have a double standard. everyone\n",
      "The tweet with the highest retweet count:\n",
      "reminder that if a woman didn't post #metoo, it doesn't mean she wasn't sexually assaulted or harassed. survivors don't owe y\n"
     ]
    }
   ],
   "source": [
    "max_favorite_row = df[df['favoriteCount'] == df['favoriteCount'].max()]\n",
    "max_retweets_row = df[df['retweetCount'] == df['retweetCount'].max()]\n",
    "common_rows = max_favorite_row.merge(max_retweets_row)\n",
    "\n",
    "if not common_rows.empty:\n",
    "    tweet_text = common_rows['text'].values[0]\n",
    "    print(f\"The tweet with the highest favorite and retweet counts:\\n{tweet_text}\")\n",
    "else:\n",
    "    max_favorite_tweet = max_favorite_row['text'].values[0]\n",
    "    max_retweets_tweet = max_retweets_row['text'].values[0]\n",
    "\n",
    "    print(\"The tweet with the highest favorite count:\")\n",
    "    print(max_favorite_tweet)\n",
    "\n",
    "    print(\"The tweet with the highest retweet count:\")\n",
    "    print(max_retweets_tweet)\n"
   ]
  },
  {
   "cell_type": "markdown",
   "metadata": {},
   "source": [
    "## 2.2 Finding out if there are any tweets having high ‘favoriteCount’ count and high ‘retweetCount’."
   ]
  },
  {
   "cell_type": "code",
   "execution_count": 12,
   "metadata": {},
   "outputs": [
    {
     "name": "stdout",
     "output_type": "stream",
     "text": [
      "The tweet with the highest favorite and retweet counts:\n",
      "Tweet: just reported  for targeted harassment, mainly to see if twitter does indeed have a double standard. everyone\n",
      "Favorite Count: 45922\n",
      "Retweet Count: 13598\n"
     ]
    }
   ],
   "source": [
    "df['combinedCount'] = df['favoriteCount'] + df['retweetCount']\n",
    "max_combined_row = df[df['combinedCount'] == df['combinedCount'].max()]\n",
    "tweet_text = max_combined_row['text'].values[0]\n",
    "favorite_count = max_combined_row['favoriteCount'].values[0]\n",
    "retweet_count = max_combined_row['retweetCount'].values[0]\n",
    "\n",
    "print(f\"The tweet with the highest favorite and retweet counts:\")\n",
    "print(f\"Tweet: {tweet_text}\")\n",
    "print(f\"Favorite Count: {favorite_count}\")\n",
    "print(f\"Retweet Count: {retweet_count}\")\n",
    "\n",
    "df.drop('combinedCount', axis=1, inplace=True)\n"
   ]
  },
  {
   "cell_type": "markdown",
   "metadata": {},
   "source": [
    "## 2.3 Analyzing the content of popular tweets like keywords and topics."
   ]
  },
  {
   "cell_type": "code",
   "execution_count": 13,
   "metadata": {},
   "outputs": [
    {
     "name": "stdout",
     "output_type": "stream",
     "text": [
      "Keyword: woman, Frequency: 72939\n",
      "Keyword: movement, Frequency: 69507\n",
      "Keyword: sexual, Frequency: 46810\n",
      "Keyword: year, Frequency: 29147\n",
      "Keyword: trump, Frequency: 25696\n",
      "Keyword: assault, Frequency: 23499\n",
      "Keyword: story, Frequency: 23132\n",
      "Keyword: say, Frequency: 22310\n",
      "Keyword: man, Frequency: 21987\n",
      "Keyword: time, Frequency: 21741\n"
     ]
    }
   ],
   "source": [
    "import pandas as pd\n",
    "from collections import Counter\n",
    "import re\n",
    "\n",
    "def extract_keywords(text):\n",
    "    if isinstance(text, str):\n",
    "        words = re.findall(r'\\w+', text.lower())\n",
    "        return words\n",
    "    else:\n",
    "        return []\n",
    "\n",
    "all_keywords = df['lemmatized_tweets'].apply(extract_keywords).sum()\n",
    "keyword_counts = Counter(all_keywords)\n",
    "most_common_keywords = keyword_counts.most_common(10)\n",
    "for keyword, count in most_common_keywords:\n",
    "    print(f\"Keyword: {keyword}, Frequency: {count}\")\n"
   ]
  },
  {
   "cell_type": "markdown",
   "metadata": {},
   "source": [
    "# 2.4 Investigating the timing of popular tweets."
   ]
  },
  {
   "cell_type": "code",
   "execution_count": 9,
   "metadata": {},
   "outputs": [
    {
     "data": {
      "application/vnd.plotly.v1+json": {
       "config": {
        "plotlyServerURL": "https://plot.ly"
       },
       "data": [
        {
         "hovertemplate": "Date and Time=%{x}<br>Favorite Count=%{y}<extra></extra>",
         "legendgroup": "",
         "marker": {
          "color": "#FF6B6B",
          "symbol": "circle"
         },
         "mode": "markers",
         "name": "",
         "orientation": "v",
         "showlegend": false,
         "type": "scatter",
         "x": [
          "2017-12-22T15:00:00",
          "2017-12-06T19:49:00",
          "2017-12-05T23:19:00",
          "2017-12-13T21:22:00",
          "2017-12-16T13:50:00",
          "2017-12-16T13:52:00",
          "2017-12-03T04:16:00",
          "2017-12-03T05:46:00",
          "2017-12-11T18:36:00",
          "2017-12-12T18:14:00",
          "2017-12-13T17:22:00",
          "2017-12-06T23:53:00",
          "2017-12-13T23:01:00",
          "2017-12-07T17:14:00",
          "2017-12-22T21:37:00",
          "2017-12-22T03:35:00",
          "2017-12-11T17:46:00",
          "2017-12-12T19:18:00",
          "2017-12-10T21:51:00",
          "2017-12-19T00:07:00",
          "2017-12-12T18:25:00",
          "2017-12-14T19:21:00",
          "2017-12-11T23:31:00",
          "2017-12-18T22:53:00",
          "2017-12-11T20:45:00",
          "2017-12-10T14:32:00",
          "2017-12-13T13:44:00",
          "2017-12-10T00:23:00",
          "2017-12-06T23:58:00",
          "2017-12-21T17:55:00",
          "2017-12-16T21:51:00",
          "2017-12-17T01:13:00",
          "2017-12-06T23:22:00",
          "2017-12-13T14:02:00",
          "2017-12-20T04:04:00",
          "2017-12-04T15:13:00",
          "2017-12-14T16:52:00",
          "2017-12-21T23:09:00",
          "2017-12-11T16:25:00",
          "2017-12-25T04:14:00",
          "2017-12-12T19:03:00",
          "2017-12-11T19:43:00",
          "2017-12-11T23:51:00",
          "2017-12-04T03:25:00",
          "2017-12-11T20:01:00",
          "2017-12-23T00:58:00",
          "2017-12-07T19:05:00",
          "2017-12-24T16:46:00",
          "2017-12-03T23:24:00",
          "2017-12-18T23:44:00",
          "2017-12-11T21:28:00",
          "2017-12-08T15:50:00",
          "2017-12-24T15:40:00",
          "2017-12-20T21:49:00",
          "2017-12-15T01:17:00",
          "2017-12-16T22:11:00",
          "2017-12-06T23:48:00",
          "2017-12-16T18:41:00",
          "2017-12-19T16:47:00",
          "2017-12-22T03:34:00",
          "2017-12-01T03:44:00",
          "2017-12-23T15:56:00",
          "2017-12-12T20:26:00",
          "2017-12-04T13:15:00",
          "2017-12-08T19:31:00",
          "2017-12-23T14:59:00",
          "2017-12-09T15:33:00",
          "2017-12-06T23:18:00",
          "2017-12-20T14:57:00",
          "2017-12-23T02:00:00",
          "2017-12-09T18:20:00",
          "2017-12-07T17:50:00",
          "2017-12-14T11:53:00",
          "2017-12-20T23:46:00",
          "2017-12-09T18:28:00",
          "2017-12-20T14:49:00",
          "2017-12-12T19:30:00",
          "2017-12-23T14:51:00",
          "2017-12-15T12:43:00",
          "2017-12-12T20:58:00",
          "2017-12-19T11:35:00",
          "2017-12-04T13:07:00",
          "2017-12-24T08:49:00",
          "2017-12-04T15:44:00",
          "2017-12-12T15:17:00",
          "2017-12-15T18:02:00",
          "2017-12-09T06:45:00",
          "2017-11-29T14:45:00",
          "2017-12-11T21:11:00",
          "2017-12-21T02:46:00",
          "2017-12-25T13:49:00",
          "2017-12-04T12:52:00",
          "2017-12-14T17:19:00",
          "2017-12-21T20:48:00",
          "2017-12-04T15:21:00",
          "2017-12-13T11:42:00",
          "2017-12-12T18:10:00",
          "2017-11-29T22:23:00",
          "2017-12-24T06:39:00",
          "2017-12-23T13:50:00"
         ],
         "xaxis": "x",
         "y": [
          45922,
          40680,
          32658,
          18926,
          18508,
          16378,
          14762,
          11441,
          11037,
          10609,
          10500,
          9380,
          9203,
          9074,
          8746,
          8723,
          7870,
          6486,
          6435,
          6052,
          5822,
          5714,
          5630,
          5622,
          5255,
          4897,
          4894,
          4759,
          4590,
          4473,
          4160,
          4001,
          3934,
          3698,
          3651,
          3565,
          3562,
          3502,
          3271,
          3223,
          3152,
          2938,
          2892,
          2869,
          2848,
          2819,
          2767,
          2716,
          2693,
          2688,
          2683,
          2516,
          2473,
          2467,
          2464,
          2396,
          2379,
          2374,
          2361,
          2319,
          2294,
          2230,
          2203,
          2190,
          2190,
          2116,
          2108,
          2006,
          1908,
          1895,
          1872,
          1825,
          1822,
          1819,
          1794,
          1791,
          1787,
          1777,
          1769,
          1744,
          1738,
          1733,
          1698,
          1692,
          1691,
          1681,
          1647,
          1625,
          1618,
          1609,
          1609,
          1595,
          1591,
          1584,
          1545,
          1510,
          1496,
          1493,
          1492,
          1456
         ],
         "yaxis": "y"
        }
       ],
       "layout": {
        "legend": {
         "tracegroupgap": 0
        },
        "template": {
         "data": {
          "bar": [
           {
            "error_x": {
             "color": "#2a3f5f"
            },
            "error_y": {
             "color": "#2a3f5f"
            },
            "marker": {
             "line": {
              "color": "#E5ECF6",
              "width": 0.5
             },
             "pattern": {
              "fillmode": "overlay",
              "size": 10,
              "solidity": 0.2
             }
            },
            "type": "bar"
           }
          ],
          "barpolar": [
           {
            "marker": {
             "line": {
              "color": "#E5ECF6",
              "width": 0.5
             },
             "pattern": {
              "fillmode": "overlay",
              "size": 10,
              "solidity": 0.2
             }
            },
            "type": "barpolar"
           }
          ],
          "carpet": [
           {
            "aaxis": {
             "endlinecolor": "#2a3f5f",
             "gridcolor": "white",
             "linecolor": "white",
             "minorgridcolor": "white",
             "startlinecolor": "#2a3f5f"
            },
            "baxis": {
             "endlinecolor": "#2a3f5f",
             "gridcolor": "white",
             "linecolor": "white",
             "minorgridcolor": "white",
             "startlinecolor": "#2a3f5f"
            },
            "type": "carpet"
           }
          ],
          "choropleth": [
           {
            "colorbar": {
             "outlinewidth": 0,
             "ticks": ""
            },
            "type": "choropleth"
           }
          ],
          "contour": [
           {
            "colorbar": {
             "outlinewidth": 0,
             "ticks": ""
            },
            "colorscale": [
             [
              0,
              "#0d0887"
             ],
             [
              0.1111111111111111,
              "#46039f"
             ],
             [
              0.2222222222222222,
              "#7201a8"
             ],
             [
              0.3333333333333333,
              "#9c179e"
             ],
             [
              0.4444444444444444,
              "#bd3786"
             ],
             [
              0.5555555555555556,
              "#d8576b"
             ],
             [
              0.6666666666666666,
              "#ed7953"
             ],
             [
              0.7777777777777778,
              "#fb9f3a"
             ],
             [
              0.8888888888888888,
              "#fdca26"
             ],
             [
              1,
              "#f0f921"
             ]
            ],
            "type": "contour"
           }
          ],
          "contourcarpet": [
           {
            "colorbar": {
             "outlinewidth": 0,
             "ticks": ""
            },
            "type": "contourcarpet"
           }
          ],
          "heatmap": [
           {
            "colorbar": {
             "outlinewidth": 0,
             "ticks": ""
            },
            "colorscale": [
             [
              0,
              "#0d0887"
             ],
             [
              0.1111111111111111,
              "#46039f"
             ],
             [
              0.2222222222222222,
              "#7201a8"
             ],
             [
              0.3333333333333333,
              "#9c179e"
             ],
             [
              0.4444444444444444,
              "#bd3786"
             ],
             [
              0.5555555555555556,
              "#d8576b"
             ],
             [
              0.6666666666666666,
              "#ed7953"
             ],
             [
              0.7777777777777778,
              "#fb9f3a"
             ],
             [
              0.8888888888888888,
              "#fdca26"
             ],
             [
              1,
              "#f0f921"
             ]
            ],
            "type": "heatmap"
           }
          ],
          "heatmapgl": [
           {
            "colorbar": {
             "outlinewidth": 0,
             "ticks": ""
            },
            "colorscale": [
             [
              0,
              "#0d0887"
             ],
             [
              0.1111111111111111,
              "#46039f"
             ],
             [
              0.2222222222222222,
              "#7201a8"
             ],
             [
              0.3333333333333333,
              "#9c179e"
             ],
             [
              0.4444444444444444,
              "#bd3786"
             ],
             [
              0.5555555555555556,
              "#d8576b"
             ],
             [
              0.6666666666666666,
              "#ed7953"
             ],
             [
              0.7777777777777778,
              "#fb9f3a"
             ],
             [
              0.8888888888888888,
              "#fdca26"
             ],
             [
              1,
              "#f0f921"
             ]
            ],
            "type": "heatmapgl"
           }
          ],
          "histogram": [
           {
            "marker": {
             "pattern": {
              "fillmode": "overlay",
              "size": 10,
              "solidity": 0.2
             }
            },
            "type": "histogram"
           }
          ],
          "histogram2d": [
           {
            "colorbar": {
             "outlinewidth": 0,
             "ticks": ""
            },
            "colorscale": [
             [
              0,
              "#0d0887"
             ],
             [
              0.1111111111111111,
              "#46039f"
             ],
             [
              0.2222222222222222,
              "#7201a8"
             ],
             [
              0.3333333333333333,
              "#9c179e"
             ],
             [
              0.4444444444444444,
              "#bd3786"
             ],
             [
              0.5555555555555556,
              "#d8576b"
             ],
             [
              0.6666666666666666,
              "#ed7953"
             ],
             [
              0.7777777777777778,
              "#fb9f3a"
             ],
             [
              0.8888888888888888,
              "#fdca26"
             ],
             [
              1,
              "#f0f921"
             ]
            ],
            "type": "histogram2d"
           }
          ],
          "histogram2dcontour": [
           {
            "colorbar": {
             "outlinewidth": 0,
             "ticks": ""
            },
            "colorscale": [
             [
              0,
              "#0d0887"
             ],
             [
              0.1111111111111111,
              "#46039f"
             ],
             [
              0.2222222222222222,
              "#7201a8"
             ],
             [
              0.3333333333333333,
              "#9c179e"
             ],
             [
              0.4444444444444444,
              "#bd3786"
             ],
             [
              0.5555555555555556,
              "#d8576b"
             ],
             [
              0.6666666666666666,
              "#ed7953"
             ],
             [
              0.7777777777777778,
              "#fb9f3a"
             ],
             [
              0.8888888888888888,
              "#fdca26"
             ],
             [
              1,
              "#f0f921"
             ]
            ],
            "type": "histogram2dcontour"
           }
          ],
          "mesh3d": [
           {
            "colorbar": {
             "outlinewidth": 0,
             "ticks": ""
            },
            "type": "mesh3d"
           }
          ],
          "parcoords": [
           {
            "line": {
             "colorbar": {
              "outlinewidth": 0,
              "ticks": ""
             }
            },
            "type": "parcoords"
           }
          ],
          "pie": [
           {
            "automargin": true,
            "type": "pie"
           }
          ],
          "scatter": [
           {
            "fillpattern": {
             "fillmode": "overlay",
             "size": 10,
             "solidity": 0.2
            },
            "type": "scatter"
           }
          ],
          "scatter3d": [
           {
            "line": {
             "colorbar": {
              "outlinewidth": 0,
              "ticks": ""
             }
            },
            "marker": {
             "colorbar": {
              "outlinewidth": 0,
              "ticks": ""
             }
            },
            "type": "scatter3d"
           }
          ],
          "scattercarpet": [
           {
            "marker": {
             "colorbar": {
              "outlinewidth": 0,
              "ticks": ""
             }
            },
            "type": "scattercarpet"
           }
          ],
          "scattergeo": [
           {
            "marker": {
             "colorbar": {
              "outlinewidth": 0,
              "ticks": ""
             }
            },
            "type": "scattergeo"
           }
          ],
          "scattergl": [
           {
            "marker": {
             "colorbar": {
              "outlinewidth": 0,
              "ticks": ""
             }
            },
            "type": "scattergl"
           }
          ],
          "scattermapbox": [
           {
            "marker": {
             "colorbar": {
              "outlinewidth": 0,
              "ticks": ""
             }
            },
            "type": "scattermapbox"
           }
          ],
          "scatterpolar": [
           {
            "marker": {
             "colorbar": {
              "outlinewidth": 0,
              "ticks": ""
             }
            },
            "type": "scatterpolar"
           }
          ],
          "scatterpolargl": [
           {
            "marker": {
             "colorbar": {
              "outlinewidth": 0,
              "ticks": ""
             }
            },
            "type": "scatterpolargl"
           }
          ],
          "scatterternary": [
           {
            "marker": {
             "colorbar": {
              "outlinewidth": 0,
              "ticks": ""
             }
            },
            "type": "scatterternary"
           }
          ],
          "surface": [
           {
            "colorbar": {
             "outlinewidth": 0,
             "ticks": ""
            },
            "colorscale": [
             [
              0,
              "#0d0887"
             ],
             [
              0.1111111111111111,
              "#46039f"
             ],
             [
              0.2222222222222222,
              "#7201a8"
             ],
             [
              0.3333333333333333,
              "#9c179e"
             ],
             [
              0.4444444444444444,
              "#bd3786"
             ],
             [
              0.5555555555555556,
              "#d8576b"
             ],
             [
              0.6666666666666666,
              "#ed7953"
             ],
             [
              0.7777777777777778,
              "#fb9f3a"
             ],
             [
              0.8888888888888888,
              "#fdca26"
             ],
             [
              1,
              "#f0f921"
             ]
            ],
            "type": "surface"
           }
          ],
          "table": [
           {
            "cells": {
             "fill": {
              "color": "#EBF0F8"
             },
             "line": {
              "color": "white"
             }
            },
            "header": {
             "fill": {
              "color": "#C8D4E3"
             },
             "line": {
              "color": "white"
             }
            },
            "type": "table"
           }
          ]
         },
         "layout": {
          "annotationdefaults": {
           "arrowcolor": "#2a3f5f",
           "arrowhead": 0,
           "arrowwidth": 1
          },
          "autotypenumbers": "strict",
          "coloraxis": {
           "colorbar": {
            "outlinewidth": 0,
            "ticks": ""
           }
          },
          "colorscale": {
           "diverging": [
            [
             0,
             "#8e0152"
            ],
            [
             0.1,
             "#c51b7d"
            ],
            [
             0.2,
             "#de77ae"
            ],
            [
             0.3,
             "#f1b6da"
            ],
            [
             0.4,
             "#fde0ef"
            ],
            [
             0.5,
             "#f7f7f7"
            ],
            [
             0.6,
             "#e6f5d0"
            ],
            [
             0.7,
             "#b8e186"
            ],
            [
             0.8,
             "#7fbc41"
            ],
            [
             0.9,
             "#4d9221"
            ],
            [
             1,
             "#276419"
            ]
           ],
           "sequential": [
            [
             0,
             "#0d0887"
            ],
            [
             0.1111111111111111,
             "#46039f"
            ],
            [
             0.2222222222222222,
             "#7201a8"
            ],
            [
             0.3333333333333333,
             "#9c179e"
            ],
            [
             0.4444444444444444,
             "#bd3786"
            ],
            [
             0.5555555555555556,
             "#d8576b"
            ],
            [
             0.6666666666666666,
             "#ed7953"
            ],
            [
             0.7777777777777778,
             "#fb9f3a"
            ],
            [
             0.8888888888888888,
             "#fdca26"
            ],
            [
             1,
             "#f0f921"
            ]
           ],
           "sequentialminus": [
            [
             0,
             "#0d0887"
            ],
            [
             0.1111111111111111,
             "#46039f"
            ],
            [
             0.2222222222222222,
             "#7201a8"
            ],
            [
             0.3333333333333333,
             "#9c179e"
            ],
            [
             0.4444444444444444,
             "#bd3786"
            ],
            [
             0.5555555555555556,
             "#d8576b"
            ],
            [
             0.6666666666666666,
             "#ed7953"
            ],
            [
             0.7777777777777778,
             "#fb9f3a"
            ],
            [
             0.8888888888888888,
             "#fdca26"
            ],
            [
             1,
             "#f0f921"
            ]
           ]
          },
          "colorway": [
           "#636efa",
           "#EF553B",
           "#00cc96",
           "#ab63fa",
           "#FFA15A",
           "#19d3f3",
           "#FF6692",
           "#B6E880",
           "#FF97FF",
           "#FECB52"
          ],
          "font": {
           "color": "#2a3f5f"
          },
          "geo": {
           "bgcolor": "white",
           "lakecolor": "white",
           "landcolor": "#E5ECF6",
           "showlakes": true,
           "showland": true,
           "subunitcolor": "white"
          },
          "hoverlabel": {
           "align": "left"
          },
          "hovermode": "closest",
          "mapbox": {
           "style": "light"
          },
          "paper_bgcolor": "white",
          "plot_bgcolor": "#E5ECF6",
          "polar": {
           "angularaxis": {
            "gridcolor": "white",
            "linecolor": "white",
            "ticks": ""
           },
           "bgcolor": "#E5ECF6",
           "radialaxis": {
            "gridcolor": "white",
            "linecolor": "white",
            "ticks": ""
           }
          },
          "scene": {
           "xaxis": {
            "backgroundcolor": "#E5ECF6",
            "gridcolor": "white",
            "gridwidth": 2,
            "linecolor": "white",
            "showbackground": true,
            "ticks": "",
            "zerolinecolor": "white"
           },
           "yaxis": {
            "backgroundcolor": "#E5ECF6",
            "gridcolor": "white",
            "gridwidth": 2,
            "linecolor": "white",
            "showbackground": true,
            "ticks": "",
            "zerolinecolor": "white"
           },
           "zaxis": {
            "backgroundcolor": "#E5ECF6",
            "gridcolor": "white",
            "gridwidth": 2,
            "linecolor": "white",
            "showbackground": true,
            "ticks": "",
            "zerolinecolor": "white"
           }
          },
          "shapedefaults": {
           "line": {
            "color": "#2a3f5f"
           }
          },
          "ternary": {
           "aaxis": {
            "gridcolor": "white",
            "linecolor": "white",
            "ticks": ""
           },
           "baxis": {
            "gridcolor": "white",
            "linecolor": "white",
            "ticks": ""
           },
           "bgcolor": "#E5ECF6",
           "caxis": {
            "gridcolor": "white",
            "linecolor": "white",
            "ticks": ""
           }
          },
          "title": {
           "x": 0.05
          },
          "xaxis": {
           "automargin": true,
           "gridcolor": "white",
           "linecolor": "white",
           "ticks": "",
           "title": {
            "standoff": 15
           },
           "zerolinecolor": "white",
           "zerolinewidth": 2
          },
          "yaxis": {
           "automargin": true,
           "gridcolor": "white",
           "linecolor": "white",
           "ticks": "",
           "title": {
            "standoff": 15
           },
           "zerolinecolor": "white",
           "zerolinewidth": 2
          }
         }
        },
        "title": {
         "text": "Timeline of the 100 Most Favorited Tweets"
        },
        "xaxis": {
         "anchor": "y",
         "domain": [
          0,
          1
         ],
         "title": {
          "text": "Date and Time"
         }
        },
        "yaxis": {
         "anchor": "x",
         "domain": [
          0,
          1
         ],
         "title": {
          "text": "Favorite Count"
         }
        }
       }
      }
     },
     "metadata": {},
     "output_type": "display_data"
    }
   ],
   "source": [
    "df_sorted = df.sort_values(by='favoriteCount', ascending=False)\n",
    "top_100_favorited = df_sorted.head(100)\n",
    "top_100_favorited['created'] = pd.to_datetime(top_100_favorited['created'])\n",
    "red_color = \"#FF6B6B\"  # Muted red\n",
    "\n",
    "fig = px.scatter(\n",
    "    top_100_favorited,\n",
    "    x='created',\n",
    "    y='favoriteCount',\n",
    "    title='Timeline of the 100 Most Favorited Tweets',\n",
    "    labels={'created': 'Date and Time', 'favoriteCount': 'Favorite Count'},\n",
    "    color_discrete_sequence=[red_color])\n",
    "\n",
    "fig.update_xaxes(title_text='Date and Time')\n",
    "fig.update_yaxes(title_text='Favorite Count')\n",
    "fig.show()"
   ]
  },
  {
   "cell_type": "code",
   "execution_count": 10,
   "metadata": {},
   "outputs": [
    {
     "data": {
      "application/vnd.plotly.v1+json": {
       "config": {
        "plotlyServerURL": "https://plot.ly"
       },
       "data": [
        {
         "hovertemplate": "Date and Time=%{x}<br>Retweet Count=%{y}<extra></extra>",
         "legendgroup": "",
         "marker": {
          "color": "#FF95A3",
          "symbol": "circle"
         },
         "mode": "markers",
         "name": "",
         "orientation": "v",
         "showlegend": false,
         "type": "scatter",
         "x": [
          "2017-12-22T15:00:00",
          "2017-12-06T19:49:00",
          "2017-12-05T23:19:00",
          "2017-12-13T21:22:00",
          "2017-12-16T13:50:00",
          "2017-12-16T13:52:00",
          "2017-12-03T04:16:00",
          "2017-12-03T05:46:00",
          "2017-12-11T18:36:00",
          "2017-12-12T18:14:00",
          "2017-12-13T17:22:00",
          "2017-12-06T23:53:00",
          "2017-12-13T23:01:00",
          "2017-12-07T17:14:00",
          "2017-12-22T21:37:00",
          "2017-12-22T03:35:00",
          "2017-12-11T17:46:00",
          "2017-12-12T19:18:00",
          "2017-12-10T21:51:00",
          "2017-12-19T00:07:00",
          "2017-12-12T18:25:00",
          "2017-12-14T19:21:00",
          "2017-12-11T23:31:00",
          "2017-12-18T22:53:00",
          "2017-12-11T20:45:00",
          "2017-12-10T14:32:00",
          "2017-12-13T13:44:00",
          "2017-12-10T00:23:00",
          "2017-12-06T23:58:00",
          "2017-12-21T17:55:00",
          "2017-12-16T21:51:00",
          "2017-12-17T01:13:00",
          "2017-12-06T23:22:00",
          "2017-12-13T14:02:00",
          "2017-12-20T04:04:00",
          "2017-12-04T15:13:00",
          "2017-12-14T16:52:00",
          "2017-12-21T23:09:00",
          "2017-12-11T16:25:00",
          "2017-12-25T04:14:00",
          "2017-12-12T19:03:00",
          "2017-12-11T19:43:00",
          "2017-12-11T23:51:00",
          "2017-12-04T03:25:00",
          "2017-12-11T20:01:00",
          "2017-12-23T00:58:00",
          "2017-12-07T19:05:00",
          "2017-12-24T16:46:00",
          "2017-12-03T23:24:00",
          "2017-12-18T23:44:00",
          "2017-12-11T21:28:00",
          "2017-12-08T15:50:00",
          "2017-12-24T15:40:00",
          "2017-12-20T21:49:00",
          "2017-12-15T01:17:00",
          "2017-12-16T22:11:00",
          "2017-12-06T23:48:00",
          "2017-12-16T18:41:00",
          "2017-12-19T16:47:00",
          "2017-12-22T03:34:00",
          "2017-12-01T03:44:00",
          "2017-12-23T15:56:00",
          "2017-12-12T20:26:00",
          "2017-12-04T13:15:00",
          "2017-12-08T19:31:00",
          "2017-12-23T14:59:00",
          "2017-12-09T15:33:00",
          "2017-12-06T23:18:00",
          "2017-12-20T14:57:00",
          "2017-12-23T02:00:00",
          "2017-12-09T18:20:00",
          "2017-12-07T17:50:00",
          "2017-12-14T11:53:00",
          "2017-12-20T23:46:00",
          "2017-12-09T18:28:00",
          "2017-12-20T14:49:00",
          "2017-12-12T19:30:00",
          "2017-12-23T14:51:00",
          "2017-12-15T12:43:00",
          "2017-12-12T20:58:00",
          "2017-12-19T11:35:00",
          "2017-12-04T13:07:00",
          "2017-12-24T08:49:00",
          "2017-12-04T15:44:00",
          "2017-12-12T15:17:00",
          "2017-12-15T18:02:00",
          "2017-12-09T06:45:00",
          "2017-11-29T14:45:00",
          "2017-12-11T21:11:00",
          "2017-12-21T02:46:00",
          "2017-12-25T13:49:00",
          "2017-12-04T12:52:00",
          "2017-12-14T17:19:00",
          "2017-12-21T20:48:00",
          "2017-12-04T15:21:00",
          "2017-12-13T11:42:00",
          "2017-12-12T18:10:00",
          "2017-11-29T22:23:00",
          "2017-12-24T06:39:00",
          "2017-12-23T13:50:00"
         ],
         "xaxis": "x",
         "y": [
          13598,
          15802,
          10195,
          6018,
          5799,
          4989,
          4519,
          7423,
          5618,
          5314,
          10940,
          4745,
          7356,
          3735,
          234,
          7952,
          2251,
          3472,
          1422,
          1260,
          3240,
          2719,
          1507,
          1985,
          1772,
          1457,
          2832,
          994,
          1030,
          941,
          371,
          1415,
          1628,
          4322,
          786,
          1378,
          929,
          3461,
          1108,
          1302,
          1519,
          2196,
          3315,
          414,
          3367,
          1049,
          3905,
          964,
          752,
          405,
          1181,
          455,
          2518,
          1458,
          1043,
          198,
          282,
          1155,
          953,
          2019,
          1338,
          955,
          924,
          1153,
          1226,
          708,
          2295,
          488,
          1455,
          1713,
          723,
          1170,
          320,
          1206,
          691,
          1122,
          552,
          978,
          678,
          1333,
          826,
          235,
          616,
          1129,
          701,
          1746,
          467,
          551,
          702,
          491,
          2662,
          196,
          170,
          298,
          456,
          883,
          777,
          383,
          481,
          1119
         ],
         "yaxis": "y"
        }
       ],
       "layout": {
        "legend": {
         "tracegroupgap": 0
        },
        "template": {
         "data": {
          "bar": [
           {
            "error_x": {
             "color": "#2a3f5f"
            },
            "error_y": {
             "color": "#2a3f5f"
            },
            "marker": {
             "line": {
              "color": "#E5ECF6",
              "width": 0.5
             },
             "pattern": {
              "fillmode": "overlay",
              "size": 10,
              "solidity": 0.2
             }
            },
            "type": "bar"
           }
          ],
          "barpolar": [
           {
            "marker": {
             "line": {
              "color": "#E5ECF6",
              "width": 0.5
             },
             "pattern": {
              "fillmode": "overlay",
              "size": 10,
              "solidity": 0.2
             }
            },
            "type": "barpolar"
           }
          ],
          "carpet": [
           {
            "aaxis": {
             "endlinecolor": "#2a3f5f",
             "gridcolor": "white",
             "linecolor": "white",
             "minorgridcolor": "white",
             "startlinecolor": "#2a3f5f"
            },
            "baxis": {
             "endlinecolor": "#2a3f5f",
             "gridcolor": "white",
             "linecolor": "white",
             "minorgridcolor": "white",
             "startlinecolor": "#2a3f5f"
            },
            "type": "carpet"
           }
          ],
          "choropleth": [
           {
            "colorbar": {
             "outlinewidth": 0,
             "ticks": ""
            },
            "type": "choropleth"
           }
          ],
          "contour": [
           {
            "colorbar": {
             "outlinewidth": 0,
             "ticks": ""
            },
            "colorscale": [
             [
              0,
              "#0d0887"
             ],
             [
              0.1111111111111111,
              "#46039f"
             ],
             [
              0.2222222222222222,
              "#7201a8"
             ],
             [
              0.3333333333333333,
              "#9c179e"
             ],
             [
              0.4444444444444444,
              "#bd3786"
             ],
             [
              0.5555555555555556,
              "#d8576b"
             ],
             [
              0.6666666666666666,
              "#ed7953"
             ],
             [
              0.7777777777777778,
              "#fb9f3a"
             ],
             [
              0.8888888888888888,
              "#fdca26"
             ],
             [
              1,
              "#f0f921"
             ]
            ],
            "type": "contour"
           }
          ],
          "contourcarpet": [
           {
            "colorbar": {
             "outlinewidth": 0,
             "ticks": ""
            },
            "type": "contourcarpet"
           }
          ],
          "heatmap": [
           {
            "colorbar": {
             "outlinewidth": 0,
             "ticks": ""
            },
            "colorscale": [
             [
              0,
              "#0d0887"
             ],
             [
              0.1111111111111111,
              "#46039f"
             ],
             [
              0.2222222222222222,
              "#7201a8"
             ],
             [
              0.3333333333333333,
              "#9c179e"
             ],
             [
              0.4444444444444444,
              "#bd3786"
             ],
             [
              0.5555555555555556,
              "#d8576b"
             ],
             [
              0.6666666666666666,
              "#ed7953"
             ],
             [
              0.7777777777777778,
              "#fb9f3a"
             ],
             [
              0.8888888888888888,
              "#fdca26"
             ],
             [
              1,
              "#f0f921"
             ]
            ],
            "type": "heatmap"
           }
          ],
          "heatmapgl": [
           {
            "colorbar": {
             "outlinewidth": 0,
             "ticks": ""
            },
            "colorscale": [
             [
              0,
              "#0d0887"
             ],
             [
              0.1111111111111111,
              "#46039f"
             ],
             [
              0.2222222222222222,
              "#7201a8"
             ],
             [
              0.3333333333333333,
              "#9c179e"
             ],
             [
              0.4444444444444444,
              "#bd3786"
             ],
             [
              0.5555555555555556,
              "#d8576b"
             ],
             [
              0.6666666666666666,
              "#ed7953"
             ],
             [
              0.7777777777777778,
              "#fb9f3a"
             ],
             [
              0.8888888888888888,
              "#fdca26"
             ],
             [
              1,
              "#f0f921"
             ]
            ],
            "type": "heatmapgl"
           }
          ],
          "histogram": [
           {
            "marker": {
             "pattern": {
              "fillmode": "overlay",
              "size": 10,
              "solidity": 0.2
             }
            },
            "type": "histogram"
           }
          ],
          "histogram2d": [
           {
            "colorbar": {
             "outlinewidth": 0,
             "ticks": ""
            },
            "colorscale": [
             [
              0,
              "#0d0887"
             ],
             [
              0.1111111111111111,
              "#46039f"
             ],
             [
              0.2222222222222222,
              "#7201a8"
             ],
             [
              0.3333333333333333,
              "#9c179e"
             ],
             [
              0.4444444444444444,
              "#bd3786"
             ],
             [
              0.5555555555555556,
              "#d8576b"
             ],
             [
              0.6666666666666666,
              "#ed7953"
             ],
             [
              0.7777777777777778,
              "#fb9f3a"
             ],
             [
              0.8888888888888888,
              "#fdca26"
             ],
             [
              1,
              "#f0f921"
             ]
            ],
            "type": "histogram2d"
           }
          ],
          "histogram2dcontour": [
           {
            "colorbar": {
             "outlinewidth": 0,
             "ticks": ""
            },
            "colorscale": [
             [
              0,
              "#0d0887"
             ],
             [
              0.1111111111111111,
              "#46039f"
             ],
             [
              0.2222222222222222,
              "#7201a8"
             ],
             [
              0.3333333333333333,
              "#9c179e"
             ],
             [
              0.4444444444444444,
              "#bd3786"
             ],
             [
              0.5555555555555556,
              "#d8576b"
             ],
             [
              0.6666666666666666,
              "#ed7953"
             ],
             [
              0.7777777777777778,
              "#fb9f3a"
             ],
             [
              0.8888888888888888,
              "#fdca26"
             ],
             [
              1,
              "#f0f921"
             ]
            ],
            "type": "histogram2dcontour"
           }
          ],
          "mesh3d": [
           {
            "colorbar": {
             "outlinewidth": 0,
             "ticks": ""
            },
            "type": "mesh3d"
           }
          ],
          "parcoords": [
           {
            "line": {
             "colorbar": {
              "outlinewidth": 0,
              "ticks": ""
             }
            },
            "type": "parcoords"
           }
          ],
          "pie": [
           {
            "automargin": true,
            "type": "pie"
           }
          ],
          "scatter": [
           {
            "fillpattern": {
             "fillmode": "overlay",
             "size": 10,
             "solidity": 0.2
            },
            "type": "scatter"
           }
          ],
          "scatter3d": [
           {
            "line": {
             "colorbar": {
              "outlinewidth": 0,
              "ticks": ""
             }
            },
            "marker": {
             "colorbar": {
              "outlinewidth": 0,
              "ticks": ""
             }
            },
            "type": "scatter3d"
           }
          ],
          "scattercarpet": [
           {
            "marker": {
             "colorbar": {
              "outlinewidth": 0,
              "ticks": ""
             }
            },
            "type": "scattercarpet"
           }
          ],
          "scattergeo": [
           {
            "marker": {
             "colorbar": {
              "outlinewidth": 0,
              "ticks": ""
             }
            },
            "type": "scattergeo"
           }
          ],
          "scattergl": [
           {
            "marker": {
             "colorbar": {
              "outlinewidth": 0,
              "ticks": ""
             }
            },
            "type": "scattergl"
           }
          ],
          "scattermapbox": [
           {
            "marker": {
             "colorbar": {
              "outlinewidth": 0,
              "ticks": ""
             }
            },
            "type": "scattermapbox"
           }
          ],
          "scatterpolar": [
           {
            "marker": {
             "colorbar": {
              "outlinewidth": 0,
              "ticks": ""
             }
            },
            "type": "scatterpolar"
           }
          ],
          "scatterpolargl": [
           {
            "marker": {
             "colorbar": {
              "outlinewidth": 0,
              "ticks": ""
             }
            },
            "type": "scatterpolargl"
           }
          ],
          "scatterternary": [
           {
            "marker": {
             "colorbar": {
              "outlinewidth": 0,
              "ticks": ""
             }
            },
            "type": "scatterternary"
           }
          ],
          "surface": [
           {
            "colorbar": {
             "outlinewidth": 0,
             "ticks": ""
            },
            "colorscale": [
             [
              0,
              "#0d0887"
             ],
             [
              0.1111111111111111,
              "#46039f"
             ],
             [
              0.2222222222222222,
              "#7201a8"
             ],
             [
              0.3333333333333333,
              "#9c179e"
             ],
             [
              0.4444444444444444,
              "#bd3786"
             ],
             [
              0.5555555555555556,
              "#d8576b"
             ],
             [
              0.6666666666666666,
              "#ed7953"
             ],
             [
              0.7777777777777778,
              "#fb9f3a"
             ],
             [
              0.8888888888888888,
              "#fdca26"
             ],
             [
              1,
              "#f0f921"
             ]
            ],
            "type": "surface"
           }
          ],
          "table": [
           {
            "cells": {
             "fill": {
              "color": "#EBF0F8"
             },
             "line": {
              "color": "white"
             }
            },
            "header": {
             "fill": {
              "color": "#C8D4E3"
             },
             "line": {
              "color": "white"
             }
            },
            "type": "table"
           }
          ]
         },
         "layout": {
          "annotationdefaults": {
           "arrowcolor": "#2a3f5f",
           "arrowhead": 0,
           "arrowwidth": 1
          },
          "autotypenumbers": "strict",
          "coloraxis": {
           "colorbar": {
            "outlinewidth": 0,
            "ticks": ""
           }
          },
          "colorscale": {
           "diverging": [
            [
             0,
             "#8e0152"
            ],
            [
             0.1,
             "#c51b7d"
            ],
            [
             0.2,
             "#de77ae"
            ],
            [
             0.3,
             "#f1b6da"
            ],
            [
             0.4,
             "#fde0ef"
            ],
            [
             0.5,
             "#f7f7f7"
            ],
            [
             0.6,
             "#e6f5d0"
            ],
            [
             0.7,
             "#b8e186"
            ],
            [
             0.8,
             "#7fbc41"
            ],
            [
             0.9,
             "#4d9221"
            ],
            [
             1,
             "#276419"
            ]
           ],
           "sequential": [
            [
             0,
             "#0d0887"
            ],
            [
             0.1111111111111111,
             "#46039f"
            ],
            [
             0.2222222222222222,
             "#7201a8"
            ],
            [
             0.3333333333333333,
             "#9c179e"
            ],
            [
             0.4444444444444444,
             "#bd3786"
            ],
            [
             0.5555555555555556,
             "#d8576b"
            ],
            [
             0.6666666666666666,
             "#ed7953"
            ],
            [
             0.7777777777777778,
             "#fb9f3a"
            ],
            [
             0.8888888888888888,
             "#fdca26"
            ],
            [
             1,
             "#f0f921"
            ]
           ],
           "sequentialminus": [
            [
             0,
             "#0d0887"
            ],
            [
             0.1111111111111111,
             "#46039f"
            ],
            [
             0.2222222222222222,
             "#7201a8"
            ],
            [
             0.3333333333333333,
             "#9c179e"
            ],
            [
             0.4444444444444444,
             "#bd3786"
            ],
            [
             0.5555555555555556,
             "#d8576b"
            ],
            [
             0.6666666666666666,
             "#ed7953"
            ],
            [
             0.7777777777777778,
             "#fb9f3a"
            ],
            [
             0.8888888888888888,
             "#fdca26"
            ],
            [
             1,
             "#f0f921"
            ]
           ]
          },
          "colorway": [
           "#636efa",
           "#EF553B",
           "#00cc96",
           "#ab63fa",
           "#FFA15A",
           "#19d3f3",
           "#FF6692",
           "#B6E880",
           "#FF97FF",
           "#FECB52"
          ],
          "font": {
           "color": "#2a3f5f"
          },
          "geo": {
           "bgcolor": "white",
           "lakecolor": "white",
           "landcolor": "#E5ECF6",
           "showlakes": true,
           "showland": true,
           "subunitcolor": "white"
          },
          "hoverlabel": {
           "align": "left"
          },
          "hovermode": "closest",
          "mapbox": {
           "style": "light"
          },
          "paper_bgcolor": "white",
          "plot_bgcolor": "#E5ECF6",
          "polar": {
           "angularaxis": {
            "gridcolor": "white",
            "linecolor": "white",
            "ticks": ""
           },
           "bgcolor": "#E5ECF6",
           "radialaxis": {
            "gridcolor": "white",
            "linecolor": "white",
            "ticks": ""
           }
          },
          "scene": {
           "xaxis": {
            "backgroundcolor": "#E5ECF6",
            "gridcolor": "white",
            "gridwidth": 2,
            "linecolor": "white",
            "showbackground": true,
            "ticks": "",
            "zerolinecolor": "white"
           },
           "yaxis": {
            "backgroundcolor": "#E5ECF6",
            "gridcolor": "white",
            "gridwidth": 2,
            "linecolor": "white",
            "showbackground": true,
            "ticks": "",
            "zerolinecolor": "white"
           },
           "zaxis": {
            "backgroundcolor": "#E5ECF6",
            "gridcolor": "white",
            "gridwidth": 2,
            "linecolor": "white",
            "showbackground": true,
            "ticks": "",
            "zerolinecolor": "white"
           }
          },
          "shapedefaults": {
           "line": {
            "color": "#2a3f5f"
           }
          },
          "ternary": {
           "aaxis": {
            "gridcolor": "white",
            "linecolor": "white",
            "ticks": ""
           },
           "baxis": {
            "gridcolor": "white",
            "linecolor": "white",
            "ticks": ""
           },
           "bgcolor": "#E5ECF6",
           "caxis": {
            "gridcolor": "white",
            "linecolor": "white",
            "ticks": ""
           }
          },
          "title": {
           "x": 0.05
          },
          "xaxis": {
           "automargin": true,
           "gridcolor": "white",
           "linecolor": "white",
           "ticks": "",
           "title": {
            "standoff": 15
           },
           "zerolinecolor": "white",
           "zerolinewidth": 2
          },
          "yaxis": {
           "automargin": true,
           "gridcolor": "white",
           "linecolor": "white",
           "ticks": "",
           "title": {
            "standoff": 15
           },
           "zerolinecolor": "white",
           "zerolinewidth": 2
          }
         }
        },
        "title": {
         "text": "Timeline of the 100 Most Retweeted Tweets"
        },
        "xaxis": {
         "anchor": "y",
         "domain": [
          0,
          1
         ],
         "title": {
          "text": "Date and Time"
         }
        },
        "yaxis": {
         "anchor": "x",
         "domain": [
          0,
          1
         ],
         "title": {
          "text": "Retweet Count"
         }
        }
       }
      }
     },
     "metadata": {},
     "output_type": "display_data"
    }
   ],
   "source": [
    "df_sorted_rt = df.sort_values(by='retweetCount', ascending=False)\n",
    "top_100_rt = df_sorted.head(100)\n",
    "top_100_rt['created'] = pd.to_datetime(top_100_rt['created'])\n",
    "pink_color = \"#FF95A3\"\n",
    "\n",
    "fig = px.scatter(\n",
    "    top_100_favorited,\n",
    "    x='created',\n",
    "    y='retweetCount',\n",
    "    title='Timeline of the 100 Most Retweeted Tweets',\n",
    "    labels={'created': 'Date and Time', 'retweetCount': 'Retweet Count'},\n",
    "    color_discrete_sequence=[pink_color]\n",
    ")\n",
    "\n",
    "fig.update_xaxes(title_text='Date and Time')\n",
    "fig.update_yaxes(title_text='Retweet Count')\n",
    "fig.show()\n"
   ]
  },
  {
   "cell_type": "code",
   "execution_count": 11,
   "metadata": {},
   "outputs": [
    {
     "data": {
      "application/vnd.plotly.v1+json": {
       "config": {
        "plotlyServerURL": "https://plot.ly"
       },
       "data": [
        {
         "hovertemplate": "Date and Time=%{x}<br>Retweet Count=%{y}<extra></extra>",
         "legendgroup": "",
         "line": {
          "color": "#FF95A3",
          "dash": "solid"
         },
         "marker": {
          "symbol": "circle"
         },
         "mode": "lines",
         "name": "",
         "orientation": "v",
         "showlegend": false,
         "type": "scatter",
         "x": [
          "2017-12-22T15:00:00",
          "2017-12-06T19:49:00",
          "2017-12-05T23:19:00",
          "2017-12-13T21:22:00",
          "2017-12-16T13:50:00",
          "2017-12-16T13:52:00",
          "2017-12-03T04:16:00",
          "2017-12-03T05:46:00",
          "2017-12-11T18:36:00",
          "2017-12-12T18:14:00",
          "2017-12-13T17:22:00",
          "2017-12-06T23:53:00",
          "2017-12-13T23:01:00",
          "2017-12-07T17:14:00",
          "2017-12-22T21:37:00",
          "2017-12-22T03:35:00",
          "2017-12-11T17:46:00",
          "2017-12-12T19:18:00",
          "2017-12-10T21:51:00",
          "2017-12-19T00:07:00",
          "2017-12-12T18:25:00",
          "2017-12-14T19:21:00",
          "2017-12-11T23:31:00",
          "2017-12-18T22:53:00",
          "2017-12-11T20:45:00",
          "2017-12-10T14:32:00",
          "2017-12-13T13:44:00",
          "2017-12-10T00:23:00",
          "2017-12-06T23:58:00",
          "2017-12-21T17:55:00",
          "2017-12-16T21:51:00",
          "2017-12-17T01:13:00",
          "2017-12-06T23:22:00",
          "2017-12-13T14:02:00",
          "2017-12-20T04:04:00",
          "2017-12-04T15:13:00",
          "2017-12-14T16:52:00",
          "2017-12-21T23:09:00",
          "2017-12-11T16:25:00",
          "2017-12-25T04:14:00",
          "2017-12-12T19:03:00",
          "2017-12-11T19:43:00",
          "2017-12-11T23:51:00",
          "2017-12-04T03:25:00",
          "2017-12-11T20:01:00",
          "2017-12-23T00:58:00",
          "2017-12-07T19:05:00",
          "2017-12-24T16:46:00",
          "2017-12-03T23:24:00",
          "2017-12-18T23:44:00",
          "2017-12-11T21:28:00",
          "2017-12-08T15:50:00",
          "2017-12-24T15:40:00",
          "2017-12-20T21:49:00",
          "2017-12-15T01:17:00",
          "2017-12-16T22:11:00",
          "2017-12-06T23:48:00",
          "2017-12-16T18:41:00",
          "2017-12-19T16:47:00",
          "2017-12-22T03:34:00",
          "2017-12-01T03:44:00",
          "2017-12-23T15:56:00",
          "2017-12-12T20:26:00",
          "2017-12-04T13:15:00",
          "2017-12-08T19:31:00",
          "2017-12-23T14:59:00",
          "2017-12-09T15:33:00",
          "2017-12-06T23:18:00",
          "2017-12-20T14:57:00",
          "2017-12-23T02:00:00",
          "2017-12-09T18:20:00",
          "2017-12-07T17:50:00",
          "2017-12-14T11:53:00",
          "2017-12-20T23:46:00",
          "2017-12-09T18:28:00",
          "2017-12-20T14:49:00",
          "2017-12-12T19:30:00",
          "2017-12-23T14:51:00",
          "2017-12-15T12:43:00",
          "2017-12-12T20:58:00",
          "2017-12-19T11:35:00",
          "2017-12-04T13:07:00",
          "2017-12-24T08:49:00",
          "2017-12-04T15:44:00",
          "2017-12-12T15:17:00",
          "2017-12-15T18:02:00",
          "2017-12-09T06:45:00",
          "2017-11-29T14:45:00",
          "2017-12-11T21:11:00",
          "2017-12-21T02:46:00",
          "2017-12-25T13:49:00",
          "2017-12-04T12:52:00",
          "2017-12-14T17:19:00",
          "2017-12-21T20:48:00",
          "2017-12-04T15:21:00",
          "2017-12-13T11:42:00",
          "2017-12-12T18:10:00",
          "2017-11-29T22:23:00",
          "2017-12-24T06:39:00",
          "2017-12-23T13:50:00"
         ],
         "xaxis": "x",
         "y": [
          13598,
          15802,
          10195,
          6018,
          5799,
          4989,
          4519,
          7423,
          5618,
          5314,
          10940,
          4745,
          7356,
          3735,
          234,
          7952,
          2251,
          3472,
          1422,
          1260,
          3240,
          2719,
          1507,
          1985,
          1772,
          1457,
          2832,
          994,
          1030,
          941,
          371,
          1415,
          1628,
          4322,
          786,
          1378,
          929,
          3461,
          1108,
          1302,
          1519,
          2196,
          3315,
          414,
          3367,
          1049,
          3905,
          964,
          752,
          405,
          1181,
          455,
          2518,
          1458,
          1043,
          198,
          282,
          1155,
          953,
          2019,
          1338,
          955,
          924,
          1153,
          1226,
          708,
          2295,
          488,
          1455,
          1713,
          723,
          1170,
          320,
          1206,
          691,
          1122,
          552,
          978,
          678,
          1333,
          826,
          235,
          616,
          1129,
          701,
          1746,
          467,
          551,
          702,
          491,
          2662,
          196,
          170,
          298,
          456,
          883,
          777,
          383,
          481,
          1119
         ],
         "yaxis": "y"
        }
       ],
       "layout": {
        "legend": {
         "tracegroupgap": 0
        },
        "template": {
         "data": {
          "bar": [
           {
            "error_x": {
             "color": "#2a3f5f"
            },
            "error_y": {
             "color": "#2a3f5f"
            },
            "marker": {
             "line": {
              "color": "#E5ECF6",
              "width": 0.5
             },
             "pattern": {
              "fillmode": "overlay",
              "size": 10,
              "solidity": 0.2
             }
            },
            "type": "bar"
           }
          ],
          "barpolar": [
           {
            "marker": {
             "line": {
              "color": "#E5ECF6",
              "width": 0.5
             },
             "pattern": {
              "fillmode": "overlay",
              "size": 10,
              "solidity": 0.2
             }
            },
            "type": "barpolar"
           }
          ],
          "carpet": [
           {
            "aaxis": {
             "endlinecolor": "#2a3f5f",
             "gridcolor": "white",
             "linecolor": "white",
             "minorgridcolor": "white",
             "startlinecolor": "#2a3f5f"
            },
            "baxis": {
             "endlinecolor": "#2a3f5f",
             "gridcolor": "white",
             "linecolor": "white",
             "minorgridcolor": "white",
             "startlinecolor": "#2a3f5f"
            },
            "type": "carpet"
           }
          ],
          "choropleth": [
           {
            "colorbar": {
             "outlinewidth": 0,
             "ticks": ""
            },
            "type": "choropleth"
           }
          ],
          "contour": [
           {
            "colorbar": {
             "outlinewidth": 0,
             "ticks": ""
            },
            "colorscale": [
             [
              0,
              "#0d0887"
             ],
             [
              0.1111111111111111,
              "#46039f"
             ],
             [
              0.2222222222222222,
              "#7201a8"
             ],
             [
              0.3333333333333333,
              "#9c179e"
             ],
             [
              0.4444444444444444,
              "#bd3786"
             ],
             [
              0.5555555555555556,
              "#d8576b"
             ],
             [
              0.6666666666666666,
              "#ed7953"
             ],
             [
              0.7777777777777778,
              "#fb9f3a"
             ],
             [
              0.8888888888888888,
              "#fdca26"
             ],
             [
              1,
              "#f0f921"
             ]
            ],
            "type": "contour"
           }
          ],
          "contourcarpet": [
           {
            "colorbar": {
             "outlinewidth": 0,
             "ticks": ""
            },
            "type": "contourcarpet"
           }
          ],
          "heatmap": [
           {
            "colorbar": {
             "outlinewidth": 0,
             "ticks": ""
            },
            "colorscale": [
             [
              0,
              "#0d0887"
             ],
             [
              0.1111111111111111,
              "#46039f"
             ],
             [
              0.2222222222222222,
              "#7201a8"
             ],
             [
              0.3333333333333333,
              "#9c179e"
             ],
             [
              0.4444444444444444,
              "#bd3786"
             ],
             [
              0.5555555555555556,
              "#d8576b"
             ],
             [
              0.6666666666666666,
              "#ed7953"
             ],
             [
              0.7777777777777778,
              "#fb9f3a"
             ],
             [
              0.8888888888888888,
              "#fdca26"
             ],
             [
              1,
              "#f0f921"
             ]
            ],
            "type": "heatmap"
           }
          ],
          "heatmapgl": [
           {
            "colorbar": {
             "outlinewidth": 0,
             "ticks": ""
            },
            "colorscale": [
             [
              0,
              "#0d0887"
             ],
             [
              0.1111111111111111,
              "#46039f"
             ],
             [
              0.2222222222222222,
              "#7201a8"
             ],
             [
              0.3333333333333333,
              "#9c179e"
             ],
             [
              0.4444444444444444,
              "#bd3786"
             ],
             [
              0.5555555555555556,
              "#d8576b"
             ],
             [
              0.6666666666666666,
              "#ed7953"
             ],
             [
              0.7777777777777778,
              "#fb9f3a"
             ],
             [
              0.8888888888888888,
              "#fdca26"
             ],
             [
              1,
              "#f0f921"
             ]
            ],
            "type": "heatmapgl"
           }
          ],
          "histogram": [
           {
            "marker": {
             "pattern": {
              "fillmode": "overlay",
              "size": 10,
              "solidity": 0.2
             }
            },
            "type": "histogram"
           }
          ],
          "histogram2d": [
           {
            "colorbar": {
             "outlinewidth": 0,
             "ticks": ""
            },
            "colorscale": [
             [
              0,
              "#0d0887"
             ],
             [
              0.1111111111111111,
              "#46039f"
             ],
             [
              0.2222222222222222,
              "#7201a8"
             ],
             [
              0.3333333333333333,
              "#9c179e"
             ],
             [
              0.4444444444444444,
              "#bd3786"
             ],
             [
              0.5555555555555556,
              "#d8576b"
             ],
             [
              0.6666666666666666,
              "#ed7953"
             ],
             [
              0.7777777777777778,
              "#fb9f3a"
             ],
             [
              0.8888888888888888,
              "#fdca26"
             ],
             [
              1,
              "#f0f921"
             ]
            ],
            "type": "histogram2d"
           }
          ],
          "histogram2dcontour": [
           {
            "colorbar": {
             "outlinewidth": 0,
             "ticks": ""
            },
            "colorscale": [
             [
              0,
              "#0d0887"
             ],
             [
              0.1111111111111111,
              "#46039f"
             ],
             [
              0.2222222222222222,
              "#7201a8"
             ],
             [
              0.3333333333333333,
              "#9c179e"
             ],
             [
              0.4444444444444444,
              "#bd3786"
             ],
             [
              0.5555555555555556,
              "#d8576b"
             ],
             [
              0.6666666666666666,
              "#ed7953"
             ],
             [
              0.7777777777777778,
              "#fb9f3a"
             ],
             [
              0.8888888888888888,
              "#fdca26"
             ],
             [
              1,
              "#f0f921"
             ]
            ],
            "type": "histogram2dcontour"
           }
          ],
          "mesh3d": [
           {
            "colorbar": {
             "outlinewidth": 0,
             "ticks": ""
            },
            "type": "mesh3d"
           }
          ],
          "parcoords": [
           {
            "line": {
             "colorbar": {
              "outlinewidth": 0,
              "ticks": ""
             }
            },
            "type": "parcoords"
           }
          ],
          "pie": [
           {
            "automargin": true,
            "type": "pie"
           }
          ],
          "scatter": [
           {
            "fillpattern": {
             "fillmode": "overlay",
             "size": 10,
             "solidity": 0.2
            },
            "type": "scatter"
           }
          ],
          "scatter3d": [
           {
            "line": {
             "colorbar": {
              "outlinewidth": 0,
              "ticks": ""
             }
            },
            "marker": {
             "colorbar": {
              "outlinewidth": 0,
              "ticks": ""
             }
            },
            "type": "scatter3d"
           }
          ],
          "scattercarpet": [
           {
            "marker": {
             "colorbar": {
              "outlinewidth": 0,
              "ticks": ""
             }
            },
            "type": "scattercarpet"
           }
          ],
          "scattergeo": [
           {
            "marker": {
             "colorbar": {
              "outlinewidth": 0,
              "ticks": ""
             }
            },
            "type": "scattergeo"
           }
          ],
          "scattergl": [
           {
            "marker": {
             "colorbar": {
              "outlinewidth": 0,
              "ticks": ""
             }
            },
            "type": "scattergl"
           }
          ],
          "scattermapbox": [
           {
            "marker": {
             "colorbar": {
              "outlinewidth": 0,
              "ticks": ""
             }
            },
            "type": "scattermapbox"
           }
          ],
          "scatterpolar": [
           {
            "marker": {
             "colorbar": {
              "outlinewidth": 0,
              "ticks": ""
             }
            },
            "type": "scatterpolar"
           }
          ],
          "scatterpolargl": [
           {
            "marker": {
             "colorbar": {
              "outlinewidth": 0,
              "ticks": ""
             }
            },
            "type": "scatterpolargl"
           }
          ],
          "scatterternary": [
           {
            "marker": {
             "colorbar": {
              "outlinewidth": 0,
              "ticks": ""
             }
            },
            "type": "scatterternary"
           }
          ],
          "surface": [
           {
            "colorbar": {
             "outlinewidth": 0,
             "ticks": ""
            },
            "colorscale": [
             [
              0,
              "#0d0887"
             ],
             [
              0.1111111111111111,
              "#46039f"
             ],
             [
              0.2222222222222222,
              "#7201a8"
             ],
             [
              0.3333333333333333,
              "#9c179e"
             ],
             [
              0.4444444444444444,
              "#bd3786"
             ],
             [
              0.5555555555555556,
              "#d8576b"
             ],
             [
              0.6666666666666666,
              "#ed7953"
             ],
             [
              0.7777777777777778,
              "#fb9f3a"
             ],
             [
              0.8888888888888888,
              "#fdca26"
             ],
             [
              1,
              "#f0f921"
             ]
            ],
            "type": "surface"
           }
          ],
          "table": [
           {
            "cells": {
             "fill": {
              "color": "#EBF0F8"
             },
             "line": {
              "color": "white"
             }
            },
            "header": {
             "fill": {
              "color": "#C8D4E3"
             },
             "line": {
              "color": "white"
             }
            },
            "type": "table"
           }
          ]
         },
         "layout": {
          "annotationdefaults": {
           "arrowcolor": "#2a3f5f",
           "arrowhead": 0,
           "arrowwidth": 1
          },
          "autotypenumbers": "strict",
          "coloraxis": {
           "colorbar": {
            "outlinewidth": 0,
            "ticks": ""
           }
          },
          "colorscale": {
           "diverging": [
            [
             0,
             "#8e0152"
            ],
            [
             0.1,
             "#c51b7d"
            ],
            [
             0.2,
             "#de77ae"
            ],
            [
             0.3,
             "#f1b6da"
            ],
            [
             0.4,
             "#fde0ef"
            ],
            [
             0.5,
             "#f7f7f7"
            ],
            [
             0.6,
             "#e6f5d0"
            ],
            [
             0.7,
             "#b8e186"
            ],
            [
             0.8,
             "#7fbc41"
            ],
            [
             0.9,
             "#4d9221"
            ],
            [
             1,
             "#276419"
            ]
           ],
           "sequential": [
            [
             0,
             "#0d0887"
            ],
            [
             0.1111111111111111,
             "#46039f"
            ],
            [
             0.2222222222222222,
             "#7201a8"
            ],
            [
             0.3333333333333333,
             "#9c179e"
            ],
            [
             0.4444444444444444,
             "#bd3786"
            ],
            [
             0.5555555555555556,
             "#d8576b"
            ],
            [
             0.6666666666666666,
             "#ed7953"
            ],
            [
             0.7777777777777778,
             "#fb9f3a"
            ],
            [
             0.8888888888888888,
             "#fdca26"
            ],
            [
             1,
             "#f0f921"
            ]
           ],
           "sequentialminus": [
            [
             0,
             "#0d0887"
            ],
            [
             0.1111111111111111,
             "#46039f"
            ],
            [
             0.2222222222222222,
             "#7201a8"
            ],
            [
             0.3333333333333333,
             "#9c179e"
            ],
            [
             0.4444444444444444,
             "#bd3786"
            ],
            [
             0.5555555555555556,
             "#d8576b"
            ],
            [
             0.6666666666666666,
             "#ed7953"
            ],
            [
             0.7777777777777778,
             "#fb9f3a"
            ],
            [
             0.8888888888888888,
             "#fdca26"
            ],
            [
             1,
             "#f0f921"
            ]
           ]
          },
          "colorway": [
           "#636efa",
           "#EF553B",
           "#00cc96",
           "#ab63fa",
           "#FFA15A",
           "#19d3f3",
           "#FF6692",
           "#B6E880",
           "#FF97FF",
           "#FECB52"
          ],
          "font": {
           "color": "#2a3f5f"
          },
          "geo": {
           "bgcolor": "white",
           "lakecolor": "white",
           "landcolor": "#E5ECF6",
           "showlakes": true,
           "showland": true,
           "subunitcolor": "white"
          },
          "hoverlabel": {
           "align": "left"
          },
          "hovermode": "closest",
          "mapbox": {
           "style": "light"
          },
          "paper_bgcolor": "white",
          "plot_bgcolor": "#E5ECF6",
          "polar": {
           "angularaxis": {
            "gridcolor": "white",
            "linecolor": "white",
            "ticks": ""
           },
           "bgcolor": "#E5ECF6",
           "radialaxis": {
            "gridcolor": "white",
            "linecolor": "white",
            "ticks": ""
           }
          },
          "scene": {
           "xaxis": {
            "backgroundcolor": "#E5ECF6",
            "gridcolor": "white",
            "gridwidth": 2,
            "linecolor": "white",
            "showbackground": true,
            "ticks": "",
            "zerolinecolor": "white"
           },
           "yaxis": {
            "backgroundcolor": "#E5ECF6",
            "gridcolor": "white",
            "gridwidth": 2,
            "linecolor": "white",
            "showbackground": true,
            "ticks": "",
            "zerolinecolor": "white"
           },
           "zaxis": {
            "backgroundcolor": "#E5ECF6",
            "gridcolor": "white",
            "gridwidth": 2,
            "linecolor": "white",
            "showbackground": true,
            "ticks": "",
            "zerolinecolor": "white"
           }
          },
          "shapedefaults": {
           "line": {
            "color": "#2a3f5f"
           }
          },
          "ternary": {
           "aaxis": {
            "gridcolor": "white",
            "linecolor": "white",
            "ticks": ""
           },
           "baxis": {
            "gridcolor": "white",
            "linecolor": "white",
            "ticks": ""
           },
           "bgcolor": "#E5ECF6",
           "caxis": {
            "gridcolor": "white",
            "linecolor": "white",
            "ticks": ""
           }
          },
          "title": {
           "x": 0.05
          },
          "xaxis": {
           "automargin": true,
           "gridcolor": "white",
           "linecolor": "white",
           "ticks": "",
           "title": {
            "standoff": 15
           },
           "zerolinecolor": "white",
           "zerolinewidth": 2
          },
          "yaxis": {
           "automargin": true,
           "gridcolor": "white",
           "linecolor": "white",
           "ticks": "",
           "title": {
            "standoff": 15
           },
           "zerolinecolor": "white",
           "zerolinewidth": 2
          }
         }
        },
        "title": {
         "text": "Timeline of the 100 Most Retweeted Tweets"
        },
        "xaxis": {
         "anchor": "y",
         "domain": [
          0,
          1
         ],
         "title": {
          "text": "Date and Time"
         }
        },
        "yaxis": {
         "anchor": "x",
         "domain": [
          0,
          1
         ],
         "title": {
          "text": "Retweet Count"
         }
        }
       }
      }
     },
     "metadata": {},
     "output_type": "display_data"
    }
   ],
   "source": [
    "df_sorted_rt = df.sort_values(by='retweetCount', ascending=False)\n",
    "top_100_rt = df_sorted.head(100)\n",
    "top_100_rt['created'] = pd.to_datetime(top_100_rt['created'])\n",
    "pink_color = \"#FF95A3\"\n",
    "\n",
    "fig = px.line(\n",
    "    top_100_favorited,\n",
    "    x='created',\n",
    "    y='retweetCount',\n",
    "    title='Timeline of the 100 Most Retweeted Tweets',\n",
    "    labels={'created': 'Date and Time', 'retweetCount': 'Retweet Count'},\n",
    "    color_discrete_sequence=[pink_color]\n",
    ")\n",
    "\n",
    "fig.update_xaxes(title_text='Date and Time')\n",
    "fig.update_yaxes(title_text='Retweet Count')\n",
    "fig.show()\n"
   ]
  },
  {
   "cell_type": "markdown",
   "metadata": {},
   "source": [
    "# 2.5 Examining the twitter users associated with popular tweets."
   ]
  },
  {
   "cell_type": "code",
   "execution_count": 18,
   "metadata": {},
   "outputs": [
    {
     "name": "stdout",
     "output_type": "stream",
     "text": [
      "Most Replied-To People:\n",
      "realDonaldTrump: 2062 replies\n",
      "Alyssa_Milano: 746 replies\n",
      "SenGillibrand: 662 replies\n",
      "rosemcgowan: 511 replies\n",
      "TIME: 435 replies\n",
      "thehill: 374 replies\n",
      "SenFranken: 313 replies\n",
      "CNN: 308 replies\n",
      "FoxNews: 271 replies\n",
      "morningmika: 225 replies\n"
     ]
    }
   ],
   "source": [
    "import pandas as pd\n",
    "from collections import Counter\n",
    "\n",
    "df = df.dropna(subset=['replyToSN'])\n",
    "mention_counts = Counter(df['replyToSN'])\n",
    "most_popular_people = mention_counts.most_common(10)  # Get the top 10 most mentioned people\n",
    "\n",
    "print(\"Most Replied-To People:\")\n",
    "for person, count in most_popular_people:\n",
    "    print(f\"{person}: {count} replies\")"
   ]
  },
  {
   "cell_type": "code",
   "execution_count": null,
   "metadata": {},
   "outputs": [],
   "source": []
  },
  {
   "cell_type": "code",
   "execution_count": null,
   "metadata": {},
   "outputs": [],
   "source": []
  }
 ],
 "metadata": {
  "kernelspec": {
   "display_name": "Python 3",
   "language": "python",
   "name": "python3"
  },
  "language_info": {
   "codemirror_mode": {
    "name": "ipython",
    "version": 3
   },
   "file_extension": ".py",
   "mimetype": "text/x-python",
   "name": "python",
   "nbconvert_exporter": "python",
   "pygments_lexer": "ipython3",
   "version": "3.11.4"
  }
 },
 "nbformat": 4,
 "nbformat_minor": 2
}
